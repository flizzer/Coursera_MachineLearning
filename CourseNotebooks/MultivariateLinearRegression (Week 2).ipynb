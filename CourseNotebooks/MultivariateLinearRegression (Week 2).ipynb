{
 "cells": [
  {
   "cell_type": "markdown",
   "metadata": {},
   "source": [
    "# Multivariate Linear Regression - [Week 2](https://www.coursera.org/learn/machine-learning/home/week/2)"
   ]
  },
  {
   "cell_type": "markdown",
   "metadata": {},
   "source": [
    "## Previous Hypothesis equation for a single feature (Linear Regression with one variable) was this...\n"
   ]
  },
  {
   "cell_type": "markdown",
   "metadata": {},
   "source": [
    "$h_\\theta(x) = \\theta_0 + \\theta_1x$"
   ]
  },
  {
   "cell_type": "markdown",
   "metadata": {},
   "source": [
    "## Similarly, the equation for multiple features (Multivariate Linear Regression) begins like this ..."
   ]
  },
  {
   "cell_type": "markdown",
   "metadata": {},
   "source": [
    "$h_\\theta(x) = \\theta_0 + \\theta_1x_1 + \\theta_2x_2 + ... + \\theta_nx_n$"
   ]
  },
  {
   "cell_type": "markdown",
   "metadata": {},
   "source": [
    "## This can be reduced down to this (See lecture slides for how we got here)..."
   ]
  },
  {
   "cell_type": "markdown",
   "metadata": {},
   "source": [
    "$h_\\theta(x) = \\theta^Tx$"
   ]
  },
  {
   "cell_type": "markdown",
   "metadata": {},
   "source": [
    "## New algorithm for Gradient Descent..."
   ]
  },
  {
   "cell_type": "markdown",
   "metadata": {},
   "source": [
    "$\\theta_j := \\theta_j - \\alpha\\frac{1}{m}\\sum_{i=1}^m(h_\\theta(x^{(i)}) - y^{(i)})x^{(i)}_j$"
   ]
  },
  {
   "cell_type": "markdown",
   "metadata": {},
   "source": [
    "## For Gradient Descent in Practice you can use [```feature scaling```](https://www.coursera.org/learn/machine-learning/supplement/CTA0D/gradient-descent-in-practice-i-feature-scaling) and [```mean normalization```](https://www.coursera.org/learn/machine-learning/supplement/CTA0D/gradient-descent-in-practice-i-feature-scaling) to apply the same scale and allow for faster convergence..."
   ]
  },
  {
   "cell_type": "markdown",
   "metadata": {},
   "source": [
    "### Feature Scaling...values should be within 1 or .5 of one another ideally..."
   ]
  },
  {
   "cell_type": "markdown",
   "metadata": {},
   "source": [
    "-1 <= $x_{(i)}$ <= 1"
   ]
  },
  {
   "cell_type": "markdown",
   "metadata": {},
   "source": [
    "-.5 <= $x_{(i)}$ <= .5"
   ]
  },
  {
   "cell_type": "markdown",
   "metadata": {},
   "source": [
    "Do this by dividing the feature value by the largest feature value.  For instance, if predicting house prices and x1 = the size in $feet^2$ and x2 = the number of bedrooms..."
   ]
  },
  {
   "cell_type": "markdown",
   "metadata": {},
   "source": [
    "$x_1 = \\frac{size(feet^2)}{<range of bedrooms in dataset>}$"
   ]
  },
  {
   "cell_type": "markdown",
   "metadata": {},
   "source": [
    "$x_2 = \\frac{number of bedrooms}{<rangeofbedroomsindataset>}$"
   ]
  },
  {
   "cell_type": "markdown",
   "metadata": {},
   "source": [
    "Basically defined as..."
   ]
  },
  {
   "cell_type": "markdown",
   "metadata": {},
   "source": [
    "$x_i := \\frac{x_i}{S_i}$"
   ]
  },
  {
   "cell_type": "markdown",
   "metadata": {},
   "source": [
    "### Mean Normalization...subtract the average value from a value and divide by the range of values..."
   ]
  },
  {
   "cell_type": "markdown",
   "metadata": {},
   "source": [
    "$x_i := \\frac{x_i - \\mu_i}{S_i}$"
   ]
  },
  {
   "cell_type": "markdown",
   "metadata": {},
   "source": [
    "## Computing Parameters Analytically..."
   ]
  },
  {
   "cell_type": "markdown",
   "metadata": {},
   "source": [
    "### Normal Equation..."
   ]
  },
  {
   "cell_type": "markdown",
   "metadata": {},
   "source": [
    "$\\theta =  (X^TX)^{-1}X^Ty$"
   ]
  },
  {
   "cell_type": "markdown",
   "metadata": {},
   "source": [
    "### *NOTE!!!* Doesn't require feature scaling, but isn't efficient if number of features gets beyond 10,000.  Need to use Gradient Descent if that's the case."
   ]
  },
  {
   "cell_type": "markdown",
   "metadata": {},
   "source": [
    "## Octave Tutorial..."
   ]
  },
  {
   "cell_type": "markdown",
   "metadata": {},
   "source": [
    "### Create an all ones matrix with dimensions of 3 x 1..."
   ]
  },
  {
   "cell_type": "code",
   "execution_count": 63,
   "metadata": {},
   "outputs": [
    {
     "name": "stdout",
     "output_type": "stream",
     "text": [
      "ans =\n",
      "\n",
      "   1\n",
      "   1\n",
      "   1\n",
      "\n"
     ]
    }
   ],
   "source": [
    "ones(3,1)"
   ]
  },
  {
   "cell_type": "markdown",
   "metadata": {},
   "source": [
    "### Create a 3 x 3 identity matrix..."
   ]
  },
  {
   "cell_type": "code",
   "execution_count": 5,
   "metadata": {},
   "outputs": [
    {
     "name": "stdout",
     "output_type": "stream",
     "text": [
      "ans =\n",
      "\n",
      "Diagonal Matrix\n",
      "\n",
      "   1   0   0\n",
      "   0   1   0\n",
      "   0   0   1\n",
      "\n"
     ]
    }
   ],
   "source": [
    "eye(3)"
   ]
  },
  {
   "cell_type": "markdown",
   "metadata": {},
   "source": [
    "### Ad-hoc Math..."
   ]
  },
  {
   "cell_type": "code",
   "execution_count": 6,
   "metadata": {},
   "outputs": [
    {
     "name": "stdout",
     "output_type": "stream",
     "text": [
      "ans =  2\n"
     ]
    }
   ],
   "source": [
    "1 + 1"
   ]
  },
  {
   "cell_type": "markdown",
   "metadata": {},
   "source": [
    "### Suppress output with ```;``` but tell Octave to display by listing the variable..."
   ]
  },
  {
   "cell_type": "code",
   "execution_count": 9,
   "metadata": {},
   "outputs": [
    {
     "name": "stdout",
     "output_type": "stream",
     "text": [
      "a =  3\n"
     ]
    }
   ],
   "source": [
    "a = sqrt(9);\n",
    "a"
   ]
  },
  {
   "cell_type": "markdown",
   "metadata": {},
   "source": [
    "### Create a matrix..."
   ]
  },
  {
   "cell_type": "code",
   "execution_count": 10,
   "metadata": {},
   "outputs": [
    {
     "name": "stdout",
     "output_type": "stream",
     "text": [
      "X =\n",
      "\n",
      "   1   2\n",
      "   3   4\n",
      "   5   6\n",
      "\n"
     ]
    }
   ],
   "source": [
    "X = [1,2; 3,4; 5,6]"
   ]
  },
  {
   "cell_type": "markdown",
   "metadata": {},
   "source": [
    "### Octave is case-sensitive..."
   ]
  },
  {
   "cell_type": "code",
   "execution_count": 11,
   "metadata": {},
   "outputs": [
    {
     "name": "stdout",
     "output_type": "stream",
     "text": [
      "error: 'x' undefined near line 1 column 6\n",
      "error: evaluating argument list element number 1\n"
     ]
    }
   ],
   "source": [
    "size(x)"
   ]
  },
  {
   "cell_type": "markdown",
   "metadata": {},
   "source": [
    "### Get the dimensions of X..."
   ]
  },
  {
   "cell_type": "code",
   "execution_count": 12,
   "metadata": {},
   "outputs": [
    {
     "name": "stdout",
     "output_type": "stream",
     "text": [
      "ans =\n",
      "\n",
      "   3   2\n",
      "\n"
     ]
    }
   ],
   "source": [
    "size(X)"
   ]
  },
  {
   "cell_type": "markdown",
   "metadata": {},
   "source": [
    "### Get the value of the specified index in the matrix X..."
   ]
  },
  {
   "cell_type": "code",
   "execution_count": 14,
   "metadata": {},
   "outputs": [
    {
     "name": "stdout",
     "output_type": "stream",
     "text": [
      "ans =  3\n"
     ]
    }
   ],
   "source": [
    "size(X,1)"
   ]
  },
  {
   "cell_type": "markdown",
   "metadata": {},
   "source": [
    "### Gets the length of the longest dimension..."
   ]
  },
  {
   "cell_type": "code",
   "execution_count": 15,
   "metadata": {},
   "outputs": [
    {
     "name": "stdout",
     "output_type": "stream",
     "text": [
      "ans =  3\n"
     ]
    }
   ],
   "source": [
    "length(X)"
   ]
  },
  {
   "cell_type": "markdown",
   "metadata": {},
   "source": [
    "### This is confusing for matrices, but this works better for vectors..."
   ]
  },
  {
   "cell_type": "code",
   "execution_count": 18,
   "metadata": {},
   "outputs": [
    {
     "name": "stdout",
     "output_type": "stream",
     "text": [
      "ans =  5\n"
     ]
    }
   ],
   "source": [
    "V = [1,2,3,4,5];\n",
    "length(V)"
   ]
  },
  {
   "cell_type": "markdown",
   "metadata": {},
   "source": [
    "### The ```help``` documentation confirms as much..."
   ]
  },
  {
   "cell_type": "code",
   "execution_count": 16,
   "metadata": {},
   "outputs": [
    {
     "name": "stdout",
     "output_type": "stream",
     "text": [
      "'length' is a built-in function from the file libinterp/corefcn/data.cc\n",
      "\n",
      " -- Built-in Function: length (A)\n",
      "     Return the length of the object A.\n",
      "\n",
      "     The length is 0 for empty objects, 1 for scalars, and the number of\n",
      "     elements for vectors.  For matrix objects, the length is the number\n",
      "     of rows or columns, whichever is greater (this odd definition is\n",
      "     used for compatibility with MATLAB).\n",
      "\n",
      "     See also: numel, size.\n",
      "\n",
      "\n",
      "Additional help for built-in functions and operators is\n",
      "available in the online version of the manual.  Use the command\n",
      "'doc <topic>' to search the manual index.\n",
      "\n",
      "Help and information about Octave is also available on the WWW\n",
      "at http://www.octave.org and via the help@octave.org\n",
      "mailing list.\n"
     ]
    }
   ],
   "source": [
    "help length"
   ]
  },
  {
   "cell_type": "markdown",
   "metadata": {},
   "source": [
    "### Get existing variables (although the command name is weird IMHO)..."
   ]
  },
  {
   "cell_type": "code",
   "execution_count": 21,
   "metadata": {},
   "outputs": [
    {
     "name": "stdout",
     "output_type": "stream",
     "text": [
      "Variables in the current scope:\n",
      "\n",
      "V    X    a    ans\n",
      "\n"
     ]
    }
   ],
   "source": [
    "who"
   ]
  },
  {
   "cell_type": "markdown",
   "metadata": {},
   "source": [
    "### Get variables with more details..."
   ]
  },
  {
   "cell_type": "code",
   "execution_count": 25,
   "metadata": {},
   "outputs": [
    {
     "name": "stdout",
     "output_type": "stream",
     "text": [
      "Variables in the current scope:\n",
      "\n",
      "   Attr Name        Size                     Bytes  Class\n",
      "   ==== ====        ====                     =====  ===== \n",
      "        V           1x5                         40  double\n",
      "        X           3x2                         48  double\n",
      "        ans         1x1                          8  double\n",
      "\n",
      "Total is 12 elements using 96 bytes\n",
      "\n"
     ]
    }
   ],
   "source": [
    "whos"
   ]
  },
  {
   "cell_type": "markdown",
   "metadata": {},
   "source": [
    "### Get rid of variable a..."
   ]
  },
  {
   "cell_type": "code",
   "execution_count": 24,
   "metadata": {},
   "outputs": [],
   "source": [
    "clear a"
   ]
  },
  {
   "cell_type": "code",
   "execution_count": null,
   "metadata": {},
   "outputs": [],
   "source": [
    "pwd"
   ]
  },
  {
   "cell_type": "code",
   "execution_count": 29,
   "metadata": {},
   "outputs": [
    {
     "name": "stdout",
     "output_type": "stream",
     "text": [
      "MultivariateLinearRegression (Week 2).ipynb\n",
      "README.md\n",
      "testvector.mat\n"
     ]
    }
   ],
   "source": [
    "ls"
   ]
  },
  {
   "cell_type": "markdown",
   "metadata": {},
   "source": [
    "### Save a variable to disk..."
   ]
  },
  {
   "cell_type": "code",
   "execution_count": 28,
   "metadata": {},
   "outputs": [],
   "source": [
    "save testvector.mat V"
   ]
  },
  {
   "cell_type": "markdown",
   "metadata": {},
   "source": [
    "### Get the file contents..."
   ]
  },
  {
   "cell_type": "code",
   "execution_count": 31,
   "metadata": {},
   "outputs": [
    {
     "name": "stdout",
     "output_type": "stream",
     "text": [
      "# Created by Octave 3.8.0, Fri Apr 10 23:20:34 2020 EDT <bdavis@macpro.local>\n",
      "# name: V\n",
      "# type: matrix\n",
      "# rows: 1\n",
      "# columns: 5\n",
      " 1 2 3 4 5\n",
      "\n",
      "\n",
      "\n"
     ]
    }
   ],
   "source": [
    "type testvector.mat"
   ]
  },
  {
   "cell_type": "markdown",
   "metadata": {},
   "source": [
    "### Load V back in..."
   ]
  },
  {
   "cell_type": "code",
   "execution_count": 36,
   "metadata": {},
   "outputs": [],
   "source": [
    "clear V\n",
    "load testvector.mat"
   ]
  },
  {
   "cell_type": "code",
   "execution_count": 37,
   "metadata": {},
   "outputs": [
    {
     "name": "stdout",
     "output_type": "stream",
     "text": [
      "Variables in the current scope:\n",
      "\n",
      "   Attr Name        Size                     Bytes  Class\n",
      "   ==== ====        ====                     =====  ===== \n",
      "        V           1x5                         40  double\n",
      "        X           3x2                         48  double\n",
      "        ans         1x1                          8  double\n",
      "\n",
      "Total is 12 elements using 96 bytes\n",
      "\n"
     ]
    }
   ],
   "source": [
    "whos"
   ]
  },
  {
   "cell_type": "code",
   "execution_count": 38,
   "metadata": {},
   "outputs": [
    {
     "name": "stdout",
     "output_type": "stream",
     "text": [
      "V =\n",
      "\n",
      "   1   2   3   4   5\n",
      "\n"
     ]
    }
   ],
   "source": [
    "V"
   ]
  },
  {
   "cell_type": "markdown",
   "metadata": {},
   "source": [
    "### Save in ascii formatted (human readable) text..."
   ]
  },
  {
   "cell_type": "code",
   "execution_count": 39,
   "metadata": {},
   "outputs": [],
   "source": [
    "save testvector.txt V -ascii"
   ]
  },
  {
   "cell_type": "code",
   "execution_count": 40,
   "metadata": {},
   "outputs": [
    {
     "name": "stdout",
     "output_type": "stream",
     "text": [
      "X =\n",
      "\n",
      "   1   2\n",
      "   3   4\n",
      "   5   6\n",
      "\n"
     ]
    }
   ],
   "source": [
    "X"
   ]
  },
  {
   "cell_type": "markdown",
   "metadata": {},
   "source": [
    "### Get only values in the 2nd column; note the use of the colon..."
   ]
  },
  {
   "cell_type": "code",
   "execution_count": 42,
   "metadata": {},
   "outputs": [
    {
     "name": "stdout",
     "output_type": "stream",
     "text": [
      "ans =\n",
      "\n",
      "   2\n",
      "   4\n",
      "   6\n",
      "\n"
     ]
    }
   ],
   "source": [
    "X(:,2)"
   ]
  },
  {
   "cell_type": "markdown",
   "metadata": {},
   "source": [
    "### Append values...in this case another column..."
   ]
  },
  {
   "cell_type": "code",
   "execution_count": 43,
   "metadata": {},
   "outputs": [
    {
     "name": "stdout",
     "output_type": "stream",
     "text": [
      "X =\n",
      "\n",
      "     1     2   100\n",
      "     3     4   101\n",
      "     5     6   102\n",
      "\n"
     ]
    }
   ],
   "source": [
    "X = [X, [100;101;102]]"
   ]
  },
  {
   "cell_type": "code",
   "execution_count": 45,
   "metadata": {},
   "outputs": [
    {
     "name": "stdout",
     "output_type": "stream",
     "text": [
      "ans =\n",
      "\n",
      "   3   3\n",
      "\n"
     ]
    }
   ],
   "source": [
    "size(X)"
   ]
  },
  {
   "cell_type": "markdown",
   "metadata": {},
   "source": [
    "### Put all elements of X in a column vector..."
   ]
  },
  {
   "cell_type": "code",
   "execution_count": 46,
   "metadata": {},
   "outputs": [
    {
     "name": "stdout",
     "output_type": "stream",
     "text": [
      "ans =\n",
      "\n",
      "     1\n",
      "     3\n",
      "     5\n",
      "     2\n",
      "     4\n",
      "     6\n",
      "   100\n",
      "   101\n",
      "   102\n",
      "\n"
     ]
    }
   ],
   "source": [
    "X(:)"
   ]
  },
  {
   "cell_type": "code",
   "execution_count": 48,
   "metadata": {},
   "outputs": [
    {
     "name": "stdout",
     "output_type": "stream",
     "text": [
      "Variables in the current scope:\n",
      "\n",
      "V    X    ans\n",
      "\n"
     ]
    }
   ],
   "source": [
    "who"
   ]
  },
  {
   "cell_type": "code",
   "execution_count": 49,
   "metadata": {},
   "outputs": [
    {
     "name": "stdout",
     "output_type": "stream",
     "text": [
      "Variables in the current scope:\n",
      "\n",
      "   Attr Name        Size                     Bytes  Class\n",
      "   ==== ====        ====                     =====  ===== \n",
      "        V           1x5                         40  double\n",
      "        X           3x3                         72  double\n",
      "        ans         9x1                         72  double\n",
      "\n",
      "Total is 23 elements using 184 bytes\n",
      "\n"
     ]
    }
   ],
   "source": [
    "whos"
   ]
  },
  {
   "cell_type": "code",
   "execution_count": 50,
   "metadata": {},
   "outputs": [
    {
     "name": "stdout",
     "output_type": "stream",
     "text": [
      "A =\n",
      "\n",
      "   1   2\n",
      "   3   4\n",
      "   5   6\n",
      "\n"
     ]
    }
   ],
   "source": [
    "A = [1,2;3,4;5,6]"
   ]
  },
  {
   "cell_type": "code",
   "execution_count": 51,
   "metadata": {},
   "outputs": [
    {
     "name": "stdout",
     "output_type": "stream",
     "text": [
      "B =\n",
      "\n",
      "   11   12\n",
      "   13   14\n",
      "   15   16\n",
      "\n"
     ]
    }
   ],
   "source": [
    "B = [11 12; 13 14; 15 16]"
   ]
  },
  {
   "cell_type": "code",
   "execution_count": 52,
   "metadata": {},
   "outputs": [
    {
     "name": "stdout",
     "output_type": "stream",
     "text": [
      "C =\n",
      "\n",
      "   1   1\n",
      "   2   2\n",
      "\n"
     ]
    }
   ],
   "source": [
    "C = [1 1; 2 2]"
   ]
  },
  {
   "cell_type": "markdown",
   "metadata": {},
   "source": [
    "### Multiply 2 matrices together..."
   ]
  },
  {
   "cell_type": "code",
   "execution_count": 53,
   "metadata": {},
   "outputs": [
    {
     "name": "stdout",
     "output_type": "stream",
     "text": [
      "ans =\n",
      "\n",
      "    5    5\n",
      "   11   11\n",
      "   17   17\n",
      "\n"
     ]
    }
   ],
   "source": [
    "A*C"
   ]
  },
  {
   "cell_type": "markdown",
   "metadata": {},
   "source": [
    "### Multiply element-wise.  Use of the ```.``` denotes for each element..."
   ]
  },
  {
   "cell_type": "code",
   "execution_count": 54,
   "metadata": {},
   "outputs": [
    {
     "name": "stdout",
     "output_type": "stream",
     "text": [
      "ans =\n",
      "\n",
      "   11   24\n",
      "   39   56\n",
      "   75   96\n",
      "\n"
     ]
    }
   ],
   "source": [
    "A .* B"
   ]
  },
  {
   "cell_type": "code",
   "execution_count": 55,
   "metadata": {},
   "outputs": [
    {
     "name": "stdout",
     "output_type": "stream",
     "text": [
      "v =\n",
      "\n",
      "   1\n",
      "   2\n",
      "   3\n",
      "\n"
     ]
    }
   ],
   "source": [
    "v = [1; 2; 3]"
   ]
  },
  {
   "cell_type": "code",
   "execution_count": 56,
   "metadata": {},
   "outputs": [
    {
     "name": "stdout",
     "output_type": "stream",
     "text": [
      "ans =\n",
      "\n",
      "   1.00000\n",
      "   0.50000\n",
      "   0.33333\n",
      "\n"
     ]
    }
   ],
   "source": [
    "1 ./ v"
   ]
  },
  {
   "cell_type": "markdown",
   "metadata": {},
   "source": [
    "### Use a logarithmic scale..."
   ]
  },
  {
   "cell_type": "code",
   "execution_count": 57,
   "metadata": {},
   "outputs": [
    {
     "name": "stdout",
     "output_type": "stream",
     "text": [
      "ans =\n",
      "\n",
      "   0.00000\n",
      "   0.69315\n",
      "   1.09861\n",
      "\n"
     ]
    }
   ],
   "source": [
    "log(v)"
   ]
  },
  {
   "cell_type": "markdown",
   "metadata": {},
   "source": [
    "### Get exponents of base ```e```"
   ]
  },
  {
   "cell_type": "code",
   "execution_count": 58,
   "metadata": {},
   "outputs": [
    {
     "name": "stdout",
     "output_type": "stream",
     "text": [
      "ans =\n",
      "\n",
      "    2.7183\n",
      "    7.3891\n",
      "   20.0855\n",
      "\n"
     ]
    }
   ],
   "source": [
    "exp(v)"
   ]
  },
  {
   "cell_type": "markdown",
   "metadata": {},
   "source": [
    "### Get the absolute value..."
   ]
  },
  {
   "cell_type": "code",
   "execution_count": 59,
   "metadata": {},
   "outputs": [
    {
     "name": "stdout",
     "output_type": "stream",
     "text": [
      "ans =\n",
      "\n",
      "   1\n",
      "   2\n",
      "   3\n",
      "\n"
     ]
    }
   ],
   "source": [
    "abs(v)"
   ]
  },
  {
   "cell_type": "code",
   "execution_count": 60,
   "metadata": {},
   "outputs": [
    {
     "name": "stdout",
     "output_type": "stream",
     "text": [
      "ans =\n",
      "\n",
      "  -1\n",
      "  -2\n",
      "  -3\n",
      "\n"
     ]
    }
   ],
   "source": [
    "-(v)"
   ]
  },
  {
   "cell_type": "markdown",
   "metadata": {},
   "source": [
    "### Add one to each element..."
   ]
  },
  {
   "cell_type": "code",
   "execution_count": 61,
   "metadata": {},
   "outputs": [
    {
     "name": "stdout",
     "output_type": "stream",
     "text": [
      "ans =\n",
      "\n",
      "   2\n",
      "   3\n",
      "   4\n",
      "\n"
     ]
    }
   ],
   "source": [
    "v + 1"
   ]
  },
  {
   "cell_type": "code",
   "execution_count": 62,
   "metadata": {},
   "outputs": [
    {
     "name": "stdout",
     "output_type": "stream",
     "text": [
      "A =\n",
      "\n",
      "   1   2\n",
      "   3   4\n",
      "   5   6\n",
      "\n"
     ]
    }
   ],
   "source": [
    "A"
   ]
  },
  {
   "cell_type": "markdown",
   "metadata": {},
   "source": [
    "### Get the transposed matrix of $A^T$..."
   ]
  },
  {
   "cell_type": "code",
   "execution_count": 64,
   "metadata": {},
   "outputs": [
    {
     "name": "stdout",
     "output_type": "stream",
     "text": [
      "ans =\n",
      "\n",
      "   1   3   5\n",
      "   2   4   6\n",
      "\n"
     ]
    }
   ],
   "source": [
    "A'"
   ]
  },
  {
   "cell_type": "markdown",
   "metadata": {},
   "source": [
    "### Get the max value..."
   ]
  },
  {
   "cell_type": "code",
   "execution_count": 65,
   "metadata": {},
   "outputs": [
    {
     "name": "stdout",
     "output_type": "stream",
     "text": [
      "a =\n",
      "\n",
      "    1.00000   15.00000    2.00000    0.50000\n",
      "\n"
     ]
    }
   ],
   "source": [
    "a = [1 15 2 0.5]"
   ]
  },
  {
   "cell_type": "code",
   "execution_count": 66,
   "metadata": {},
   "outputs": [
    {
     "name": "stdout",
     "output_type": "stream",
     "text": [
      "val =  15\n"
     ]
    }
   ],
   "source": [
    "val = max(a)"
   ]
  },
  {
   "cell_type": "markdown",
   "metadata": {},
   "source": [
    "```max()``` also has an overload that returns a tuple including the index..."
   ]
  },
  {
   "cell_type": "code",
   "execution_count": 67,
   "metadata": {},
   "outputs": [
    {
     "name": "stdout",
     "output_type": "stream",
     "text": [
      "val =  15\n",
      "ind =  2\n"
     ]
    }
   ],
   "source": [
    "[val, ind] = max(a)"
   ]
  },
  {
   "cell_type": "markdown",
   "metadata": {},
   "source": [
    "Taking the max of a matrix returns the max value of each column...again sort o strange behavior if not performing the operation in a certain context..."
   ]
  },
  {
   "cell_type": "code",
   "execution_count": 68,
   "metadata": {},
   "outputs": [
    {
     "name": "stdout",
     "output_type": "stream",
     "text": [
      "ans =\n",
      "\n",
      "   5   6\n",
      "\n"
     ]
    }
   ],
   "source": [
    "max(A)"
   ]
  },
  {
   "cell_type": "markdown",
   "metadata": {},
   "source": [
    "Element-wise comparison returning booleans..."
   ]
  },
  {
   "cell_type": "code",
   "execution_count": 69,
   "metadata": {},
   "outputs": [
    {
     "name": "stdout",
     "output_type": "stream",
     "text": [
      "ans =\n",
      "\n",
      "   1   0   1   1\n",
      "\n"
     ]
    }
   ],
   "source": [
    "a < 3"
   ]
  },
  {
   "cell_type": "markdown",
   "metadata": {},
   "source": [
    "### Magics..."
   ]
  },
  {
   "cell_type": "markdown",
   "metadata": {},
   "source": [
    "Magics have the special property where the sum of each row, column, and diagonal equal the same number..."
   ]
  },
  {
   "cell_type": "code",
   "execution_count": 71,
   "metadata": {},
   "outputs": [
    {
     "name": "stdout",
     "output_type": "stream",
     "text": [
      "'magic' is a function from the file /usr/local/octave/3.8.0/share/octave/3.8.0/m/special-matrix/magic.m\n",
      "\n",
      " -- Function File: magic (N)\n",
      "\n",
      "     Create an N-by-N magic square.  A magic square is an arrangement of\n",
      "     the integers '1:n^2' such that the row sums, column sums, and\n",
      "     diagonal sums are all equal to the same value.\n",
      "\n",
      "     Note: N must be greater than 2 for the magic square to exist.\n",
      "\n",
      "\n",
      "Additional help for built-in functions and operators is\n",
      "available in the online version of the manual.  Use the command\n",
      "'doc <topic>' to search the manual index.\n",
      "\n",
      "Help and information about Octave is also available on the WWW\n",
      "at http://www.octave.org and via the help@octave.org\n",
      "mailing list.\n"
     ]
    }
   ],
   "source": [
    "help magic"
   ]
  },
  {
   "cell_type": "code",
   "execution_count": 73,
   "metadata": {},
   "outputs": [
    {
     "name": "stdout",
     "output_type": "stream",
     "text": [
      "A =\n",
      "\n",
      "   8   1   6\n",
      "   3   5   7\n",
      "   4   9   2\n",
      "\n"
     ]
    }
   ],
   "source": [
    "A = magic(3)"
   ]
  },
  {
   "cell_type": "markdown",
   "metadata": {},
   "source": [
    "Return the row and column indices where the values match the condition..."
   ]
  },
  {
   "cell_type": "code",
   "execution_count": 74,
   "metadata": {},
   "outputs": [
    {
     "name": "stdout",
     "output_type": "stream",
     "text": [
      "r =\n",
      "\n",
      "   1\n",
      "   3\n",
      "   2\n",
      "\n",
      "c =\n",
      "\n",
      "   1\n",
      "   2\n",
      "   3\n",
      "\n"
     ]
    }
   ],
   "source": [
    "[r,c] = find(A >= 7)"
   ]
  },
  {
   "cell_type": "markdown",
   "metadata": {},
   "source": [
    "### Other operations..."
   ]
  },
  {
   "cell_type": "code",
   "execution_count": 77,
   "metadata": {},
   "outputs": [
    {
     "name": "stdout",
     "output_type": "stream",
     "text": [
      "a =\n",
      "\n",
      "    1.00000   15.00000    2.00000    0.50000\n",
      "\n"
     ]
    }
   ],
   "source": [
    "a"
   ]
  },
  {
   "cell_type": "markdown",
   "metadata": {},
   "source": [
    "Sum each element..."
   ]
  },
  {
   "cell_type": "code",
   "execution_count": 75,
   "metadata": {},
   "outputs": [
    {
     "name": "stdout",
     "output_type": "stream",
     "text": [
      "ans =  18.500\n"
     ]
    }
   ],
   "source": [
    "sum(a)"
   ]
  },
  {
   "cell_type": "markdown",
   "metadata": {},
   "source": [
    "Multiply each element..."
   ]
  },
  {
   "cell_type": "code",
   "execution_count": 76,
   "metadata": {},
   "outputs": [
    {
     "name": "stdout",
     "output_type": "stream",
     "text": [
      "ans =  15\n"
     ]
    }
   ],
   "source": [
    "prod(a)"
   ]
  },
  {
   "cell_type": "markdown",
   "metadata": {},
   "source": [
    "Get the ceiling values of each element rounded up to the nearest int..."
   ]
  },
  {
   "cell_type": "code",
   "execution_count": 79,
   "metadata": {},
   "outputs": [
    {
     "name": "stdout",
     "output_type": "stream",
     "text": [
      "ans =\n",
      "\n",
      "    1   15    2    1\n",
      "\n"
     ]
    }
   ],
   "source": [
    "ceil(a)"
   ]
  },
  {
   "cell_type": "markdown",
   "metadata": {},
   "source": [
    "Get the floor values of each element rounded down to the nearest int..."
   ]
  },
  {
   "cell_type": "code",
   "execution_count": 80,
   "metadata": {},
   "outputs": [
    {
     "name": "stdout",
     "output_type": "stream",
     "text": [
      "ans =\n",
      "\n",
      "    1   15    2    0\n",
      "\n"
     ]
    }
   ],
   "source": [
    "floor(a)"
   ]
  },
  {
   "cell_type": "markdown",
   "metadata": {},
   "source": [
    "Create a random 3 x 3 matrix..."
   ]
  },
  {
   "cell_type": "code",
   "execution_count": 81,
   "metadata": {},
   "outputs": [
    {
     "name": "stdout",
     "output_type": "stream",
     "text": [
      "ans =\n",
      "\n",
      "   0.70554   0.98675   0.81799\n",
      "   0.71289   0.41434   0.93955\n",
      "   0.67318   0.47208   0.77214\n",
      "\n"
     ]
    }
   ],
   "source": [
    "rand(3)"
   ]
  },
  {
   "cell_type": "markdown",
   "metadata": {},
   "source": [
    "Take the max element-wise value of 2 3x3 matrices..."
   ]
  },
  {
   "cell_type": "code",
   "execution_count": 82,
   "metadata": {},
   "outputs": [
    {
     "name": "stdout",
     "output_type": "stream",
     "text": [
      "ans =\n",
      "\n",
      "   0.76846   0.47103   0.29120\n",
      "   0.93325   0.45812   0.87762\n",
      "   0.93984   0.41801   0.38614\n",
      "\n"
     ]
    }
   ],
   "source": [
    "max(rand(3), rand(3))"
   ]
  },
  {
   "cell_type": "code",
   "execution_count": 83,
   "metadata": {},
   "outputs": [
    {
     "name": "stdout",
     "output_type": "stream",
     "text": [
      "A =\n",
      "\n",
      "   8   1   6\n",
      "   3   5   7\n",
      "   4   9   2\n",
      "\n"
     ]
    }
   ],
   "source": [
    "A"
   ]
  },
  {
   "cell_type": "markdown",
   "metadata": {},
   "source": [
    "Take the max column-wise value...denoted by the ```[]``` and ```1```"
   ]
  },
  {
   "cell_type": "code",
   "execution_count": 84,
   "metadata": {},
   "outputs": [
    {
     "name": "stdout",
     "output_type": "stream",
     "text": [
      "ans =\n",
      "\n",
      "   8   9   7\n",
      "\n"
     ]
    }
   ],
   "source": [
    "max(A,[],1)"
   ]
  },
  {
   "cell_type": "markdown",
   "metadata": {},
   "source": [
    "Take the max row-wise value...denoted by the ```[]``` and ```2```"
   ]
  },
  {
   "cell_type": "code",
   "execution_count": 85,
   "metadata": {},
   "outputs": [
    {
     "name": "stdout",
     "output_type": "stream",
     "text": [
      "ans =\n",
      "\n",
      "   8\n",
      "   7\n",
      "   9\n",
      "\n"
     ]
    }
   ],
   "source": [
    "max(A,[],2)"
   ]
  },
  {
   "cell_type": "markdown",
   "metadata": {},
   "source": [
    "Default is column-wise which is the same thing as ```max(A,[],1)```..."
   ]
  },
  {
   "cell_type": "code",
   "execution_count": 86,
   "metadata": {},
   "outputs": [
    {
     "name": "stdout",
     "output_type": "stream",
     "text": [
      "ans =\n",
      "\n",
      "   8   9   7\n",
      "\n"
     ]
    }
   ],
   "source": [
    "max(A)"
   ]
  },
  {
   "cell_type": "markdown",
   "metadata": {},
   "source": [
    "To get global max, can do one of two ways..."
   ]
  },
  {
   "cell_type": "code",
   "execution_count": 87,
   "metadata": {},
   "outputs": [
    {
     "name": "stdout",
     "output_type": "stream",
     "text": [
      "ans =  9\n"
     ]
    }
   ],
   "source": [
    "max(max(A))"
   ]
  },
  {
   "cell_type": "markdown",
   "metadata": {},
   "source": [
    "*or* convert the matrix to a vector..."
   ]
  },
  {
   "cell_type": "code",
   "execution_count": 88,
   "metadata": {},
   "outputs": [
    {
     "name": "stdout",
     "output_type": "stream",
     "text": [
      "ans =\n",
      "\n",
      "   8\n",
      "   3\n",
      "   4\n",
      "   1\n",
      "   5\n",
      "   9\n",
      "   6\n",
      "   7\n",
      "   2\n",
      "\n"
     ]
    }
   ],
   "source": [
    "A(:)"
   ]
  },
  {
   "cell_type": "code",
   "execution_count": 89,
   "metadata": {},
   "outputs": [
    {
     "name": "stdout",
     "output_type": "stream",
     "text": [
      "ans =  9\n"
     ]
    }
   ],
   "source": [
    "max(A(:))"
   ]
  },
  {
   "cell_type": "markdown",
   "metadata": {},
   "source": [
    "## More fun with magics...😁"
   ]
  },
  {
   "cell_type": "code",
   "execution_count": 90,
   "metadata": {},
   "outputs": [
    {
     "name": "stdout",
     "output_type": "stream",
     "text": [
      "A =\n",
      "\n",
      "   47   58   69   80    1   12   23   34   45\n",
      "   57   68   79    9   11   22   33   44   46\n",
      "   67   78    8   10   21   32   43   54   56\n",
      "   77    7   18   20   31   42   53   55   66\n",
      "    6   17   19   30   41   52   63   65   76\n",
      "   16   27   29   40   51   62   64   75    5\n",
      "   26   28   39   50   61   72   74    4   15\n",
      "   36   38   49   60   71   73    3   14   25\n",
      "   37   48   59   70   81    2   13   24   35\n",
      "\n"
     ]
    }
   ],
   "source": [
    "A = magic(9)"
   ]
  },
  {
   "cell_type": "markdown",
   "metadata": {},
   "source": [
    "### Verify sums of each column are the same..."
   ]
  },
  {
   "cell_type": "code",
   "execution_count": 91,
   "metadata": {},
   "outputs": [
    {
     "name": "stdout",
     "output_type": "stream",
     "text": [
      "ans =\n",
      "\n",
      "   369   369   369   369   369   369   369   369   369\n",
      "\n"
     ]
    }
   ],
   "source": [
    "sum(A,1)"
   ]
  },
  {
   "cell_type": "markdown",
   "metadata": {},
   "source": [
    "### Verify sums of each row are the same..."
   ]
  },
  {
   "cell_type": "code",
   "execution_count": 92,
   "metadata": {},
   "outputs": [
    {
     "name": "stdout",
     "output_type": "stream",
     "text": [
      "ans =\n",
      "\n",
      "   369\n",
      "   369\n",
      "   369\n",
      "   369\n",
      "   369\n",
      "   369\n",
      "   369\n",
      "   369\n",
      "   369\n",
      "\n"
     ]
    }
   ],
   "source": [
    "sum(A,2)"
   ]
  },
  {
   "cell_type": "markdown",
   "metadata": {},
   "source": [
    "### Verify sums of each diagonal are the same..."
   ]
  },
  {
   "cell_type": "markdown",
   "metadata": {},
   "source": [
    "Create an identity matrix of the same dimensions..."
   ]
  },
  {
   "cell_type": "code",
   "execution_count": 94,
   "metadata": {},
   "outputs": [
    {
     "name": "stdout",
     "output_type": "stream",
     "text": [
      "ans =\n",
      "\n",
      "Diagonal Matrix\n",
      "\n",
      "   1   0   0   0   0   0   0   0   0\n",
      "   0   1   0   0   0   0   0   0   0\n",
      "   0   0   1   0   0   0   0   0   0\n",
      "   0   0   0   1   0   0   0   0   0\n",
      "   0   0   0   0   1   0   0   0   0\n",
      "   0   0   0   0   0   1   0   0   0\n",
      "   0   0   0   0   0   0   1   0   0\n",
      "   0   0   0   0   0   0   0   1   0\n",
      "   0   0   0   0   0   0   0   0   1\n",
      "\n"
     ]
    }
   ],
   "source": [
    "eye(9)"
   ]
  },
  {
   "cell_type": "markdown",
   "metadata": {},
   "source": [
    "Multiply each diagonal element by the identity matrix which should leave only non-zero diagonal values..."
   ]
  },
  {
   "cell_type": "code",
   "execution_count": 95,
   "metadata": {},
   "outputs": [
    {
     "name": "stdout",
     "output_type": "stream",
     "text": [
      "ans =\n",
      "\n",
      "   47    0    0    0    0    0    0    0    0\n",
      "    0   68    0    0    0    0    0    0    0\n",
      "    0    0    8    0    0    0    0    0    0\n",
      "    0    0    0   20    0    0    0    0    0\n",
      "    0    0    0    0   41    0    0    0    0\n",
      "    0    0    0    0    0   62    0    0    0\n",
      "    0    0    0    0    0    0   74    0    0\n",
      "    0    0    0    0    0    0    0   14    0\n",
      "    0    0    0    0    0    0    0    0   35\n",
      "\n"
     ]
    }
   ],
   "source": [
    "A .* eye(9)"
   ]
  },
  {
   "cell_type": "markdown",
   "metadata": {},
   "source": [
    "Sum each column, which should just return the diagonal value in each column..."
   ]
  },
  {
   "cell_type": "code",
   "execution_count": 96,
   "metadata": {},
   "outputs": [
    {
     "name": "stdout",
     "output_type": "stream",
     "text": [
      "ans =\n",
      "\n",
      "   47   68    8   20   41   62   74   14   35\n",
      "\n"
     ]
    }
   ],
   "source": [
    "sum(A.*eye(9))"
   ]
  },
  {
   "cell_type": "markdown",
   "metadata": {},
   "source": [
    "Sum the sums..."
   ]
  },
  {
   "cell_type": "code",
   "execution_count": 97,
   "metadata": {},
   "outputs": [
    {
     "name": "stdout",
     "output_type": "stream",
     "text": [
      "ans =  369\n"
     ]
    }
   ],
   "source": [
    "sum(sum(A.*eye(9)))"
   ]
  },
  {
   "cell_type": "markdown",
   "metadata": {},
   "source": [
    "Can also sum the other diagonals..."
   ]
  },
  {
   "cell_type": "code",
   "execution_count": 101,
   "metadata": {},
   "outputs": [
    {
     "name": "stdout",
     "output_type": "stream",
     "text": [
      "ans =  369\n"
     ]
    }
   ],
   "source": [
    "sum(sum(A.*eye(9)))"
   ]
  },
  {
   "cell_type": "markdown",
   "metadata": {},
   "source": [
    "Alternate syntax..."
   ]
  },
  {
   "cell_type": "code",
   "execution_count": 100,
   "metadata": {},
   "outputs": [
    {
     "name": "stdout",
     "output_type": "stream",
     "text": [
      "ans =  369\n"
     ]
    }
   ],
   "source": [
    "sum(sum(A.*flipud(eye(9))))"
   ]
  },
  {
   "cell_type": "code",
   "execution_count": 99,
   "metadata": {},
   "outputs": [
    {
     "name": "stdout",
     "output_type": "stream",
     "text": [
      "ans =\n",
      "\n",
      "Permutation Matrix\n",
      "\n",
      "   0   0   0   0   0   0   0   0   1\n",
      "   0   0   0   0   0   0   0   1   0\n",
      "   0   0   0   0   0   0   1   0   0\n",
      "   0   0   0   0   0   1   0   0   0\n",
      "   0   0   0   0   1   0   0   0   0\n",
      "   0   0   0   1   0   0   0   0   0\n",
      "   0   0   1   0   0   0   0   0   0\n",
      "   0   1   0   0   0   0   0   0   0\n",
      "   1   0   0   0   0   0   0   0   0\n",
      "\n"
     ]
    }
   ],
   "source": [
    "flipud(eye(9))"
   ]
  },
  {
   "cell_type": "markdown",
   "metadata": {},
   "source": [
    "## Inverses..."
   ]
  },
  {
   "cell_type": "code",
   "execution_count": 102,
   "metadata": {},
   "outputs": [
    {
     "name": "stdout",
     "output_type": "stream",
     "text": [
      "A =\n",
      "\n",
      "   8   1   6\n",
      "   3   5   7\n",
      "   4   9   2\n",
      "\n"
     ]
    }
   ],
   "source": [
    "A = magic(3)"
   ]
  },
  {
   "cell_type": "markdown",
   "metadata": {},
   "source": [
    "### Get the inverse matrix of A ($A^{-1}$)..."
   ]
  },
  {
   "cell_type": "code",
   "execution_count": 103,
   "metadata": {},
   "outputs": [
    {
     "name": "stdout",
     "output_type": "stream",
     "text": [
      "ans =\n",
      "\n",
      "   0.147222  -0.144444   0.063889\n",
      "  -0.061111   0.022222   0.105556\n",
      "  -0.019444   0.188889  -0.102778\n",
      "\n"
     ]
    }
   ],
   "source": [
    "pinv(A)"
   ]
  },
  {
   "cell_type": "code",
   "execution_count": 104,
   "metadata": {},
   "outputs": [
    {
     "name": "stdout",
     "output_type": "stream",
     "text": [
      "temp =\n",
      "\n",
      "   0.147222  -0.144444   0.063889\n",
      "  -0.061111   0.022222   0.105556\n",
      "  -0.019444   0.188889  -0.102778\n",
      "\n"
     ]
    }
   ],
   "source": [
    "temp = pinv(A)"
   ]
  },
  {
   "cell_type": "markdown",
   "metadata": {},
   "source": [
    "### Multiplying $A^{-1}$ by A basically returns the identity matrix..."
   ]
  },
  {
   "cell_type": "code",
   "execution_count": 105,
   "metadata": {},
   "outputs": [
    {
     "name": "stdout",
     "output_type": "stream",
     "text": [
      "ans =\n",
      "\n",
      "   1.00000   0.00000  -0.00000\n",
      "  -0.00000   1.00000   0.00000\n",
      "   0.00000   0.00000   1.00000\n",
      "\n"
     ]
    }
   ],
   "source": [
    "temp * A"
   ]
  },
  {
   "cell_type": "markdown",
   "metadata": {},
   "source": [
    "## Plotting Data..."
   ]
  },
  {
   "cell_type": "markdown",
   "metadata": {},
   "source": [
    "### Generate some data to plot starting with 0.0 and incrementing by .01 until reaching .98..."
   ]
  },
  {
   "cell_type": "code",
   "execution_count": 1,
   "metadata": {},
   "outputs": [
    {
     "name": "stdout",
     "output_type": "stream",
     "text": [
      "t =\n",
      "\n",
      " Columns 1 through 8:\n",
      "\n",
      "   0.00000   0.01000   0.02000   0.03000   0.04000   0.05000   0.06000   0.07000\n",
      "\n",
      " Columns 9 through 16:\n",
      "\n",
      "   0.08000   0.09000   0.10000   0.11000   0.12000   0.13000   0.14000   0.15000\n",
      "\n",
      " Columns 17 through 24:\n",
      "\n",
      "   0.16000   0.17000   0.18000   0.19000   0.20000   0.21000   0.22000   0.23000\n",
      "\n",
      " Columns 25 through 32:\n",
      "\n",
      "   0.24000   0.25000   0.26000   0.27000   0.28000   0.29000   0.30000   0.31000\n",
      "\n",
      " Columns 33 through 40:\n",
      "\n",
      "   0.32000   0.33000   0.34000   0.35000   0.36000   0.37000   0.38000   0.39000\n",
      "\n",
      " Columns 41 through 48:\n",
      "\n",
      "   0.40000   0.41000   0.42000   0.43000   0.44000   0.45000   0.46000   0.47000\n",
      "\n",
      " Columns 49 through 56:\n",
      "\n",
      "   0.48000   0.49000   0.50000   0.51000   0.52000   0.53000   0.54000   0.55000\n",
      "\n",
      " Columns 57 through 64:\n",
      "\n",
      "   0.56000   0.57000   0.58000   0.59000   0.60000   0.61000   0.62000   0.63000\n",
      "\n",
      " Columns 65 through 72:\n",
      "\n",
      "   0.64000   0.65000   0.66000   0.67000   0.68000   0.69000   0.70000   0.71000\n",
      "\n",
      " Columns 73 through 80:\n",
      "\n",
      "   0.72000   0.73000   0.74000   0.75000   0.76000   0.77000   0.78000   0.79000\n",
      "\n",
      " Columns 81 through 88:\n",
      "\n",
      "   0.80000   0.81000   0.82000   0.83000   0.84000   0.85000   0.86000   0.87000\n",
      "\n",
      " Columns 89 through 96:\n",
      "\n",
      "   0.88000   0.89000   0.90000   0.91000   0.92000   0.93000   0.94000   0.95000\n",
      "\n",
      " Columns 97 through 99:\n",
      "\n",
      "   0.96000   0.97000   0.98000\n",
      "\n"
     ]
    }
   ],
   "source": [
    "t = [0:0.01:0.98]"
   ]
  },
  {
   "cell_type": "code",
   "execution_count": 2,
   "metadata": {},
   "outputs": [],
   "source": [
    "y1 = sin(2*pi*4*t);"
   ]
  },
  {
   "cell_type": "markdown",
   "metadata": {},
   "source": [
    "### For inline plotting to work, the [octave kernel documentation](https://github.com/Calysto/octave_kernel) mentions needing to install ```gnuplot```.  I installed it by using the ```brew``` command from [this article](http://macappstore.org/gnuplot/)..."
   ]
  },
  {
   "cell_type": "code",
   "execution_count": 3,
   "metadata": {},
   "outputs": [
    {
     "data": {
      "image/png": "[encoded data removed]",
      "text/plain": [
       "<IPython.core.display.Image object>"
      ]
     },
     "metadata": {},
     "output_type": "display_data"
    }
   ],
   "source": [
    "plot(t,y1)"
   ]
  },
  {
   "cell_type": "code",
   "execution_count": 4,
   "metadata": {},
   "outputs": [],
   "source": [
    "y2 = cos(2*pi*4*t);"
   ]
  },
  {
   "cell_type": "code",
   "execution_count": 5,
   "metadata": {},
   "outputs": [
    {
     "data": {
      "image/png": "[encoded data removed]",
      "text/plain": [
       "<IPython.core.display.Image object>"
      ]
     },
     "metadata": {},
     "output_type": "display_data"
    }
   ],
   "source": [
    "plot(t,y2);"
   ]
  },
  {
   "cell_type": "markdown",
   "metadata": {},
   "source": [
    "### Plot both and customize the plot.  \n",
    "### *NOTE:* The commands to update the labels, title, etc. cause the plot to be re-rendered when using the Octave CLI.  However, that is not the case in a notebook apparently.  Setting them ahead of time works though..."
   ]
  },
  {
   "cell_type": "code",
   "execution_count": 6,
   "metadata": {},
   "outputs": [
    {
     "data": {
      "image/png": "[encoded data removed]",
      "text/plain": [
       "<IPython.core.display.Image object>"
      ]
     },
     "metadata": {},
     "output_type": "display_data"
    }
   ],
   "source": [
    "plot(t,y1);\n",
    "hold on;\n",
    "xlabel('time')\n",
    "ylabel('value')\n",
    "title('my plot')\n",
    "plot(t,y2,'r')"
   ]
  },
  {
   "cell_type": "code",
   "execution_count": 7,
   "metadata": {},
   "outputs": [
    {
     "name": "stdout",
     "output_type": "stream",
     "text": [
      "ans = /Users/bdavis/Documents/Development/Coursera_MachineLearning\n"
     ]
    }
   ],
   "source": [
    "pwd"
   ]
  },
  {
   "cell_type": "markdown",
   "metadata": {},
   "source": [
    "### It seems saving an image from the notebook doesn't quite work out of the box.  After some initial triage, I have filed an [issue](https://github.com/Calysto/octave_kernel/issues/170) with the author of ```octave_kernel```.  If need to do this, then use the ```octave-cli``` for now."
   ]
  },
  {
   "cell_type": "code",
   "execution_count": 8,
   "metadata": {},
   "outputs": [
    {
     "name": "stdout",
     "output_type": "stream",
     "text": [
      "ans = gnuplot\n"
     ]
    }
   ],
   "source": [
    "graphics_toolkit"
   ]
  },
  {
   "cell_type": "code",
   "execution_count": 10,
   "metadata": {
    "collapsed": true,
    "jupyter": {
     "outputs_hidden": true,
     "source_hidden": true
    }
   },
   "outputs": [
    {
     "name": "stdout",
     "output_type": "stream",
     "text": [
      "error: __init_fltk__: not available without OpenGL and FLTK libraries\n",
      "error: called from:\n",
      "error:   /usr/local/octave/3.8.0/share/octave/3.8.0/m/plot/util/graphics_toolkit.m at line 70, column 5\n"
     ]
    }
   ],
   "source": [
    "graphics_toolkit(\"fltk\")"
   ]
  },
  {
   "cell_type": "code",
   "execution_count": 9,
   "metadata": {
    "collapsed": true,
    "jupyter": {
     "outputs_hidden": true,
     "source_hidden": true
    }
   },
   "outputs": [
    {
     "name": "stdout",
     "output_type": "stream",
     "text": [
      "error: __fltk_redraw__: not available without OpenGL and FLTK libraries\n",
      "error: called from:\n",
      "error:   /usr/local/octave/3.8.0/share/octave/3.8.0/m/plot/util/private/__fltk_print__.m at line 30, column 3\n",
      "error:   /usr/local/octave/3.8.0/share/octave/3.8.0/m/plot/util/print.m at line 422, column 14\n"
     ]
    }
   ],
   "source": [
    "print -dpng 'myPlot.png'"
   ]
  },
  {
   "cell_type": "code",
   "execution_count": 17,
   "metadata": {
    "collapsed": true,
    "jupyter": {
     "outputs_hidden": true,
     "source_hidden": true
    }
   },
   "outputs": [
    {
     "name": "stdout",
     "output_type": "stream",
     "text": [
      "\n",
      "Octave's search path contains the following directories:\n",
      "\n",
      ".\n",
      "/Users/bdavis/Library/Python/3.7/lib/python/site-packages/octave_kernel\n",
      "/usr/local/octave/3.8.0/share/octave/site/m\n",
      "/usr/local/octave/3.8.0/share/octave/site/m/startup\n",
      "/usr/local/octave/3.8.0/lib/octave/3.8.0/oct/x86_64-apple-darwin13.0.0\n",
      "/usr/local/octave/3.8.0/share/octave/3.8.0/m\n",
      "/usr/local/octave/3.8.0/share/octave/3.8.0/m/statistics\n",
      "/usr/local/octave/3.8.0/share/octave/3.8.0/m/statistics/tests\n",
      "/usr/local/octave/3.8.0/share/octave/3.8.0/m/statistics/models\n",
      "/usr/local/octave/3.8.0/share/octave/3.8.0/m/statistics/distributions\n",
      "/usr/local/octave/3.8.0/share/octave/3.8.0/m/statistics/base\n",
      "/usr/local/octave/3.8.0/share/octave/3.8.0/m/prefs\n",
      "/usr/local/octave/3.8.0/share/octave/3.8.0/m/strings\n",
      "/usr/local/octave/3.8.0/share/octave/3.8.0/m/plot\n",
      "/usr/local/octave/3.8.0/share/octave/3.8.0/m/plot/util\n",
      "/usr/local/octave/3.8.0/share/octave/3.8.0/m/plot/appearance\n",
      "/usr/local/octave/3.8.0/share/octave/3.8.0/m/plot/draw\n",
      "/usr/local/octave/3.8.0/share/octave/3.8.0/m/general\n",
      "/usr/local/octave/3.8.0/share/octave/3.8.0/m/elfun\n",
      "/usr/local/octave/3.8.0/share/octave/3.8.0/m/optimization\n",
      "/usr/local/octave/3.8.0/share/octave/3.8.0/m/path\n",
      "/usr/local/octave/3.8.0/share/octave/3.8.0/m/io\n",
      "/usr/local/octave/3.8.0/share/octave/3.8.0/m/java\n",
      "/usr/local/octave/3.8.0/share/octave/3.8.0/m/specfun\n",
      "/usr/local/octave/3.8.0/share/octave/3.8.0/m/testfun\n",
      "/usr/local/octave/3.8.0/share/octave/3.8.0/m/miscellaneous\n",
      "/usr/local/octave/3.8.0/share/octave/3.8.0/m/image\n",
      "/usr/local/octave/3.8.0/share/octave/3.8.0/m/time\n",
      "/usr/local/octave/3.8.0/share/octave/3.8.0/m/audio\n",
      "/usr/local/octave/3.8.0/share/octave/3.8.0/m/gui\n",
      "/usr/local/octave/3.8.0/share/octave/3.8.0/m/linear-algebra\n",
      "/usr/local/octave/3.8.0/share/octave/3.8.0/m/special-matrix\n",
      "/usr/local/octave/3.8.0/share/octave/3.8.0/m/sparse\n",
      "/usr/local/octave/3.8.0/share/octave/3.8.0/m/geometry\n",
      "/usr/local/octave/3.8.0/share/octave/3.8.0/m/set\n",
      "/usr/local/octave/3.8.0/share/octave/3.8.0/m/startup\n",
      "/usr/local/octave/3.8.0/share/octave/3.8.0/m/polynomial\n",
      "/usr/local/octave/3.8.0/share/octave/3.8.0/m/signal\n",
      "/usr/local/octave/3.8.0/share/octave/3.8.0/m/help\n",
      "/usr/local/octave/3.8.0/share/octave/3.8.0/m/pkg\n",
      "/usr/local/octave/3.8.0/share/octave/3.8.0/m/deprecated\n",
      "\n"
     ]
    }
   ],
   "source": [
    "path"
   ]
  },
  {
   "cell_type": "markdown",
   "metadata": {},
   "source": [
    "### Set figure number.  Only really works in the \"pop-out\" context of the ```octave-cli``` though..."
   ]
  },
  {
   "cell_type": "code",
   "execution_count": 11,
   "metadata": {},
   "outputs": [
    {
     "data": {
      "image/png": "[encoded data removed]",
      "text/plain": [
       "<IPython.core.display.Image object>"
      ]
     },
     "metadata": {},
     "output_type": "display_data"
    }
   ],
   "source": [
    "figure(1); plot(t,y1);"
   ]
  },
  {
   "cell_type": "markdown",
   "metadata": {},
   "source": [
    "### Divide a plot into a 1 x 2 grid and then chain the ```plot``` command to fill it.  As mentioned before, the rerendering doesn't really work in notebooks, hence the command chaining to do it ahead of time..."
   ]
  },
  {
   "cell_type": "code",
   "execution_count": 15,
   "metadata": {},
   "outputs": [
    {
     "data": {
      "image/png": "[encoded data removed]",
      "text/plain": [
       "<IPython.core.display.Image object>"
      ]
     },
     "metadata": {},
     "output_type": "display_data"
    }
   ],
   "source": [
    "subplot(1,2,1); plot(t,y1);"
   ]
  },
  {
   "cell_type": "code",
   "execution_count": 16,
   "metadata": {},
   "outputs": [
    {
     "name": "stdout",
     "output_type": "stream",
     "text": [
      "Variables in the current scope:\n",
      "\n",
      "   Attr Name        Size                     Bytes  Class\n",
      "   ==== ====        ====                     =====  ===== \n",
      "        ans         1x60                        60  char\n",
      "        t           1x99                       792  double\n",
      "        y1          1x99                       792  double\n",
      "        y2          1x99                       792  double\n",
      "\n",
      "Total is 357 elements using 2436 bytes\n",
      "\n"
     ]
    }
   ],
   "source": [
    "whos"
   ]
  },
  {
   "cell_type": "code",
   "execution_count": 17,
   "metadata": {},
   "outputs": [
    {
     "name": "stdout",
     "output_type": "stream",
     "text": [
      "A =\n",
      "\n",
      "   16    2    3   13\n",
      "    5   11   10    8\n",
      "    9    7    6   12\n",
      "    4   14   15    1\n",
      "\n"
     ]
    }
   ],
   "source": [
    "A = magic(4)"
   ]
  },
  {
   "cell_type": "code",
   "execution_count": 20,
   "metadata": {},
   "outputs": [
    {
     "name": "stdout",
     "output_type": "stream",
     "text": [
      "B =\n",
      "\n",
      "    2\n",
      "   11\n",
      "    7\n",
      "   14\n",
      "\n"
     ]
    }
   ],
   "source": [
    "B = A(:,2)"
   ]
  },
  {
   "cell_type": "code",
   "execution_count": 52,
   "metadata": {},
   "outputs": [
    {
     "name": "stdout",
     "output_type": "stream",
     "text": [
      "B =\n",
      "\n",
      "   16    2\n",
      "    5   11\n",
      "    9    7\n",
      "    4   14\n",
      "\n"
     ]
    }
   ],
   "source": [
    "B = A(:,1:2)"
   ]
  },
  {
   "cell_type": "code",
   "execution_count": 35,
   "metadata": {},
   "outputs": [
    {
     "name": "stdout",
     "output_type": "stream",
     "text": [
      "B =\n",
      "\n",
      "   16    5\n",
      "\n"
     ]
    }
   ],
   "source": [
    "B = A(1:2)"
   ]
  },
  {
   "cell_type": "code",
   "execution_count": 70,
   "metadata": {},
   "outputs": [
    {
     "name": "stdout",
     "output_type": "stream",
     "text": [
      "B =\n",
      "\n",
      "    2    3   13\n",
      "   11   10    8\n",
      "    7    6   12\n",
      "   14   15    1\n",
      "\n"
     ]
    }
   ],
   "source": [
    "B = A(:,2:4)"
   ]
  },
  {
   "cell_type": "code",
   "execution_count": 72,
   "metadata": {},
   "outputs": [
    {
     "name": "stdout",
     "output_type": "stream",
     "text": [
      "C =\n",
      "\n",
      "   16    2    3   13\n",
      "\n"
     ]
    }
   ],
   "source": [
    "C = A(1,:)"
   ]
  },
  {
   "cell_type": "code",
   "execution_count": 73,
   "metadata": {},
   "outputs": [
    {
     "name": "stdout",
     "output_type": "stream",
     "text": [
      "C =\n",
      "\n",
      "   16    2    3   13\n",
      "    5   11   10    8\n",
      "\n"
     ]
    }
   ],
   "source": [
    "C = A(1:2,:)"
   ]
  },
  {
   "cell_type": "code",
   "execution_count": 74,
   "metadata": {},
   "outputs": [
    {
     "name": "stdout",
     "output_type": "stream",
     "text": [
      "ans =  16\n"
     ]
    }
   ],
   "source": [
    "A(1:1)"
   ]
  },
  {
   "cell_type": "code",
   "execution_count": 75,
   "metadata": {},
   "outputs": [
    {
     "name": "stdout",
     "output_type": "stream",
     "text": [
      "Variables in the current scope:\n",
      "\n",
      "   Attr Name        Size                     Bytes  Class\n",
      "   ==== ====        ====                     =====  ===== \n",
      "        A           4x4                        128  double\n",
      "        B           4x3                         96  double\n",
      "        C           2x4                         64  double\n",
      "        ans         1x1                          8  double\n",
      "        t           1x99                       792  double\n",
      "        y1          1x99                       792  double\n",
      "        y2          1x99                       792  double\n",
      "\n",
      "Total is 334 elements using 2672 bytes\n",
      "\n"
     ]
    }
   ],
   "source": [
    "whos"
   ]
  },
  {
   "cell_type": "code",
   "execution_count": 76,
   "metadata": {},
   "outputs": [
    {
     "name": "stdout",
     "output_type": "stream",
     "text": [
      "A =\n",
      "\n",
      "   16    2    3   13\n",
      "    5   11   10    8\n",
      "    9    7    6   12\n",
      "    4   14   15    1\n",
      "\n"
     ]
    }
   ],
   "source": [
    "A"
   ]
  },
  {
   "cell_type": "code",
   "execution_count": 77,
   "metadata": {},
   "outputs": [
    {
     "name": "stdout",
     "output_type": "stream",
     "text": [
      "ans =  4\n"
     ]
    }
   ],
   "source": [
    "A(1,2)^2"
   ]
  },
  {
   "cell_type": "code",
   "execution_count": 78,
   "metadata": {},
   "outputs": [
    {
     "name": "stdout",
     "output_type": "stream",
     "text": [
      "ans =  3\n"
     ]
    }
   ],
   "source": [
    "A(1,2)+1"
   ]
  },
  {
   "cell_type": "code",
   "execution_count": 79,
   "metadata": {},
   "outputs": [
    {
     "name": "stdout",
     "output_type": "stream",
     "text": [
      "ans =  0.50000\n"
     ]
    }
   ],
   "source": [
    "A(1,2)/4"
   ]
  },
  {
   "cell_type": "code",
   "execution_count": 80,
   "metadata": {},
   "outputs": [
    {
     "name": "stdout",
     "output_type": "stream",
     "text": [
      "ans =  2\n"
     ]
    }
   ],
   "source": [
    "A(1,2)\\4"
   ]
  },
  {
   "cell_type": "code",
   "execution_count": 81,
   "metadata": {},
   "outputs": [
    {
     "name": "stdout",
     "output_type": "stream",
     "text": [
      "ans =  2\n"
     ]
    }
   ],
   "source": [
    "2\\4"
   ]
  },
  {
   "cell_type": "code",
   "execution_count": 82,
   "metadata": {},
   "outputs": [
    {
     "name": "stdout",
     "output_type": "stream",
     "text": [
      "ans =  0.50000\n"
     ]
    }
   ],
   "source": [
    "4\\2"
   ]
  },
  {
   "cell_type": "code",
   "execution_count": 84,
   "metadata": {},
   "outputs": [
    {
     "name": "stdout",
     "output_type": "stream",
     "text": [
      "ans =  2\n"
     ]
    }
   ],
   "source": [
    "2 % 4"
   ]
  },
  {
   "cell_type": "code",
   "execution_count": 85,
   "metadata": {},
   "outputs": [
    {
     "name": "stdout",
     "output_type": "stream",
     "text": [
      "ans =  2\n"
     ]
    }
   ],
   "source": [
    "2 % 4"
   ]
  },
  {
   "cell_type": "code",
   "execution_count": 86,
   "metadata": {},
   "outputs": [],
   "source": [
    "A = [1 2; 3 4; 5 6];\n",
    "B = [1 2 3; 4 5 6];"
   ]
  },
  {
   "cell_type": "code",
   "execution_count": 87,
   "metadata": {},
   "outputs": [
    {
     "name": "stdout",
     "output_type": "stream",
     "text": [
      "A =\n",
      "\n",
      "   1   2\n",
      "   3   4\n",
      "   5   6\n",
      "\n"
     ]
    }
   ],
   "source": [
    "A"
   ]
  },
  {
   "cell_type": "code",
   "execution_count": 88,
   "metadata": {},
   "outputs": [
    {
     "name": "stdout",
     "output_type": "stream",
     "text": [
      "B =\n",
      "\n",
      "   1   2   3\n",
      "   4   5   6\n",
      "\n"
     ]
    }
   ],
   "source": [
    "B"
   ]
  },
  {
   "cell_type": "code",
   "execution_count": 89,
   "metadata": {},
   "outputs": [
    {
     "name": "stdout",
     "output_type": "stream",
     "text": [
      "error: operator +: nonconformant arguments (op1 is 3x2, op2 is 2x3)\n"
     ]
    }
   ],
   "source": [
    "A + B"
   ]
  },
  {
   "cell_type": "code",
   "execution_count": 90,
   "metadata": {},
   "outputs": [
    {
     "name": "stdout",
     "output_type": "stream",
     "text": [
      "ans =\n",
      "\n",
      "    9   12   15\n",
      "   19   26   33\n",
      "   29   40   51\n",
      "\n"
     ]
    }
   ],
   "source": [
    "A * B "
   ]
  },
  {
   "cell_type": "code",
   "execution_count": 91,
   "metadata": {},
   "outputs": [
    {
     "name": "stdout",
     "output_type": "stream",
     "text": [
      "error: invalid character '`' (ASCII 96) near line 1, column 3\n",
      "parse error:\n",
      "\n",
      "  syntax error\n",
      "\n",
      ">>> A` + B\n",
      "     ^\n",
      "\n"
     ]
    }
   ],
   "source": [
    "A` + B"
   ]
  },
  {
   "cell_type": "code",
   "execution_count": 92,
   "metadata": {},
   "outputs": [
    {
     "name": "stdout",
     "output_type": "stream",
     "text": [
      "ans =\n",
      "\n",
      "    2    5    8\n",
      "    6    9   12\n",
      "\n"
     ]
    }
   ],
   "source": [
    "A' + B"
   ]
  },
  {
   "cell_type": "code",
   "execution_count": 93,
   "metadata": {},
   "outputs": [
    {
     "name": "stdout",
     "output_type": "stream",
     "text": [
      "ans =\n",
      "\n",
      "   2   3\n",
      "   4   5\n",
      "   6   7\n",
      "\n"
     ]
    }
   ],
   "source": [
    "A + 1"
   ]
  },
  {
   "cell_type": "code",
   "execution_count": 94,
   "metadata": {},
   "outputs": [
    {
     "name": "stdout",
     "output_type": "stream",
     "text": [
      "error: for A^b, A must be a square matrix. Use .^ for elementwise power.\n"
     ]
    }
   ],
   "source": [
    "A^2"
   ]
  },
  {
   "cell_type": "code",
   "execution_count": 95,
   "metadata": {},
   "outputs": [
    {
     "name": "stdout",
     "output_type": "stream",
     "text": [
      "Z =\n",
      "\n",
      "   30   39   48    1   10   19   28\n",
      "   38   47    7    9   18   27   29\n",
      "   46    6    8   17   26   35   37\n",
      "    5   14   16   25   34   36   45\n",
      "   13   15   24   33   42   44    4\n",
      "   21   23   32   41   43    3   12\n",
      "   22   31   40   49    2   11   20\n",
      "\n"
     ]
    }
   ],
   "source": [
    "Z = magic(7)"
   ]
  },
  {
   "cell_type": "code",
   "execution_count": 96,
   "metadata": {},
   "outputs": [
    {
     "name": "stdout",
     "output_type": "stream",
     "text": [
      "ans =\n",
      "\n",
      "   31   40   49    2   11   20   29\n",
      "   39   48    8   10   19   28   30\n",
      "   47    7    9   18   27   36   38\n",
      "    6   15   17   26   35   37   46\n",
      "   14   16   25   34   43   45    5\n",
      "   22   24   33   42   44    4   13\n",
      "   23   32   41   50    3   12   21\n",
      "\n"
     ]
    }
   ],
   "source": [
    "Z + 1"
   ]
  },
  {
   "cell_type": "code",
   "execution_count": 97,
   "metadata": {},
   "outputs": [
    {
     "name": "stdout",
     "output_type": "stream",
     "text": [
      "ans =\n",
      "\n",
      "   5740   4760   4081   3703   3577   4144   4620\n",
      "   4732   5649   4809   3927   3689   3752   4067\n",
      "   3948   4704   5810   4767   4025   3584   3787\n",
      "   3731   4032   4634   5831   4634   4032   3731\n",
      "   3787   3584   4025   4767   5810   4704   3948\n",
      "   4067   3752   3689   3927   4809   5649   4732\n",
      "   4620   4144   3577   3703   4081   4760   5740\n",
      "\n"
     ]
    }
   ],
   "source": [
    "Z ^ 2"
   ]
  },
  {
   "cell_type": "code",
   "execution_count": 98,
   "metadata": {},
   "outputs": [
    {
     "name": "stdout",
     "output_type": "stream",
     "text": [
      "ans =  961\n"
     ]
    }
   ],
   "source": [
    "31 * 31"
   ]
  },
  {
   "cell_type": "code",
   "execution_count": 101,
   "metadata": {},
   "outputs": [
    {
     "name": "stdout",
     "output_type": "stream",
     "text": [
      "ans =\n",
      "\n",
      "    900   1521   2304      1    100    361    784\n",
      "   1444   2209     49     81    324    729    841\n",
      "   2116     36     64    289    676   1225   1369\n",
      "     25    196    256    625   1156   1296   2025\n",
      "    169    225    576   1089   1764   1936     16\n",
      "    441    529   1024   1681   1849      9    144\n",
      "    484    961   1600   2401      4    121    400\n",
      "\n"
     ]
    }
   ],
   "source": [
    "Z.^2"
   ]
  },
  {
   "cell_type": "code",
   "execution_count": 102,
   "metadata": {},
   "outputs": [
    {
     "name": "stdout",
     "output_type": "stream",
     "text": [
      "Z =\n",
      "\n",
      "   30   39   48    1   10   19   28\n",
      "   38   47    7    9   18   27   29\n",
      "   46    6    8   17   26   35   37\n",
      "    5   14   16   25   34   36   45\n",
      "   13   15   24   33   42   44    4\n",
      "   21   23   32   41   43    3   12\n",
      "   22   31   40   49    2   11   20\n",
      "\n"
     ]
    }
   ],
   "source": [
    "Z"
   ]
  },
  {
   "cell_type": "code",
   "execution_count": 103,
   "metadata": {},
   "outputs": [
    {
     "name": "stdout",
     "output_type": "stream",
     "text": [
      "ans =  900\n"
     ]
    }
   ],
   "source": [
    "30*30"
   ]
  },
  {
   "cell_type": "code",
   "execution_count": 104,
   "metadata": {},
   "outputs": [
    {
     "name": "stdout",
     "output_type": "stream",
     "text": [
      "ans =\n",
      "\n",
      "   5740   4760   4081   3703   3577   4144   4620\n",
      "   4732   5649   4809   3927   3689   3752   4067\n",
      "   3948   4704   5810   4767   4025   3584   3787\n",
      "   3731   4032   4634   5831   4634   4032   3731\n",
      "   3787   3584   4025   4767   5810   4704   3948\n",
      "   4067   3752   3689   3927   4809   5649   4732\n",
      "   4620   4144   3577   3703   4081   4760   5740\n",
      "\n"
     ]
    }
   ],
   "source": [
    "Z^2"
   ]
  },
  {
   "cell_type": "code",
   "execution_count": 105,
   "metadata": {},
   "outputs": [
    {
     "name": "stdout",
     "output_type": "stream",
     "text": [
      "ans =  191.33\n"
     ]
    }
   ],
   "source": [
    "5740 / 30"
   ]
  },
  {
   "cell_type": "code",
   "execution_count": 106,
   "metadata": {},
   "outputs": [
    {
     "name": "stdout",
     "output_type": "stream",
     "text": [
      "ans =\n",
      "\n",
      "   3.40120   3.66356   3.87120   0.00000   2.30259   2.94444   3.33220\n",
      "   3.63759   3.85015   1.94591   2.19722   2.89037   3.29584   3.36730\n",
      "   3.82864   1.79176   2.07944   2.83321   3.25810   3.55535   3.61092\n",
      "   1.60944   2.63906   2.77259   3.21888   3.52636   3.58352   3.80666\n",
      "   2.56495   2.70805   3.17805   3.49651   3.73767   3.78419   1.38629\n",
      "   3.04452   3.13549   3.46574   3.71357   3.76120   1.09861   2.48491\n",
      "   3.09104   3.43399   3.68888   3.89182   0.69315   2.39790   2.99573\n",
      "\n"
     ]
    }
   ],
   "source": [
    "log(Z)"
   ]
  },
  {
   "cell_type": "code",
   "execution_count": 107,
   "metadata": {},
   "outputs": [
    {
     "name": "stdout",
     "output_type": "stream",
     "text": [
      "ans =\n",
      "\n",
      "    7.50000    9.75000   12.00000    0.25000    2.50000    4.75000    7.00000\n",
      "    9.50000   11.75000    1.75000    2.25000    4.50000    6.75000    7.25000\n",
      "   11.50000    1.50000    2.00000    4.25000    6.50000    8.75000    9.25000\n",
      "    1.25000    3.50000    4.00000    6.25000    8.50000    9.00000   11.25000\n",
      "    3.25000    3.75000    6.00000    8.25000   10.50000   11.00000    1.00000\n",
      "    5.25000    5.75000    8.00000   10.25000   10.75000    0.75000    3.00000\n",
      "    5.50000    7.75000   10.00000   12.25000    0.50000    2.75000    5.00000\n",
      "\n"
     ]
    }
   ],
   "source": [
    "Z / 4"
   ]
  },
  {
   "cell_type": "code",
   "execution_count": 108,
   "metadata": {},
   "outputs": [
    {
     "name": "stdout",
     "output_type": "stream",
     "text": [
      "ans =  7.5000\n"
     ]
    }
   ],
   "source": [
    "30 /4 "
   ]
  },
  {
   "cell_type": "code",
   "execution_count": 109,
   "metadata": {},
   "outputs": [
    {
     "name": "stdout",
     "output_type": "stream",
     "text": [
      "\n",
      " -- Operator: ^\n",
      "     Power operator.  This may return complex results for real inputs.\n",
      "     Use 'realsqrt', 'cbrt', 'nthroot', or 'realroot' to obtain real\n",
      "     results when possible.\n",
      "\n",
      "     See also: power, **, .^, .**, realpow, realsqrt, cbrt, nthroot.\n",
      "\n",
      "\n",
      "Additional help for built-in functions and operators is\n",
      "available in the online version of the manual.  Use the command\n",
      "'doc <topic>' to search the manual index.\n",
      "\n",
      "Help and information about Octave is also available on the WWW\n",
      "at http://www.octave.org and via the help@octave.org\n",
      "mailing list.\n"
     ]
    }
   ],
   "source": [
    "help ^"
   ]
  },
  {
   "cell_type": "code",
   "execution_count": 110,
   "metadata": {},
   "outputs": [
    {
     "name": "stdout",
     "output_type": "stream",
     "text": [
      "Variables in the current scope:\n",
      "\n",
      "   Attr Name        Size                     Bytes  Class\n",
      "   ==== ====        ====                     =====  ===== \n",
      "        A           3x2                         48  double\n",
      "        B           2x3                         48  double\n",
      "        C           2x4                         64  double\n",
      "        Z           7x7                        392  double\n",
      "        ans         1x1                          8  double\n",
      "        t           1x99                       792  double\n",
      "        y1          1x99                       792  double\n",
      "        y2          1x99                       792  double\n",
      "\n",
      "Total is 367 elements using 2936 bytes\n",
      "\n"
     ]
    }
   ],
   "source": [
    "whos"
   ]
  },
  {
   "cell_type": "code",
   "execution_count": 111,
   "metadata": {},
   "outputs": [
    {
     "name": "stdout",
     "output_type": "stream",
     "text": [
      "v =\n",
      "\n",
      "   1\n",
      "   2\n",
      "   3\n",
      "   4\n",
      "   5\n",
      "   6\n",
      "   7\n",
      "\n"
     ]
    }
   ],
   "source": [
    "v = [1;2;3;4;5;6;7;]"
   ]
  },
  {
   "cell_type": "code",
   "execution_count": 112,
   "metadata": {},
   "outputs": [
    {
     "name": "stdout",
     "output_type": "stream",
     "text": [
      "w =\n",
      "\n",
      "   1\n",
      "   2\n",
      "   3\n",
      "   4\n",
      "   5\n",
      "   6\n",
      "   7\n",
      "\n"
     ]
    }
   ],
   "source": [
    "w = [1;2;3;4;5;6;7;]"
   ]
  },
  {
   "cell_type": "code",
   "execution_count": 113,
   "metadata": {},
   "outputs": [
    {
     "name": "stdout",
     "output_type": "stream",
     "text": [
      "error: operator *: nonconformant arguments (op1 is 7x1, op2 is 7x1)\n"
     ]
    }
   ],
   "source": [
    "v * w"
   ]
  },
  {
   "cell_type": "code",
   "execution_count": 114,
   "metadata": {},
   "outputs": [
    {
     "name": "stdout",
     "output_type": "stream",
     "text": [
      "ans =  140\n"
     ]
    }
   ],
   "source": [
    "v' * w"
   ]
  },
  {
   "cell_type": "code",
   "execution_count": 115,
   "metadata": {},
   "outputs": [
    {
     "name": "stdout",
     "output_type": "stream",
     "text": [
      "ans =  140\n"
     ]
    }
   ],
   "source": [
    "w' * v"
   ]
  },
  {
   "cell_type": "code",
   "execution_count": 117,
   "metadata": {},
   "outputs": [
    {
     "name": "stdout",
     "output_type": "stream",
     "text": [
      "ans =  140\n"
     ]
    }
   ],
   "source": [
    "sum(v.*w)"
   ]
  },
  {
   "cell_type": "code",
   "execution_count": 118,
   "metadata": {},
   "outputs": [
    {
     "name": "stdout",
     "output_type": "stream",
     "text": [
      "ans =\n",
      "\n",
      "    1\n",
      "    4\n",
      "    9\n",
      "   16\n",
      "   25\n",
      "   36\n",
      "   49\n",
      "\n"
     ]
    }
   ],
   "source": [
    "v.*w"
   ]
  },
  {
   "cell_type": "code",
   "execution_count": 119,
   "metadata": {},
   "outputs": [
    {
     "name": "stdout",
     "output_type": "stream",
     "text": [
      "ans =\n",
      "\n",
      "   1   2   3   4   5   6   7\n",
      "\n"
     ]
    }
   ],
   "source": [
    "v'"
   ]
  },
  {
   "cell_type": "code",
   "execution_count": 120,
   "metadata": {},
   "outputs": [
    {
     "name": "stdout",
     "output_type": "stream",
     "text": [
      "w =\n",
      "\n",
      "   1\n",
      "   2\n",
      "   3\n",
      "   4\n",
      "   5\n",
      "   6\n",
      "   7\n",
      "\n"
     ]
    }
   ],
   "source": [
    "w"
   ]
  },
  {
   "cell_type": "code",
   "execution_count": 121,
   "metadata": {},
   "outputs": [
    {
     "name": "stdout",
     "output_type": "stream",
     "text": [
      "ans =  140\n"
     ]
    }
   ],
   "source": [
    "sum(v.*w)"
   ]
  },
  {
   "cell_type": "code",
   "execution_count": 122,
   "metadata": {},
   "outputs": [
    {
     "name": "stdout",
     "output_type": "stream",
     "text": [
      "\n",
      " -- Operator: *\n",
      "     Multiplication operator.\n",
      "\n",
      "     See also: .*, times.\n",
      "\n",
      "\n",
      "Additional help for built-in functions and operators is\n",
      "available in the online version of the manual.  Use the command\n",
      "'doc <topic>' to search the manual index.\n",
      "\n",
      "Help and information about Octave is also available on the WWW\n",
      "at http://www.octave.org and via the help@octave.org\n",
      "mailing list.\n"
     ]
    }
   ],
   "source": [
    "help *"
   ]
  },
  {
   "cell_type": "code",
   "execution_count": 123,
   "metadata": {},
   "outputs": [
    {
     "name": "stdout",
     "output_type": "stream",
     "text": [
      "Variables in the current scope:\n",
      "\n",
      "   Attr Name        Size                     Bytes  Class\n",
      "   ==== ====        ====                     =====  ===== \n",
      "        A           3x2                         48  double\n",
      "        B           2x3                         48  double\n",
      "        C           2x4                         64  double\n",
      "        Z           7x7                        392  double\n",
      "        ans         1x1                          8  double\n",
      "        t           1x99                       792  double\n",
      "        v           7x1                         56  double\n",
      "        w           7x1                         56  double\n",
      "        y1          1x99                       792  double\n",
      "        y2          1x99                       792  double\n",
      "\n",
      "Total is 381 elements using 3048 bytes\n",
      "\n"
     ]
    }
   ],
   "source": [
    "whos"
   ]
  },
  {
   "cell_type": "code",
   "execution_count": 124,
   "metadata": {},
   "outputs": [
    {
     "name": "stdout",
     "output_type": "stream",
     "text": [
      "A =\n",
      "\n",
      "   1   2\n",
      "   3   4\n",
      "   5   6\n",
      "\n"
     ]
    }
   ],
   "source": [
    "A"
   ]
  },
  {
   "cell_type": "code",
   "execution_count": 125,
   "metadata": {},
   "outputs": [
    {
     "name": "stdout",
     "output_type": "stream",
     "text": [
      "B =\n",
      "\n",
      "   1   2   3\n",
      "   4   5   6\n",
      "\n"
     ]
    }
   ],
   "source": [
    "B"
   ]
  },
  {
   "cell_type": "code",
   "execution_count": 126,
   "metadata": {},
   "outputs": [
    {
     "name": "stdout",
     "output_type": "stream",
     "text": [
      "ans =\n",
      "\n",
      "    9   12   15\n",
      "   19   26   33\n",
      "   29   40   51\n",
      "\n"
     ]
    }
   ],
   "source": [
    "A*B"
   ]
  },
  {
   "cell_type": "code",
   "execution_count": null,
   "metadata": {},
   "outputs": [],
   "source": []
  }
 ],
 "metadata": {
  "kernelspec": {
   "display_name": "Octave",
   "language": "octave",
   "name": "octave"
  },
  "language_info": {
   "file_extension": ".m",
   "help_links": [
    {
     "text": "GNU Octave",
     "url": "https://www.gnu.org/software/octave/support.html"
    },
    {
     "text": "Octave Kernel",
     "url": "https://github.com/Calysto/octave_kernel"
    },
    {
     "text": "MetaKernel Magics",
     "url": "https://metakernel.readthedocs.io/en/latest/source/README.html"
    }
   ],
   "mimetype": "text/x-octave",
   "name": "octave",
   "version": "3.8.0"
  }
 },
 "nbformat": 4,
 "nbformat_minor": 4
}
