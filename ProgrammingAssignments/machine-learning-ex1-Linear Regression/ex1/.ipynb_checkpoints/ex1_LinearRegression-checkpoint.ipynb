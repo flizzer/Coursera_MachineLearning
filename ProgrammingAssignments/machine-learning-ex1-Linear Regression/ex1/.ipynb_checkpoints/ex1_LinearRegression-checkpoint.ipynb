{
 "cells": [
  {
   "cell_type": "markdown",
   "metadata": {},
   "source": [
    "# Exercise 1 - Linear Regression"
   ]
  },
  {
   "cell_type": "markdown",
   "metadata": {},
   "source": [
    "## Univariate..."
   ]
  },
  {
   "cell_type": "code",
   "execution_count": 1,
   "metadata": {},
   "outputs": [],
   "source": [
    "data = load('ex1data1.txt');\n",
    "X = data(:, 1);\n",
    "y = data(:, 2);"
   ]
  },
  {
   "cell_type": "code",
   "execution_count": 2,
   "metadata": {},
   "outputs": [
    {
     "name": "stdout",
     "output_type": "stream",
     "text": [
      "data =\n",
      "\n",
      "    6.11010   17.59200\n",
      "    5.52770    9.13020\n",
      "    8.51860   13.66200\n",
      "    7.00320   11.85400\n",
      "    5.85980    6.82330\n",
      "    8.38290   11.88600\n",
      "    7.47640    4.34830\n",
      "    8.57810   12.00000\n",
      "    6.48620    6.59870\n",
      "    5.05460    3.81660\n",
      "    5.71070    3.25220\n",
      "   14.16400   15.50500\n",
      "    5.73400    3.15510\n",
      "    8.40840    7.22580\n",
      "    5.64070    0.71618\n",
      "    5.37940    3.51290\n",
      "    6.36540    5.30480\n",
      "    5.13010    0.56077\n",
      "    6.42960    3.65180\n",
      "    7.07080    5.38930\n",
      "    6.18910    3.13860\n",
      "   20.27000   21.76700\n",
      "    5.49010    4.26300\n",
      "    6.32610    5.18750\n",
      "    5.56490    3.08250\n",
      "   18.94500   22.63800\n",
      "   12.82800   13.50100\n",
      "   10.95700    7.04670\n",
      "   13.17600   14.69200\n",
      "   22.20300   24.14700\n",
      "    5.25240   -1.22000\n",
      "    6.58940    5.99660\n",
      "    9.24820   12.13400\n",
      "    5.89180    1.84950\n",
      "    8.21110    6.54260\n",
      "    7.93340    4.56230\n",
      "    8.09590    4.11640\n",
      "    5.60630    3.39280\n",
      "   12.83600   10.11700\n",
      "    6.35340    5.49740\n",
      "    5.40690    0.55657\n",
      "    6.88250    3.91150\n",
      "   11.70800    5.38540\n",
      "    5.77370    2.44060\n",
      "    7.82470    6.73180\n",
      "    7.09310    1.04630\n",
      "    5.07020    5.13370\n",
      "    5.80140    1.84400\n",
      "   11.70000    8.00430\n",
      "    5.54160    1.01790\n",
      "    7.54020    6.75040\n",
      "    5.30770    1.83960\n",
      "    7.42390    4.28850\n",
      "    7.60310    4.99810\n",
      "    6.33280    1.42330\n",
      "    6.35890   -1.42110\n",
      "    6.27420    2.47560\n",
      "    5.63970    4.60420\n",
      "    9.31020    3.96240\n",
      "    9.45360    5.41410\n",
      "    8.82540    5.16940\n",
      "    5.17930   -0.74279\n",
      "   21.27900   17.92900\n",
      "   14.90800   12.05400\n",
      "   18.95900   17.05400\n",
      "    7.21820    4.88520\n",
      "    8.29510    5.74420\n",
      "   10.23600    7.77540\n",
      "    5.49940    1.01730\n",
      "   20.34100   20.99200\n",
      "   10.13600    6.67990\n",
      "    7.33450    4.02590\n",
      "    6.00620    1.27840\n",
      "    7.22590    3.34110\n",
      "    5.02690   -2.68070\n",
      "    6.54790    0.29678\n",
      "    7.53860    3.88450\n",
      "    5.03650    5.70140\n",
      "   10.27400    6.75260\n",
      "    5.10770    2.05760\n",
      "    5.72920    0.47953\n",
      "    5.18840    0.20421\n",
      "    6.35570    0.67861\n",
      "    9.76870    7.54350\n",
      "    6.51590    5.34360\n",
      "    8.51720    4.24150\n",
      "    9.18020    6.79810\n",
      "    6.00200    0.92695\n",
      "    5.52040    0.15200\n",
      "    5.05940    2.82140\n",
      "    5.70770    1.84510\n",
      "    7.63660    4.29590\n",
      "    5.87070    7.20290\n",
      "    5.30540    1.98690\n",
      "    8.29340    0.14454\n",
      "   13.39400    9.05510\n",
      "    5.43690    0.61705\n",
      "\n"
     ]
    }
   ],
   "source": [
    "data"
   ]
  },
  {
   "cell_type": "code",
   "execution_count": 3,
   "metadata": {},
   "outputs": [
    {
     "name": "stdout",
     "output_type": "stream",
     "text": [
      "m =  97\n"
     ]
    }
   ],
   "source": [
    "m = length(y)"
   ]
  },
  {
   "cell_type": "code",
   "execution_count": 4,
   "metadata": {},
   "outputs": [
    {
     "name": "stdout",
     "output_type": "stream",
     "text": [
      "X =\n",
      "\n",
      "    6.1101\n",
      "    5.5277\n",
      "    8.5186\n",
      "    7.0032\n",
      "    5.8598\n",
      "    8.3829\n",
      "    7.4764\n",
      "    8.5781\n",
      "    6.4862\n",
      "    5.0546\n",
      "    5.7107\n",
      "   14.1640\n",
      "    5.7340\n",
      "    8.4084\n",
      "    5.6407\n",
      "    5.3794\n",
      "    6.3654\n",
      "    5.1301\n",
      "    6.4296\n",
      "    7.0708\n",
      "    6.1891\n",
      "   20.2700\n",
      "    5.4901\n",
      "    6.3261\n",
      "    5.5649\n",
      "   18.9450\n",
      "   12.8280\n",
      "   10.9570\n",
      "   13.1760\n",
      "   22.2030\n",
      "    5.2524\n",
      "    6.5894\n",
      "    9.2482\n",
      "    5.8918\n",
      "    8.2111\n",
      "    7.9334\n",
      "    8.0959\n",
      "    5.6063\n",
      "   12.8360\n",
      "    6.3534\n",
      "    5.4069\n",
      "    6.8825\n",
      "   11.7080\n",
      "    5.7737\n",
      "    7.8247\n",
      "    7.0931\n",
      "    5.0702\n",
      "    5.8014\n",
      "   11.7000\n",
      "    5.5416\n",
      "    7.5402\n",
      "    5.3077\n",
      "    7.4239\n",
      "    7.6031\n",
      "    6.3328\n",
      "    6.3589\n",
      "    6.2742\n",
      "    5.6397\n",
      "    9.3102\n",
      "    9.4536\n",
      "    8.8254\n",
      "    5.1793\n",
      "   21.2790\n",
      "   14.9080\n",
      "   18.9590\n",
      "    7.2182\n",
      "    8.2951\n",
      "   10.2360\n",
      "    5.4994\n",
      "   20.3410\n",
      "   10.1360\n",
      "    7.3345\n",
      "    6.0062\n",
      "    7.2259\n",
      "    5.0269\n",
      "    6.5479\n",
      "    7.5386\n",
      "    5.0365\n",
      "   10.2740\n",
      "    5.1077\n",
      "    5.7292\n",
      "    5.1884\n",
      "    6.3557\n",
      "    9.7687\n",
      "    6.5159\n",
      "    8.5172\n",
      "    9.1802\n",
      "    6.0020\n",
      "    5.5204\n",
      "    5.0594\n",
      "    5.7077\n",
      "    7.6366\n",
      "    5.8707\n",
      "    5.3054\n",
      "    8.2934\n",
      "   13.3940\n",
      "    5.4369\n",
      "\n"
     ]
    }
   ],
   "source": [
    "X"
   ]
  },
  {
   "cell_type": "code",
   "execution_count": 5,
   "metadata": {},
   "outputs": [
    {
     "name": "stdout",
     "output_type": "stream",
     "text": [
      "y =\n",
      "\n",
      "   17.59200\n",
      "    9.13020\n",
      "   13.66200\n",
      "   11.85400\n",
      "    6.82330\n",
      "   11.88600\n",
      "    4.34830\n",
      "   12.00000\n",
      "    6.59870\n",
      "    3.81660\n",
      "    3.25220\n",
      "   15.50500\n",
      "    3.15510\n",
      "    7.22580\n",
      "    0.71618\n",
      "    3.51290\n",
      "    5.30480\n",
      "    0.56077\n",
      "    3.65180\n",
      "    5.38930\n",
      "    3.13860\n",
      "   21.76700\n",
      "    4.26300\n",
      "    5.18750\n",
      "    3.08250\n",
      "   22.63800\n",
      "   13.50100\n",
      "    7.04670\n",
      "   14.69200\n",
      "   24.14700\n",
      "   -1.22000\n",
      "    5.99660\n",
      "   12.13400\n",
      "    1.84950\n",
      "    6.54260\n",
      "    4.56230\n",
      "    4.11640\n",
      "    3.39280\n",
      "   10.11700\n",
      "    5.49740\n",
      "    0.55657\n",
      "    3.91150\n",
      "    5.38540\n",
      "    2.44060\n",
      "    6.73180\n",
      "    1.04630\n",
      "    5.13370\n",
      "    1.84400\n",
      "    8.00430\n",
      "    1.01790\n",
      "    6.75040\n",
      "    1.83960\n",
      "    4.28850\n",
      "    4.99810\n",
      "    1.42330\n",
      "   -1.42110\n",
      "    2.47560\n",
      "    4.60420\n",
      "    3.96240\n",
      "    5.41410\n",
      "    5.16940\n",
      "   -0.74279\n",
      "   17.92900\n",
      "   12.05400\n",
      "   17.05400\n",
      "    4.88520\n",
      "    5.74420\n",
      "    7.77540\n",
      "    1.01730\n",
      "   20.99200\n",
      "    6.67990\n",
      "    4.02590\n",
      "    1.27840\n",
      "    3.34110\n",
      "   -2.68070\n",
      "    0.29678\n",
      "    3.88450\n",
      "    5.70140\n",
      "    6.75260\n",
      "    2.05760\n",
      "    0.47953\n",
      "    0.20421\n",
      "    0.67861\n",
      "    7.54350\n",
      "    5.34360\n",
      "    4.24150\n",
      "    6.79810\n",
      "    0.92695\n",
      "    0.15200\n",
      "    2.82140\n",
      "    1.84510\n",
      "    4.29590\n",
      "    7.20290\n",
      "    1.98690\n",
      "    0.14454\n",
      "    9.05510\n",
      "    0.61705\n",
      "\n"
     ]
    }
   ],
   "source": [
    "y"
   ]
  },
  {
   "cell_type": "code",
   "execution_count": 17,
   "metadata": {},
   "outputs": [],
   "source": [
    "function plotData(x,y)\n",
    "    plot(x,y, 'rx', 'MarkerSize', 10);\n",
    "    ylabel('Profit in $10,000s');\n",
    "    xlabel('Population of City in 10,000s');\n",
    "end"
   ]
  },
  {
   "cell_type": "code",
   "execution_count": 21,
   "metadata": {
    "collapsed": true,
    "jupyter": {
     "outputs_hidden": true
    }
   },
   "outputs": [
    {
     "data": {
      "image/png": "[encoded data removed]",
      "text/plain": [
       "<IPython.core.display.Image object>"
      ]
     },
     "metadata": {},
     "output_type": "display_data"
    }
   ],
   "source": [
    "plotData(X,y)"
   ]
  },
  {
   "cell_type": "markdown",
   "metadata": {},
   "source": [
    "## Add a column of ones to represent $\\theta_0$ as just another feature.."
   ]
  },
  {
   "cell_type": "code",
   "execution_count": 11,
   "metadata": {},
   "outputs": [
    {
     "name": "stdout",
     "output_type": "stream",
     "text": [
      "X =\n",
      "\n",
      "    1.0000    6.1101\n",
      "    1.0000    5.5277\n",
      "    1.0000    8.5186\n",
      "    1.0000    7.0032\n",
      "    1.0000    5.8598\n",
      "    1.0000    8.3829\n",
      "    1.0000    7.4764\n",
      "    1.0000    8.5781\n",
      "    1.0000    6.4862\n",
      "    1.0000    5.0546\n",
      "    1.0000    5.7107\n",
      "    1.0000   14.1640\n",
      "    1.0000    5.7340\n",
      "    1.0000    8.4084\n",
      "    1.0000    5.6407\n",
      "    1.0000    5.3794\n",
      "    1.0000    6.3654\n",
      "    1.0000    5.1301\n",
      "    1.0000    6.4296\n",
      "    1.0000    7.0708\n",
      "    1.0000    6.1891\n",
      "    1.0000   20.2700\n",
      "    1.0000    5.4901\n",
      "    1.0000    6.3261\n",
      "    1.0000    5.5649\n",
      "    1.0000   18.9450\n",
      "    1.0000   12.8280\n",
      "    1.0000   10.9570\n",
      "    1.0000   13.1760\n",
      "    1.0000   22.2030\n",
      "    1.0000    5.2524\n",
      "    1.0000    6.5894\n",
      "    1.0000    9.2482\n",
      "    1.0000    5.8918\n",
      "    1.0000    8.2111\n",
      "    1.0000    7.9334\n",
      "    1.0000    8.0959\n",
      "    1.0000    5.6063\n",
      "    1.0000   12.8360\n",
      "    1.0000    6.3534\n",
      "    1.0000    5.4069\n",
      "    1.0000    6.8825\n",
      "    1.0000   11.7080\n",
      "    1.0000    5.7737\n",
      "    1.0000    7.8247\n",
      "    1.0000    7.0931\n",
      "    1.0000    5.0702\n",
      "    1.0000    5.8014\n",
      "    1.0000   11.7000\n",
      "    1.0000    5.5416\n",
      "    1.0000    7.5402\n",
      "    1.0000    5.3077\n",
      "    1.0000    7.4239\n",
      "    1.0000    7.6031\n",
      "    1.0000    6.3328\n",
      "    1.0000    6.3589\n",
      "    1.0000    6.2742\n",
      "    1.0000    5.6397\n",
      "    1.0000    9.3102\n",
      "    1.0000    9.4536\n",
      "    1.0000    8.8254\n",
      "    1.0000    5.1793\n",
      "    1.0000   21.2790\n",
      "    1.0000   14.9080\n",
      "    1.0000   18.9590\n",
      "    1.0000    7.2182\n",
      "    1.0000    8.2951\n",
      "    1.0000   10.2360\n",
      "    1.0000    5.4994\n",
      "    1.0000   20.3410\n",
      "    1.0000   10.1360\n",
      "    1.0000    7.3345\n",
      "    1.0000    6.0062\n",
      "    1.0000    7.2259\n",
      "    1.0000    5.0269\n",
      "    1.0000    6.5479\n",
      "    1.0000    7.5386\n",
      "    1.0000    5.0365\n",
      "    1.0000   10.2740\n",
      "    1.0000    5.1077\n",
      "    1.0000    5.7292\n",
      "    1.0000    5.1884\n",
      "    1.0000    6.3557\n",
      "    1.0000    9.7687\n",
      "    1.0000    6.5159\n",
      "    1.0000    8.5172\n",
      "    1.0000    9.1802\n",
      "    1.0000    6.0020\n",
      "    1.0000    5.5204\n",
      "    1.0000    5.0594\n",
      "    1.0000    5.7077\n",
      "    1.0000    7.6366\n",
      "    1.0000    5.8707\n",
      "    1.0000    5.3054\n",
      "    1.0000    8.2934\n",
      "    1.0000   13.3940\n",
      "    1.0000    5.4369\n",
      "\n"
     ]
    }
   ],
   "source": [
    "X = [ones(m,1), X]"
   ]
  },
  {
   "cell_type": "code",
   "execution_count": 28,
   "metadata": {},
   "outputs": [
    {
     "name": "stdout",
     "output_type": "stream",
     "text": [
      "ans =  1\n"
     ]
    }
   ],
   "source": [
    "X(1, 1)"
   ]
  },
  {
   "cell_type": "code",
   "execution_count": 35,
   "metadata": {},
   "outputs": [
    {
     "name": "stdout",
     "output_type": "stream",
     "text": [
      "\n",
      " -- Keyword: return\n",
      "     Return from a function.\n",
      "\n",
      "     See also: function.\n",
      "\n",
      "\n",
      "Additional help for built-in functions and operators is\n",
      "available in the online version of the manual.  Use the command\n",
      "'doc <topic>' to search the manual index.\n",
      "\n",
      "Help and information about Octave is also available on the WWW\n",
      "at http://www.octave.org and via the help@octave.org\n",
      "mailing list.\n"
     ]
    }
   ],
   "source": [
    "help return"
   ]
  },
  {
   "cell_type": "code",
   "execution_count": 12,
   "metadata": {},
   "outputs": [
    {
     "name": "stdout",
     "output_type": "stream",
     "text": [
      "theta =\n",
      "\n",
      "   0\n",
      "   0\n",
      "\n"
     ]
    }
   ],
   "source": [
    "theta = zeros(2,1)"
   ]
  },
  {
   "cell_type": "code",
   "execution_count": 37,
   "metadata": {},
   "outputs": [
    {
     "name": "stdout",
     "output_type": "stream",
     "text": [
      "ans =\n",
      "\n",
      "   97    2\n",
      "\n"
     ]
    }
   ],
   "source": [
    "size(X)"
   ]
  },
  {
   "cell_type": "code",
   "execution_count": 6,
   "metadata": {},
   "outputs": [
    {
     "name": "stdout",
     "output_type": "stream",
     "text": [
      "ans =\n",
      "\n",
      "   97    1\n",
      "\n"
     ]
    }
   ],
   "source": [
    "size(y)"
   ]
  },
  {
   "cell_type": "code",
   "execution_count": 7,
   "metadata": {},
   "outputs": [
    {
     "name": "stdout",
     "output_type": "stream",
     "text": [
      "ans =\n",
      "\n",
      "   2   1\n",
      "\n"
     ]
    }
   ],
   "source": [
    "size(theta)"
   ]
  },
  {
   "cell_type": "code",
   "execution_count": 8,
   "metadata": {},
   "outputs": [
    {
     "name": "stdout",
     "output_type": "stream",
     "text": [
      "ans =\n",
      "\n",
      "    6.1101\n",
      "    5.5277\n",
      "    8.5186\n",
      "    7.0032\n",
      "    5.8598\n",
      "    8.3829\n",
      "    7.4764\n",
      "    8.5781\n",
      "    6.4862\n",
      "    5.0546\n",
      "    5.7107\n",
      "   14.1640\n",
      "    5.7340\n",
      "    8.4084\n",
      "    5.6407\n",
      "    5.3794\n",
      "    6.3654\n",
      "    5.1301\n",
      "    6.4296\n",
      "    7.0708\n",
      "    6.1891\n",
      "   20.2700\n",
      "    5.4901\n",
      "    6.3261\n",
      "    5.5649\n",
      "   18.9450\n",
      "   12.8280\n",
      "   10.9570\n",
      "   13.1760\n",
      "   22.2030\n",
      "    5.2524\n",
      "    6.5894\n",
      "    9.2482\n",
      "    5.8918\n",
      "    8.2111\n",
      "    7.9334\n",
      "    8.0959\n",
      "    5.6063\n",
      "   12.8360\n",
      "    6.3534\n",
      "    5.4069\n",
      "    6.8825\n",
      "   11.7080\n",
      "    5.7737\n",
      "    7.8247\n",
      "    7.0931\n",
      "    5.0702\n",
      "    5.8014\n",
      "   11.7000\n",
      "    5.5416\n",
      "    7.5402\n",
      "    5.3077\n",
      "    7.4239\n",
      "    7.6031\n",
      "    6.3328\n",
      "    6.3589\n",
      "    6.2742\n",
      "    5.6397\n",
      "    9.3102\n",
      "    9.4536\n",
      "    8.8254\n",
      "    5.1793\n",
      "   21.2790\n",
      "   14.9080\n",
      "   18.9590\n",
      "    7.2182\n",
      "    8.2951\n",
      "   10.2360\n",
      "    5.4994\n",
      "   20.3410\n",
      "   10.1360\n",
      "    7.3345\n",
      "    6.0062\n",
      "    7.2259\n",
      "    5.0269\n",
      "    6.5479\n",
      "    7.5386\n",
      "    5.0365\n",
      "   10.2740\n",
      "    5.1077\n",
      "    5.7292\n",
      "    5.1884\n",
      "    6.3557\n",
      "    9.7687\n",
      "    6.5159\n",
      "    8.5172\n",
      "    9.1802\n",
      "    6.0020\n",
      "    5.5204\n",
      "    5.0594\n",
      "    5.7077\n",
      "    7.6366\n",
      "    5.8707\n",
      "    5.3054\n",
      "    8.2934\n",
      "   13.3940\n",
      "    5.4369\n",
      "\n"
     ]
    }
   ],
   "source": [
    "X(:,2)"
   ]
  },
  {
   "cell_type": "code",
   "execution_count": 13,
   "metadata": {},
   "outputs": [
    {
     "name": "stdout",
     "output_type": "stream",
     "text": [
      "X =\n",
      "\n",
      "    1.0000    6.1101\n",
      "    1.0000    5.5277\n",
      "    1.0000    8.5186\n",
      "    1.0000    7.0032\n",
      "    1.0000    5.8598\n",
      "    1.0000    8.3829\n",
      "    1.0000    7.4764\n",
      "    1.0000    8.5781\n",
      "    1.0000    6.4862\n",
      "    1.0000    5.0546\n",
      "    1.0000    5.7107\n",
      "    1.0000   14.1640\n",
      "    1.0000    5.7340\n",
      "    1.0000    8.4084\n",
      "    1.0000    5.6407\n",
      "    1.0000    5.3794\n",
      "    1.0000    6.3654\n",
      "    1.0000    5.1301\n",
      "    1.0000    6.4296\n",
      "    1.0000    7.0708\n",
      "    1.0000    6.1891\n",
      "    1.0000   20.2700\n",
      "    1.0000    5.4901\n",
      "    1.0000    6.3261\n",
      "    1.0000    5.5649\n",
      "    1.0000   18.9450\n",
      "    1.0000   12.8280\n",
      "    1.0000   10.9570\n",
      "    1.0000   13.1760\n",
      "    1.0000   22.2030\n",
      "    1.0000    5.2524\n",
      "    1.0000    6.5894\n",
      "    1.0000    9.2482\n",
      "    1.0000    5.8918\n",
      "    1.0000    8.2111\n",
      "    1.0000    7.9334\n",
      "    1.0000    8.0959\n",
      "    1.0000    5.6063\n",
      "    1.0000   12.8360\n",
      "    1.0000    6.3534\n",
      "    1.0000    5.4069\n",
      "    1.0000    6.8825\n",
      "    1.0000   11.7080\n",
      "    1.0000    5.7737\n",
      "    1.0000    7.8247\n",
      "    1.0000    7.0931\n",
      "    1.0000    5.0702\n",
      "    1.0000    5.8014\n",
      "    1.0000   11.7000\n",
      "    1.0000    5.5416\n",
      "    1.0000    7.5402\n",
      "    1.0000    5.3077\n",
      "    1.0000    7.4239\n",
      "    1.0000    7.6031\n",
      "    1.0000    6.3328\n",
      "    1.0000    6.3589\n",
      "    1.0000    6.2742\n",
      "    1.0000    5.6397\n",
      "    1.0000    9.3102\n",
      "    1.0000    9.4536\n",
      "    1.0000    8.8254\n",
      "    1.0000    5.1793\n",
      "    1.0000   21.2790\n",
      "    1.0000   14.9080\n",
      "    1.0000   18.9590\n",
      "    1.0000    7.2182\n",
      "    1.0000    8.2951\n",
      "    1.0000   10.2360\n",
      "    1.0000    5.4994\n",
      "    1.0000   20.3410\n",
      "    1.0000   10.1360\n",
      "    1.0000    7.3345\n",
      "    1.0000    6.0062\n",
      "    1.0000    7.2259\n",
      "    1.0000    5.0269\n",
      "    1.0000    6.5479\n",
      "    1.0000    7.5386\n",
      "    1.0000    5.0365\n",
      "    1.0000   10.2740\n",
      "    1.0000    5.1077\n",
      "    1.0000    5.7292\n",
      "    1.0000    5.1884\n",
      "    1.0000    6.3557\n",
      "    1.0000    9.7687\n",
      "    1.0000    6.5159\n",
      "    1.0000    8.5172\n",
      "    1.0000    9.1802\n",
      "    1.0000    6.0020\n",
      "    1.0000    5.5204\n",
      "    1.0000    5.0594\n",
      "    1.0000    5.7077\n",
      "    1.0000    7.6366\n",
      "    1.0000    5.8707\n",
      "    1.0000    5.3054\n",
      "    1.0000    8.2934\n",
      "    1.0000   13.3940\n",
      "    1.0000    5.4369\n",
      "\n"
     ]
    }
   ],
   "source": [
    "X"
   ]
  },
  {
   "cell_type": "code",
   "execution_count": 10,
   "metadata": {},
   "outputs": [
    {
     "name": "stdout",
     "output_type": "stream",
     "text": [
      "X1 =\n",
      "\n",
      "    6.1101\n",
      "    5.5277\n",
      "    8.5186\n",
      "    7.0032\n",
      "    5.8598\n",
      "    8.3829\n",
      "    7.4764\n",
      "    8.5781\n",
      "    6.4862\n",
      "    5.0546\n",
      "    5.7107\n",
      "   14.1640\n",
      "    5.7340\n",
      "    8.4084\n",
      "    5.6407\n",
      "    5.3794\n",
      "    6.3654\n",
      "    5.1301\n",
      "    6.4296\n",
      "    7.0708\n",
      "    6.1891\n",
      "   20.2700\n",
      "    5.4901\n",
      "    6.3261\n",
      "    5.5649\n",
      "   18.9450\n",
      "   12.8280\n",
      "   10.9570\n",
      "   13.1760\n",
      "   22.2030\n",
      "    5.2524\n",
      "    6.5894\n",
      "    9.2482\n",
      "    5.8918\n",
      "    8.2111\n",
      "    7.9334\n",
      "    8.0959\n",
      "    5.6063\n",
      "   12.8360\n",
      "    6.3534\n",
      "    5.4069\n",
      "    6.8825\n",
      "   11.7080\n",
      "    5.7737\n",
      "    7.8247\n",
      "    7.0931\n",
      "    5.0702\n",
      "    5.8014\n",
      "   11.7000\n",
      "    5.5416\n",
      "    7.5402\n",
      "    5.3077\n",
      "    7.4239\n",
      "    7.6031\n",
      "    6.3328\n",
      "    6.3589\n",
      "    6.2742\n",
      "    5.6397\n",
      "    9.3102\n",
      "    9.4536\n",
      "    8.8254\n",
      "    5.1793\n",
      "   21.2790\n",
      "   14.9080\n",
      "   18.9590\n",
      "    7.2182\n",
      "    8.2951\n",
      "   10.2360\n",
      "    5.4994\n",
      "   20.3410\n",
      "   10.1360\n",
      "    7.3345\n",
      "    6.0062\n",
      "    7.2259\n",
      "    5.0269\n",
      "    6.5479\n",
      "    7.5386\n",
      "    5.0365\n",
      "   10.2740\n",
      "    5.1077\n",
      "    5.7292\n",
      "    5.1884\n",
      "    6.3557\n",
      "    9.7687\n",
      "    6.5159\n",
      "    8.5172\n",
      "    9.1802\n",
      "    6.0020\n",
      "    5.5204\n",
      "    5.0594\n",
      "    5.7077\n",
      "    7.6366\n",
      "    5.8707\n",
      "    5.3054\n",
      "    8.2934\n",
      "   13.3940\n",
      "    5.4369\n",
      "\n"
     ]
    }
   ],
   "source": [
    "X1 = X(:,2)"
   ]
  },
  {
   "cell_type": "code",
   "execution_count": 54,
   "metadata": {
    "collapsed": true,
    "jupyter": {
     "outputs_hidden": true
    }
   },
   "outputs": [
    {
     "name": "stdout",
     "output_type": "stream",
     "text": [
      "ans =\n",
      "\n",
      "  -11.481900\n",
      "   -3.602500\n",
      "   -5.143400\n",
      "   -4.850800\n",
      "   -0.963500\n",
      "   -3.503100\n",
      "    3.128100\n",
      "   -3.421900\n",
      "   -0.112500\n",
      "    1.238000\n",
      "    2.458500\n",
      "   -1.341000\n",
      "    2.578900\n",
      "    1.182600\n",
      "    4.924520\n",
      "    1.866500\n",
      "    1.060600\n",
      "    4.569330\n",
      "    2.777800\n",
      "    1.681500\n",
      "    3.050500\n",
      "   -1.497000\n",
      "    1.227100\n",
      "    1.138600\n",
      "    2.482400\n",
      "   -3.693000\n",
      "   -0.673000\n",
      "    3.910300\n",
      "   -1.516000\n",
      "   -1.944000\n",
      "    6.472400\n",
      "    0.592800\n",
      "   -2.885800\n",
      "    4.042300\n",
      "    1.668500\n",
      "    3.371100\n",
      "    3.979500\n",
      "    2.213500\n",
      "    2.719000\n",
      "    0.856000\n",
      "    4.850330\n",
      "    2.971000\n",
      "    6.322600\n",
      "    3.333100\n",
      "    1.092900\n",
      "    6.046800\n",
      "   -0.063500\n",
      "    3.957400\n",
      "    3.695700\n",
      "    4.523700\n",
      "    0.789800\n",
      "    3.468100\n",
      "    3.135400\n",
      "    2.605000\n",
      "    4.909500\n",
      "    7.780000\n",
      "    3.798600\n",
      "    1.035500\n",
      "    5.347800\n",
      "    4.039500\n",
      "    3.656000\n",
      "    5.922090\n",
      "    3.350000\n",
      "    2.854000\n",
      "    1.905000\n",
      "    2.333000\n",
      "    2.550900\n",
      "    2.460600\n",
      "    4.482100\n",
      "   -0.651000\n",
      "    3.456100\n",
      "    3.308600\n",
      "    4.727800\n",
      "    3.884800\n",
      "    7.707600\n",
      "    6.251120\n",
      "    3.654100\n",
      "   -0.664900\n",
      "    3.521400\n",
      "    3.050100\n",
      "    5.249670\n",
      "    4.984190\n",
      "    5.677090\n",
      "    2.225200\n",
      "    1.172300\n",
      "    4.275700\n",
      "    2.382100\n",
      "    5.075050\n",
      "    5.368400\n",
      "    2.238000\n",
      "    3.862600\n",
      "    3.340700\n",
      "   -1.332200\n",
      "    3.318500\n",
      "    8.148860\n",
      "    4.338900\n",
      "    4.819850\n",
      "\n"
     ]
    }
   ],
   "source": [
    "X1.-y"
   ]
  },
  {
   "cell_type": "code",
   "execution_count": 58,
   "metadata": {
    "collapsed": true,
    "jupyter": {
     "outputs_hidden": true
    }
   },
   "outputs": [
    {
     "name": "stdout",
     "output_type": "stream",
     "text": [
      "ans =\n",
      "\n",
      "   6.3940e+03\n",
      "   6.2943e+02\n",
      "   1.2830e+03\n",
      "   1.1412e+03\n",
      "   4.5024e+01\n",
      "   5.9518e+02\n",
      "   4.7457e+02\n",
      "   5.6791e+02\n",
      "   6.1383e-01\n",
      "   7.4333e+01\n",
      "   2.9314e+02\n",
      "   8.7217e+01\n",
      "   3.2256e+02\n",
      "   6.7829e+01\n",
      "   1.1762e+03\n",
      "   1.6897e+02\n",
      "   5.4556e+01\n",
      "   1.0126e+03\n",
      "   3.7423e+02\n",
      "   1.3713e+02\n",
      "   4.5132e+02\n",
      "   1.0869e+02\n",
      "   7.3030e+01\n",
      "   6.2876e+01\n",
      "   2.9887e+02\n",
      "   6.6146e+02\n",
      "   2.1967e+01\n",
      "   7.4159e+02\n",
      "   1.1147e+02\n",
      "   1.8329e+02\n",
      "   2.0318e+03\n",
      "   1.7043e+01\n",
      "   4.0390e+02\n",
      "   7.9250e+02\n",
      "   1.3502e+02\n",
      "   5.5117e+02\n",
      "   7.6807e+02\n",
      "   2.3763e+02\n",
      "   3.5856e+02\n",
      "   3.5538e+01\n",
      "   1.1410e+03\n",
      "   4.2810e+02\n",
      "   1.9388e+03\n",
      "   5.3881e+02\n",
      "   5.7930e+01\n",
      "   1.7733e+03\n",
      "   1.9556e-01\n",
      "   7.5956e+02\n",
      "   6.6242e+02\n",
      "   9.9250e+02\n",
      "   3.0254e+01\n",
      "   5.8334e+02\n",
      "   4.7679e+02\n",
      "   3.2912e+02\n",
      "   1.1690e+03\n",
      "   2.9356e+03\n",
      "   6.9982e+02\n",
      "   5.2005e+01\n",
      "   1.3870e+03\n",
      "   7.9140e+02\n",
      "   6.4827e+02\n",
      "   1.7010e+03\n",
      "   5.4429e+02\n",
      "   3.9505e+02\n",
      "   1.7601e+02\n",
      "   2.6398e+02\n",
      "   3.1559e+02\n",
      "   2.9365e+02\n",
      "   9.7433e+02\n",
      "   2.0554e+01\n",
      "   5.7931e+02\n",
      "   5.3092e+02\n",
      "   1.0841e+03\n",
      "   7.3195e+02\n",
      "   2.8812e+03\n",
      "   1.8952e+03\n",
      "   6.4759e+02\n",
      "   2.1441e+01\n",
      "   6.0141e+02\n",
      "   4.5120e+02\n",
      "   1.3366e+03\n",
      "   1.2048e+03\n",
      "   1.5631e+03\n",
      "   2.4015e+02\n",
      "   6.6653e+01\n",
      "   8.8666e+02\n",
      "   2.7521e+02\n",
      "   1.2492e+03\n",
      "   1.3978e+03\n",
      "   2.4292e+02\n",
      "   7.2360e+02\n",
      "   5.4127e+02\n",
      "   8.6076e+01\n",
      "   5.3410e+02\n",
      "   3.2206e+03\n",
      "   9.1306e+02\n",
      "   1.1267e+03\n",
      "\n"
     ]
    }
   ],
   "source": [
    "(((X1.-y).^2)/2) * m"
   ]
  },
  {
   "cell_type": "code",
   "execution_count": 14,
   "metadata": {},
   "outputs": [
    {
     "name": "stdout",
     "output_type": "stream",
     "text": [
      "m =  97\n"
     ]
    }
   ],
   "source": [
    "m"
   ]
  },
  {
   "cell_type": "code",
   "execution_count": 15,
   "metadata": {},
   "outputs": [
    {
     "name": "stdout",
     "output_type": "stream",
     "text": [
      "ans =  7.4459\n"
     ]
    }
   ],
   "source": [
    "sum((X1.-y).^2)*(1/(2*m))"
   ]
  },
  {
   "cell_type": "code",
   "execution_count": 16,
   "metadata": {},
   "outputs": [
    {
     "name": "stdout",
     "output_type": "stream",
     "text": [
      "ans =\n",
      "\n",
      "   97    2\n",
      "\n"
     ]
    }
   ],
   "source": [
    "size(X)"
   ]
  },
  {
   "cell_type": "code",
   "execution_count": 17,
   "metadata": {},
   "outputs": [
    {
     "name": "stdout",
     "output_type": "stream",
     "text": [
      "ans =\n",
      "\n",
      "   2   1\n",
      "\n"
     ]
    }
   ],
   "source": [
    "size(theta)"
   ]
  },
  {
   "cell_type": "code",
   "execution_count": 18,
   "metadata": {},
   "outputs": [
    {
     "name": "stdout",
     "output_type": "stream",
     "text": [
      "theta =\n",
      "\n",
      "   0\n",
      "   0\n",
      "\n"
     ]
    }
   ],
   "source": [
    "theta"
   ]
  },
  {
   "cell_type": "code",
   "execution_count": 19,
   "metadata": {
    "collapsed": true,
    "jupyter": {
     "outputs_hidden": true
    }
   },
   "outputs": [
    {
     "name": "stdout",
     "output_type": "stream",
     "text": [
      "X =\n",
      "\n",
      "    1.0000    6.1101\n",
      "    1.0000    5.5277\n",
      "    1.0000    8.5186\n",
      "    1.0000    7.0032\n",
      "    1.0000    5.8598\n",
      "    1.0000    8.3829\n",
      "    1.0000    7.4764\n",
      "    1.0000    8.5781\n",
      "    1.0000    6.4862\n",
      "    1.0000    5.0546\n",
      "    1.0000    5.7107\n",
      "    1.0000   14.1640\n",
      "    1.0000    5.7340\n",
      "    1.0000    8.4084\n",
      "    1.0000    5.6407\n",
      "    1.0000    5.3794\n",
      "    1.0000    6.3654\n",
      "    1.0000    5.1301\n",
      "    1.0000    6.4296\n",
      "    1.0000    7.0708\n",
      "    1.0000    6.1891\n",
      "    1.0000   20.2700\n",
      "    1.0000    5.4901\n",
      "    1.0000    6.3261\n",
      "    1.0000    5.5649\n",
      "    1.0000   18.9450\n",
      "    1.0000   12.8280\n",
      "    1.0000   10.9570\n",
      "    1.0000   13.1760\n",
      "    1.0000   22.2030\n",
      "    1.0000    5.2524\n",
      "    1.0000    6.5894\n",
      "    1.0000    9.2482\n",
      "    1.0000    5.8918\n",
      "    1.0000    8.2111\n",
      "    1.0000    7.9334\n",
      "    1.0000    8.0959\n",
      "    1.0000    5.6063\n",
      "    1.0000   12.8360\n",
      "    1.0000    6.3534\n",
      "    1.0000    5.4069\n",
      "    1.0000    6.8825\n",
      "    1.0000   11.7080\n",
      "    1.0000    5.7737\n",
      "    1.0000    7.8247\n",
      "    1.0000    7.0931\n",
      "    1.0000    5.0702\n",
      "    1.0000    5.8014\n",
      "    1.0000   11.7000\n",
      "    1.0000    5.5416\n",
      "    1.0000    7.5402\n",
      "    1.0000    5.3077\n",
      "    1.0000    7.4239\n",
      "    1.0000    7.6031\n",
      "    1.0000    6.3328\n",
      "    1.0000    6.3589\n",
      "    1.0000    6.2742\n",
      "    1.0000    5.6397\n",
      "    1.0000    9.3102\n",
      "    1.0000    9.4536\n",
      "    1.0000    8.8254\n",
      "    1.0000    5.1793\n",
      "    1.0000   21.2790\n",
      "    1.0000   14.9080\n",
      "    1.0000   18.9590\n",
      "    1.0000    7.2182\n",
      "    1.0000    8.2951\n",
      "    1.0000   10.2360\n",
      "    1.0000    5.4994\n",
      "    1.0000   20.3410\n",
      "    1.0000   10.1360\n",
      "    1.0000    7.3345\n",
      "    1.0000    6.0062\n",
      "    1.0000    7.2259\n",
      "    1.0000    5.0269\n",
      "    1.0000    6.5479\n",
      "    1.0000    7.5386\n",
      "    1.0000    5.0365\n",
      "    1.0000   10.2740\n",
      "    1.0000    5.1077\n",
      "    1.0000    5.7292\n",
      "    1.0000    5.1884\n",
      "    1.0000    6.3557\n",
      "    1.0000    9.7687\n",
      "    1.0000    6.5159\n",
      "    1.0000    8.5172\n",
      "    1.0000    9.1802\n",
      "    1.0000    6.0020\n",
      "    1.0000    5.5204\n",
      "    1.0000    5.0594\n",
      "    1.0000    5.7077\n",
      "    1.0000    7.6366\n",
      "    1.0000    5.8707\n",
      "    1.0000    5.3054\n",
      "    1.0000    8.2934\n",
      "    1.0000   13.3940\n",
      "    1.0000    5.4369\n",
      "\n"
     ]
    }
   ],
   "source": [
    "X"
   ]
  },
  {
   "cell_type": "code",
   "execution_count": 38,
   "metadata": {},
   "outputs": [
    {
     "name": "stdout",
     "output_type": "stream",
     "text": [
      "ans =\n",
      "\n",
      "    1.0000    6.1101\n",
      "    1.0000    5.5277\n",
      "    1.0000    8.5186\n",
      "    1.0000    7.0032\n",
      "    1.0000    5.8598\n",
      "    1.0000    8.3829\n",
      "    1.0000    7.4764\n",
      "    1.0000    8.5781\n",
      "    1.0000    6.4862\n",
      "    1.0000    5.0546\n",
      "    1.0000    5.7107\n",
      "    1.0000   14.1640\n",
      "    1.0000    5.7340\n",
      "    1.0000    8.4084\n",
      "    1.0000    5.6407\n",
      "    1.0000    5.3794\n",
      "    1.0000    6.3654\n",
      "    1.0000    5.1301\n",
      "    1.0000    6.4296\n",
      "    1.0000    7.0708\n",
      "    1.0000    6.1891\n",
      "    1.0000   20.2700\n",
      "    1.0000    5.4901\n",
      "    1.0000    6.3261\n",
      "    1.0000    5.5649\n",
      "    1.0000   18.9450\n",
      "    1.0000   12.8280\n",
      "    1.0000   10.9570\n",
      "    1.0000   13.1760\n",
      "    1.0000   22.2030\n",
      "    1.0000    5.2524\n",
      "    1.0000    6.5894\n",
      "    1.0000    9.2482\n",
      "    1.0000    5.8918\n",
      "    1.0000    8.2111\n",
      "    1.0000    7.9334\n",
      "    1.0000    8.0959\n",
      "    1.0000    5.6063\n",
      "    1.0000   12.8360\n",
      "    1.0000    6.3534\n",
      "    1.0000    5.4069\n",
      "    1.0000    6.8825\n",
      "    1.0000   11.7080\n",
      "    1.0000    5.7737\n",
      "    1.0000    7.8247\n",
      "    1.0000    7.0931\n",
      "    1.0000    5.0702\n",
      "    1.0000    5.8014\n",
      "    1.0000   11.7000\n",
      "    1.0000    5.5416\n",
      "    1.0000    7.5402\n",
      "    1.0000    5.3077\n",
      "    1.0000    7.4239\n",
      "    1.0000    7.6031\n",
      "    1.0000    6.3328\n",
      "    1.0000    6.3589\n",
      "    1.0000    6.2742\n",
      "    1.0000    5.6397\n",
      "    1.0000    9.3102\n",
      "    1.0000    9.4536\n",
      "    1.0000    8.8254\n",
      "    1.0000    5.1793\n",
      "    1.0000   21.2790\n",
      "    1.0000   14.9080\n",
      "    1.0000   18.9590\n",
      "    1.0000    7.2182\n",
      "    1.0000    8.2951\n",
      "    1.0000   10.2360\n",
      "    1.0000    5.4994\n",
      "    1.0000   20.3410\n",
      "    1.0000   10.1360\n",
      "    1.0000    7.3345\n",
      "    1.0000    6.0062\n",
      "    1.0000    7.2259\n",
      "    1.0000    5.0269\n",
      "    1.0000    6.5479\n",
      "    1.0000    7.5386\n",
      "    1.0000    5.0365\n",
      "    1.0000   10.2740\n",
      "    1.0000    5.1077\n",
      "    1.0000    5.7292\n",
      "    1.0000    5.1884\n",
      "    1.0000    6.3557\n",
      "    1.0000    9.7687\n",
      "    1.0000    6.5159\n",
      "    1.0000    8.5172\n",
      "    1.0000    9.1802\n",
      "    1.0000    6.0020\n",
      "    1.0000    5.5204\n",
      "    1.0000    5.0594\n",
      "    1.0000    5.7077\n",
      "    1.0000    7.6366\n",
      "    1.0000    5.8707\n",
      "    1.0000    5.3054\n",
      "    1.0000    8.2934\n",
      "    1.0000   13.3940\n",
      "    1.0000    5.4369\n",
      "\n"
     ]
    }
   ],
   "source": [
    "X(:,1:2)"
   ]
  },
  {
   "cell_type": "markdown",
   "metadata": {},
   "source": [
    "### Inspect the first 5 rows of a matrix..."
   ]
  },
  {
   "cell_type": "code",
   "execution_count": 39,
   "metadata": {},
   "outputs": [
    {
     "name": "stdout",
     "output_type": "stream",
     "text": [
      "ans =\n",
      "\n",
      "   1.0000   6.1101\n",
      "   1.0000   5.5277\n",
      "   1.0000   8.5186\n",
      "   1.0000   7.0032\n",
      "   1.0000   5.8598\n",
      "\n"
     ]
    }
   ],
   "source": [
    "X(1:5,:)"
   ]
  },
  {
   "cell_type": "markdown",
   "metadata": {},
   "source": [
    "### Compute the Cost.  Note this works for univariate or multivariate regression problems (i.e: single or multiple features)..."
   ]
  },
  {
   "cell_type": "markdown",
   "metadata": {},
   "source": [
    "#### Compute the hypothesis vector..."
   ]
  },
  {
   "cell_type": "markdown",
   "metadata": {},
   "source": [
    "$J(\\theta) = \\frac{1}{2m}\\sum_{i=1}^m(h_\\theta(x^{(i)}) - y^{(i)})^2$"
   ]
  },
  {
   "cell_type": "code",
   "execution_count": 16,
   "metadata": {},
   "outputs": [
    {
     "name": "stdout",
     "output_type": "stream",
     "text": [
      "ans =\n",
      "\n",
      "   2   1\n",
      "\n"
     ]
    }
   ],
   "source": [
    "size(theta)"
   ]
  },
  {
   "cell_type": "code",
   "execution_count": 15,
   "metadata": {},
   "outputs": [
    {
     "name": "stdout",
     "output_type": "stream",
     "text": [
      "ans =\n",
      "\n",
      "   97    2\n",
      "\n"
     ]
    }
   ],
   "source": [
    "size(X)"
   ]
  },
  {
   "cell_type": "markdown",
   "metadata": {},
   "source": [
    "#### Dimensions must match in order to multiply matricies so order matters here.  Also, using matrix multiplication helps optimize the calculation instead of for-looping..."
   ]
  },
  {
   "cell_type": "code",
   "execution_count": 43,
   "metadata": {
    "collapsed": true,
    "jupyter": {
     "outputs_hidden": true
    }
   },
   "outputs": [
    {
     "name": "stdout",
     "output_type": "stream",
     "text": [
      "h =\n",
      "\n",
      "   0\n",
      "   0\n",
      "   0\n",
      "   0\n",
      "   0\n",
      "   0\n",
      "   0\n",
      "   0\n",
      "   0\n",
      "   0\n",
      "   0\n",
      "   0\n",
      "   0\n",
      "   0\n",
      "   0\n",
      "   0\n",
      "   0\n",
      "   0\n",
      "   0\n",
      "   0\n",
      "   0\n",
      "   0\n",
      "   0\n",
      "   0\n",
      "   0\n",
      "   0\n",
      "   0\n",
      "   0\n",
      "   0\n",
      "   0\n",
      "   0\n",
      "   0\n",
      "   0\n",
      "   0\n",
      "   0\n",
      "   0\n",
      "   0\n",
      "   0\n",
      "   0\n",
      "   0\n",
      "   0\n",
      "   0\n",
      "   0\n",
      "   0\n",
      "   0\n",
      "   0\n",
      "   0\n",
      "   0\n",
      "   0\n",
      "   0\n",
      "   0\n",
      "   0\n",
      "   0\n",
      "   0\n",
      "   0\n",
      "   0\n",
      "   0\n",
      "   0\n",
      "   0\n",
      "   0\n",
      "   0\n",
      "   0\n",
      "   0\n",
      "   0\n",
      "   0\n",
      "   0\n",
      "   0\n",
      "   0\n",
      "   0\n",
      "   0\n",
      "   0\n",
      "   0\n",
      "   0\n",
      "   0\n",
      "   0\n",
      "   0\n",
      "   0\n",
      "   0\n",
      "   0\n",
      "   0\n",
      "   0\n",
      "   0\n",
      "   0\n",
      "   0\n",
      "   0\n",
      "   0\n",
      "   0\n",
      "   0\n",
      "   0\n",
      "   0\n",
      "   0\n",
      "   0\n",
      "   0\n",
      "   0\n",
      "   0\n",
      "   0\n",
      "   0\n",
      "\n"
     ]
    }
   ],
   "source": [
    "h = X*theta"
   ]
  },
  {
   "cell_type": "markdown",
   "metadata": {},
   "source": [
    "#### Next, we obtain the squared errors, which is the difference between the hypothesis value and the actual y value for each observation..."
   ]
  },
  {
   "cell_type": "code",
   "execution_count": 44,
   "metadata": {
    "collapsed": true,
    "jupyter": {
     "outputs_hidden": true
    }
   },
   "outputs": [
    {
     "name": "stdout",
     "output_type": "stream",
     "text": [
      "squaredErrors =\n",
      "\n",
      "   3.0948e+02\n",
      "   8.3361e+01\n",
      "   1.8665e+02\n",
      "   1.4052e+02\n",
      "   4.6557e+01\n",
      "   1.4128e+02\n",
      "   1.8908e+01\n",
      "   1.4400e+02\n",
      "   4.3543e+01\n",
      "   1.4566e+01\n",
      "   1.0577e+01\n",
      "   2.4041e+02\n",
      "   9.9547e+00\n",
      "   5.2212e+01\n",
      "   5.1291e-01\n",
      "   1.2340e+01\n",
      "   2.8141e+01\n",
      "   3.1446e-01\n",
      "   1.3336e+01\n",
      "   2.9045e+01\n",
      "   9.8508e+00\n",
      "   4.7380e+02\n",
      "   1.8173e+01\n",
      "   2.6910e+01\n",
      "   9.5018e+00\n",
      "   5.1248e+02\n",
      "   1.8228e+02\n",
      "   4.9656e+01\n",
      "   2.1585e+02\n",
      "   5.8308e+02\n",
      "   1.4884e+00\n",
      "   3.5959e+01\n",
      "   1.4723e+02\n",
      "   3.4207e+00\n",
      "   4.2806e+01\n",
      "   2.0815e+01\n",
      "   1.6945e+01\n",
      "   1.1511e+01\n",
      "   1.0235e+02\n",
      "   3.0221e+01\n",
      "   3.0977e-01\n",
      "   1.5300e+01\n",
      "   2.9003e+01\n",
      "   5.9565e+00\n",
      "   4.5317e+01\n",
      "   1.0947e+00\n",
      "   2.6355e+01\n",
      "   3.4003e+00\n",
      "   6.4069e+01\n",
      "   1.0361e+00\n",
      "   4.5568e+01\n",
      "   3.3841e+00\n",
      "   1.8391e+01\n",
      "   2.4981e+01\n",
      "   2.0258e+00\n",
      "   2.0195e+00\n",
      "   6.1286e+00\n",
      "   2.1199e+01\n",
      "   1.5701e+01\n",
      "   2.9312e+01\n",
      "   2.6723e+01\n",
      "   5.5174e-01\n",
      "   3.2145e+02\n",
      "   1.4530e+02\n",
      "   2.9084e+02\n",
      "   2.3865e+01\n",
      "   3.2996e+01\n",
      "   6.0457e+01\n",
      "   1.0349e+00\n",
      "   4.4066e+02\n",
      "   4.4621e+01\n",
      "   1.6208e+01\n",
      "   1.6343e+00\n",
      "   1.1163e+01\n",
      "   7.1862e+00\n",
      "   8.8078e-02\n",
      "   1.5089e+01\n",
      "   3.2506e+01\n",
      "   4.5598e+01\n",
      "   4.2337e+00\n",
      "   2.2995e-01\n",
      "   4.1702e-02\n",
      "   4.6051e-01\n",
      "   5.6904e+01\n",
      "   2.8554e+01\n",
      "   1.7990e+01\n",
      "   4.6214e+01\n",
      "   8.5924e-01\n",
      "   2.3104e-02\n",
      "   7.9603e+00\n",
      "   3.4044e+00\n",
      "   1.8455e+01\n",
      "   5.1882e+01\n",
      "   3.9478e+00\n",
      "   2.0892e-02\n",
      "   8.1995e+01\n",
      "   3.8075e-01\n",
      "\n"
     ]
    }
   ],
   "source": [
    "squaredErrors = (h - y).^2"
   ]
  },
  {
   "cell_type": "markdown",
   "metadata": {},
   "source": [
    "#### The lengths should be the same as there should be a value in each case for each row of training data..."
   ]
  },
  {
   "cell_type": "code",
   "execution_count": 45,
   "metadata": {},
   "outputs": [
    {
     "name": "stdout",
     "output_type": "stream",
     "text": [
      "ans =  97\n"
     ]
    }
   ],
   "source": [
    "length(h)"
   ]
  },
  {
   "cell_type": "code",
   "execution_count": 46,
   "metadata": {},
   "outputs": [
    {
     "name": "stdout",
     "output_type": "stream",
     "text": [
      "ans =  97\n"
     ]
    }
   ],
   "source": [
    "length(squaredErrors)"
   ]
  },
  {
   "cell_type": "code",
   "execution_count": 47,
   "metadata": {},
   "outputs": [
    {
     "name": "stdout",
     "output_type": "stream",
     "text": [
      "ans =\n",
      "\n",
      "   97    1\n",
      "\n"
     ]
    }
   ],
   "source": [
    "size(squaredErrors)"
   ]
  },
  {
   "cell_type": "markdown",
   "metadata": {},
   "source": [
    "#### ```squaredErrors``` is a vector and so we sum it up..."
   ]
  },
  {
   "cell_type": "code",
   "execution_count": 48,
   "metadata": {},
   "outputs": [
    {
     "name": "stdout",
     "output_type": "stream",
     "text": [
      "sumOfSquaredErrors =  6222.1\n"
     ]
    }
   ],
   "source": [
    "sumOfSquaredErrors = sum(squaredErrors)"
   ]
  },
  {
   "cell_type": "markdown",
   "metadata": {},
   "source": [
    "#### Finish it out by finishing the equation and multiplying the ```sumOfSquaredErrors``` by ```1/2m```..."
   ]
  },
  {
   "cell_type": "code",
   "execution_count": 49,
   "metadata": {},
   "outputs": [
    {
     "name": "stdout",
     "output_type": "stream",
     "text": [
      "J =  32.073\n"
     ]
    }
   ],
   "source": [
    "J = (1/(2*m))*sumOfSquaredErrors"
   ]
  },
  {
   "cell_type": "markdown",
   "metadata": {},
   "source": [
    "### Compute a step of Gradient Descent.  Note this works for univariate or multivariate regression problems..."
   ]
  },
  {
   "cell_type": "markdown",
   "metadata": {},
   "source": [
    "#### $\\theta_j := \\theta_j - \\alpha\\frac{1}{m}\\sum_{i=1}^m(h_\\theta(x^{(i)}) - y^{(i)})x^{(i)}_j$"
   ]
  },
  {
   "cell_type": "code",
   "execution_count": 53,
   "metadata": {},
   "outputs": [],
   "source": [
    "iterations = 1500;\n",
    "alpha = 0.01;"
   ]
  },
  {
   "cell_type": "markdown",
   "metadata": {},
   "source": [
    "#### Just like with the Cost function, we have to compute the hypothesis..."
   ]
  },
  {
   "cell_type": "code",
   "execution_count": null,
   "metadata": {},
   "outputs": [],
   "source": [
    "h = X*theta;"
   ]
  },
  {
   "cell_type": "markdown",
   "metadata": {},
   "source": [
    "#### Just like with the Cost function, we have to compute the errors, but ***NOT*** squared.  Since, there's no element-wise operation, we don't need to use the ```sum``` function either..."
   ]
  },
  {
   "cell_type": "code",
   "execution_count": 56,
   "metadata": {},
   "outputs": [],
   "source": [
    "errors = (h - y);"
   ]
  },
  {
   "cell_type": "markdown",
   "metadata": {},
   "source": [
    "#### Multiply the errors by X..."
   ]
  },
  {
   "cell_type": "code",
   "execution_count": 75,
   "metadata": {},
   "outputs": [
    {
     "name": "stdout",
     "output_type": "stream",
     "text": [
      "ans =\n",
      "\n",
      "   97    2\n",
      "\n"
     ]
    }
   ],
   "source": [
    "size(X)"
   ]
  },
  {
   "cell_type": "code",
   "execution_count": 76,
   "metadata": {},
   "outputs": [
    {
     "name": "stdout",
     "output_type": "stream",
     "text": [
      "ans =\n",
      "\n",
      "    2   97\n",
      "\n"
     ]
    }
   ],
   "source": [
    "size(X')"
   ]
  },
  {
   "cell_type": "markdown",
   "metadata": {},
   "source": [
    "#### Need to transpose ```X``` to in order to multiply it by the ```errors``` vector..."
   ]
  },
  {
   "cell_type": "code",
   "execution_count": null,
   "metadata": {},
   "outputs": [],
   "source": [
    "errorsMatrix = X'*errors;"
   ]
  },
  {
   "cell_type": "markdown",
   "metadata": {},
   "source": [
    "#### Multiply this new matrix by ```1/m```..."
   ]
  },
  {
   "cell_type": "code",
   "execution_count": 79,
   "metadata": {},
   "outputs": [],
   "source": [
    "errorsMatrixOverObservations = (1/m)*errorsMatrix;"
   ]
  },
  {
   "cell_type": "markdown",
   "metadata": {},
   "source": [
    "#### Multiply this term by the learning rate $\\alpha$ and subtract from the beginning $\\theta$ to get the updated $\\theta$..."
   ]
  },
  {
   "cell_type": "code",
   "execution_count": 66,
   "metadata": {},
   "outputs": [
    {
     "name": "stdout",
     "output_type": "stream",
     "text": [
      "warning: the 'alpha' function is not yet implemented in Octave\n",
      "\n",
      "Please read <http://www.octave.org/missing.html> to learn how you can\n",
      "contribute missing functionality.\n",
      "\n",
      "\n",
      "error: 'alpha' undefined near line 1 column 13\n",
      "error: 'thetaNew' undefined near line 1 column 24\n"
     ]
    }
   ],
   "source": [
    "thetaNew = (alpha*errorsMatrixOverObservations);\n",
    "thetaUpdated = theta - thetaNew"
   ]
  },
  {
   "cell_type": "markdown",
   "metadata": {},
   "source": [
    "#### Taking the Cost steps from above and putting them in an actual function.  Again, works with univariate or multivariate problems..."
   ]
  },
  {
   "cell_type": "code",
   "execution_count": 13,
   "metadata": {},
   "outputs": [],
   "source": [
    "function J = computeCost(X,y,theta)\n",
    "    m = length(y);\n",
    "    J = 0;\n",
    "    \n",
    "    hypothesis = X*theta;\n",
    "    squaredErrors = (hypothesis - y).^2;\n",
    "    sumOfSquaredErrors = sum(squaredErrors);\n",
    "    J = (1/(2*m))*sumOfSquaredErrors;\n",
    "    \n",
    "end"
   ]
  },
  {
   "cell_type": "markdown",
   "metadata": {},
   "source": [
    "#### Taking the Gradient Descent steps from above and putting them in an actual function.  Again, works with univariate or multivariate problems..."
   ]
  },
  {
   "cell_type": "code",
   "execution_count": 14,
   "metadata": {},
   "outputs": [],
   "source": [
    "function [theta, J_history] = gradientDescent(X,y,theta,alpha,iterations)\n",
    "\n",
    "    m = length(y);\n",
    "    J_history = zeros(iterations,1);\n",
    "\n",
    "    for i = 1:iterations\n",
    "        h = X*theta;\n",
    "        errors = (h - y);\n",
    "        errorsMatrix = X'*errors;\n",
    "        errorsMatrixOverObservations = (1/m)*errorsMatrix;\n",
    "        thetaNew = (alpha*errorsMatrixOverObservations);\n",
    "        theta = theta - thetaNew;\n",
    "\n",
    "        %per the stock source code for the exercise, \"Save the cost J in every iteration\" \n",
    "        J_history(iterations) = computeCost(X,y,theta);\n",
    "\n",
    "    end\n",
    "    \n",
    "end"
   ]
  },
  {
   "cell_type": "markdown",
   "metadata": {},
   "source": [
    "#### Putting it all together with values from the univariate stock exercise calling script..."
   ]
  },
  {
   "cell_type": "code",
   "execution_count": null,
   "metadata": {},
   "outputs": [],
   "source": [
    "data = load('ex1data1.txt');\n",
    "X = data(:, 1);\n",
    "y = data(:, 2);\n",
    "X = [ones(m,1),X];\n",
    "m = length(y);\n",
    "theta = zeros(2,1);\n",
    "iterations = 1500;\n",
    "alpha = 0.01;\n",
    "\n",
    "J = computeCost(X,y,[-1;2]); %[-1;2] is the range of values the script is set to test for\n",
    "[theta, J_history] = gradientDescent(X,y,theta,alpha,iterations);"
   ]
  },
  {
   "cell_type": "markdown",
   "metadata": {},
   "source": [
    "#### You would then matrix-mutiply ```theta``` by whatever values you wanted to test with to get predictions..."
   ]
  },
  {
   "cell_type": "code",
   "execution_count": 17,
   "metadata": {},
   "outputs": [
    {
     "name": "stdout",
     "output_type": "stream",
     "text": [
      "prediction1 =  0.45198\n",
      "prediction2 =  4.5342\n"
     ]
    }
   ],
   "source": [
    "prediction1 = [1,3.5]*theta\n",
    "prediction2 = [1,7]*theta"
   ]
  },
  {
   "cell_type": "markdown",
   "metadata": {},
   "source": [
    "### Visualizing..."
   ]
  },
  {
   "cell_type": "code",
   "execution_count": 90,
   "metadata": {
    "collapsed": true,
    "jupyter": {
     "outputs_hidden": true
    }
   },
   "outputs": [
    {
     "name": "stdout",
     "output_type": "stream",
     "text": [
      "'linspace' is a built-in function from the file libinterp/corefcn/data.cc\n",
      "\n",
      " -- Built-in Function: linspace (BASE, LIMIT)\n",
      " -- Built-in Function: linspace (BASE, LIMIT, N)\n",
      "     Return a row vector with N linearly spaced elements between BASE\n",
      "     and LIMIT.  If the number of elements is greater than one, then the\n",
      "     endpoints BASE and LIMIT are always included in the range.  If BASE\n",
      "     is greater than LIMIT, the elements are stored in decreasing order.\n",
      "     If the number of points is not specified, a value of 100 is used.\n",
      "\n",
      "     The 'linspace' function always returns a row vector if both BASE\n",
      "     and LIMIT are scalars.  If one, or both, of them are column\n",
      "     vectors, 'linspace' returns a matrix.\n",
      "\n",
      "     For compatibility with MATLAB, return the second argument (LIMIT)\n",
      "     if fewer than two values are requested.\n",
      "\n",
      "     See also: logspace.\n",
      "\n",
      "\n",
      "Additional help for built-in functions and operators is\n",
      "available in the online version of the manual.  Use the command\n",
      "'doc <topic>' to search the manual index.\n",
      "\n",
      "Help and information about Octave is also available on the WWW\n",
      "at http://www.octave.org and via the help@octave.org\n",
      "mailing list.\n"
     ]
    }
   ],
   "source": [
    "help linspace"
   ]
  },
  {
   "cell_type": "code",
   "execution_count": 91,
   "metadata": {
    "collapsed": true,
    "jupyter": {
     "outputs_hidden": true
    }
   },
   "outputs": [
    {
     "name": "stdout",
     "output_type": "stream",
     "text": [
      "'logspace' is a function from the file /usr/local/octave/3.8.0/share/octave/3.8.0/m/general/logspace.m\n",
      "\n",
      " -- Function File: logspace (A, B)\n",
      " -- Function File: logspace (A, B, N)\n",
      " -- Function File: logspace (A, pi, N)\n",
      "     Return a row vector with N elements logarithmically spaced from\n",
      "     10^A to 10^B.  If N is unspecified it defaults to 50.\n",
      "\n",
      "     If B is equal to pi, the points are between 10^A and pi, _not_ 10^A\n",
      "     and 10^pi, in order to be compatible with the corresponding MATLAB\n",
      "     function.\n",
      "\n",
      "     Also for compatibility with MATLAB, return the second argument B if\n",
      "     fewer than two values are requested.\n",
      "\n",
      "     See also: linspace.\n",
      "\n",
      "\n",
      "Additional help for built-in functions and operators is\n",
      "available in the online version of the manual.  Use the command\n",
      "'doc <topic>' to search the manual index.\n",
      "\n",
      "Help and information about Octave is also available on the WWW\n",
      "at http://www.octave.org and via the help@octave.org\n",
      "mailing list.\n"
     ]
    }
   ],
   "source": [
    "help logspace"
   ]
  },
  {
   "cell_type": "markdown",
   "metadata": {},
   "source": [
    "#### Initial plot of the data set..."
   ]
  },
  {
   "cell_type": "code",
   "execution_count": 28,
   "metadata": {},
   "outputs": [
    {
     "data": {
      "image/png": "[encoded data removed]",
      "text/plain": [
       "<IPython.core.display.Image object>"
      ]
     },
     "metadata": {},
     "output_type": "display_data"
    }
   ],
   "source": [
    "plotData(X(:,2),y)"
   ]
  },
  {
   "cell_type": "markdown",
   "metadata": {},
   "source": [
    "#### Linear plot on top of the data set shows a reasonably good fit with Linear Regression.  See course notes on other ways to fit the data (e.g: Polynomial Regression)."
   ]
  },
  {
   "cell_type": "code",
   "execution_count": 31,
   "metadata": {},
   "outputs": [
    {
     "data": {
      "image/png": "[encoded data removed]",
      "text/plain": [
       "<IPython.core.display.Image object>"
      ]
     },
     "metadata": {},
     "output_type": "display_data"
    }
   ],
   "source": [
    "plotData(X(:,2),y)\n",
    "hold on;\n",
    "plot(X(:,2),X*theta,'-')\n",
    "legend('Training data','Linear regression')"
   ]
  },
  {
   "cell_type": "markdown",
   "metadata": {},
   "source": [
    "#### Surface plot..."
   ]
  },
  {
   "cell_type": "code",
   "execution_count": 32,
   "metadata": {},
   "outputs": [],
   "source": [
    "%grid values which are the foundation for the visuals; see help for linspace commands\n",
    "theta0_values = linspace(-10,10,100);\n",
    "theta1_values = linspace(-1,4,100);"
   ]
  },
  {
   "cell_type": "code",
   "execution_count": 33,
   "metadata": {},
   "outputs": [
    {
     "name": "stdout",
     "output_type": "stream",
     "text": [
      "ans =\n",
      "\n",
      "     1   100\n",
      "\n",
      "ans =\n",
      "\n",
      "     1   100\n",
      "\n"
     ]
    }
   ],
   "source": [
    "size(theta0_values)\n",
    "size(theta1_values)"
   ]
  },
  {
   "cell_type": "code",
   "execution_count": 34,
   "metadata": {
    "collapsed": true,
    "jupyter": {
     "outputs_hidden": true
    }
   },
   "outputs": [
    {
     "name": "stdout",
     "output_type": "stream",
     "text": [
      "theta0_values =\n",
      "\n",
      " Columns 1 through 7:\n",
      "\n",
      "  -10.00000   -9.79798   -9.59596   -9.39394   -9.19192   -8.98990   -8.78788\n",
      "\n",
      " Columns 8 through 14:\n",
      "\n",
      "   -8.58586   -8.38384   -8.18182   -7.97980   -7.77778   -7.57576   -7.37374\n",
      "\n",
      " Columns 15 through 21:\n",
      "\n",
      "   -7.17172   -6.96970   -6.76768   -6.56566   -6.36364   -6.16162   -5.95960\n",
      "\n",
      " Columns 22 through 28:\n",
      "\n",
      "   -5.75758   -5.55556   -5.35354   -5.15152   -4.94949   -4.74747   -4.54545\n",
      "\n",
      " Columns 29 through 35:\n",
      "\n",
      "   -4.34343   -4.14141   -3.93939   -3.73737   -3.53535   -3.33333   -3.13131\n",
      "\n",
      " Columns 36 through 42:\n",
      "\n",
      "   -2.92929   -2.72727   -2.52525   -2.32323   -2.12121   -1.91919   -1.71717\n",
      "\n",
      " Columns 43 through 49:\n",
      "\n",
      "   -1.51515   -1.31313   -1.11111   -0.90909   -0.70707   -0.50505   -0.30303\n",
      "\n",
      " Columns 50 through 56:\n",
      "\n",
      "   -0.10101    0.10101    0.30303    0.50505    0.70707    0.90909    1.11111\n",
      "\n",
      " Columns 57 through 63:\n",
      "\n",
      "    1.31313    1.51515    1.71717    1.91919    2.12121    2.32323    2.52525\n",
      "\n",
      " Columns 64 through 70:\n",
      "\n",
      "    2.72727    2.92929    3.13131    3.33333    3.53535    3.73737    3.93939\n",
      "\n",
      " Columns 71 through 77:\n",
      "\n",
      "    4.14141    4.34343    4.54545    4.74747    4.94949    5.15152    5.35354\n",
      "\n",
      " Columns 78 through 84:\n",
      "\n",
      "    5.55556    5.75758    5.95960    6.16162    6.36364    6.56566    6.76768\n",
      "\n",
      " Columns 85 through 91:\n",
      "\n",
      "    6.96970    7.17172    7.37374    7.57576    7.77778    7.97980    8.18182\n",
      "\n",
      " Columns 92 through 98:\n",
      "\n",
      "    8.38384    8.58586    8.78788    8.98990    9.19192    9.39394    9.59596\n",
      "\n",
      " Columns 99 and 100:\n",
      "\n",
      "    9.79798   10.00000\n",
      "\n"
     ]
    }
   ],
   "source": [
    "theta0_values"
   ]
  },
  {
   "cell_type": "markdown",
   "metadata": {},
   "source": [
    "#### Initialize the matrix that will hold the cost values..."
   ]
  },
  {
   "cell_type": "code",
   "execution_count": 35,
   "metadata": {},
   "outputs": [],
   "source": [
    "J_values = zeros(length(theta0_values), length(theta1_values));"
   ]
  },
  {
   "cell_type": "code",
   "execution_count": 36,
   "metadata": {},
   "outputs": [],
   "source": [
    "for i = 1:length(theta0_values)\n",
    "    for j = 1:length(theta1_values)\n",
    "        t = [theta0_values(i); theta1_values(j)];\n",
    "        J_values(i,j) = computeCost(X,y,t);\n",
    "    end\n",
    "end"
   ]
  },
  {
   "cell_type": "code",
   "execution_count": 37,
   "metadata": {},
   "outputs": [
    {
     "name": "stdout",
     "output_type": "stream",
     "text": [
      "ans =  328.09\n"
     ]
    }
   ],
   "source": [
    "J_values(1,1)"
   ]
  },
  {
   "cell_type": "code",
   "execution_count": 38,
   "metadata": {},
   "outputs": [
    {
     "name": "stdout",
     "output_type": "stream",
     "text": [
      "ans =\n",
      "\n",
      "   100   100\n",
      "\n"
     ]
    }
   ],
   "source": [
    "J_values;\n",
    "size(J_values)"
   ]
  },
  {
   "cell_type": "markdown",
   "metadata": {},
   "source": [
    "#### Apparently need to transpose the ```J_values``` matrix to reverse the axes work with the plots..."
   ]
  },
  {
   "cell_type": "code",
   "execution_count": 39,
   "metadata": {},
   "outputs": [
    {
     "name": "stdout",
     "output_type": "stream",
     "text": [
      "ans =\n",
      "\n",
      "   100   100\n",
      "\n"
     ]
    }
   ],
   "source": [
    "J_values_transposed = J_values';\n",
    "size(J_values_transposed)"
   ]
  },
  {
   "cell_type": "markdown",
   "metadata": {},
   "source": [
    "#### Surface plot..."
   ]
  },
  {
   "cell_type": "code",
   "execution_count": 40,
   "metadata": {},
   "outputs": [
    {
     "data": {
      "image/png": "[encoded data removed]",
      "text/plain": [
       "<IPython.core.display.Image object>"
      ]
     },
     "metadata": {},
     "output_type": "display_data"
    }
   ],
   "source": [
    "surf(theta0_values,theta1_values,J_values_transposed)\n",
    "xlabel('\\theta_0');\n",
    "ylabel('\\theta_1');\n",
    "title('Surface Plot');"
   ]
  },
  {
   "cell_type": "markdown",
   "metadata": {},
   "source": [
    "#### Contour plot.  Note the use of logarithmic space as opposed to linear with the ```logspace``` command..."
   ]
  },
  {
   "cell_type": "code",
   "execution_count": 41,
   "metadata": {},
   "outputs": [
    {
     "data": {
      "image/png": "[encoded data removed]",
      "text/plain": [
       "<IPython.core.display.Image object>"
      ]
     },
     "metadata": {},
     "output_type": "display_data"
    }
   ],
   "source": [
    "contour(theta0_values,theta1_values,J_values_transposed,logspace(-2,3,20))\n",
    "xlabel('\\theta_0');\n",
    "ylabel('\\theta_1');\n",
    "title('Contour Plot');\n",
    "hold on;\n",
    "plot(theta(1),theta(2),'rx','MarkerSize',10,'LineWidth',2);"
   ]
  },
  {
   "cell_type": "code",
   "execution_count": 42,
   "metadata": {},
   "outputs": [
    {
     "name": "stdout",
     "output_type": "stream",
     "text": [
      "ans = -3.6303\n"
     ]
    }
   ],
   "source": [
    "theta(1)"
   ]
  },
  {
   "cell_type": "code",
   "execution_count": 43,
   "metadata": {},
   "outputs": [
    {
     "name": "stdout",
     "output_type": "stream",
     "text": [
      "ans =  1.1664\n"
     ]
    }
   ],
   "source": [
    "theta(2)"
   ]
  },
  {
   "cell_type": "markdown",
   "metadata": {},
   "source": [
    "## Multivariate..."
   ]
  },
  {
   "cell_type": "markdown",
   "metadata": {},
   "source": [
    "### Read in the dataset.  Housing data in Portland, Oregon..."
   ]
  },
  {
   "cell_type": "code",
   "execution_count": 53,
   "metadata": {},
   "outputs": [
    {
     "name": "stdout",
     "output_type": "stream",
     "text": [
      "multi_data =\n",
      "\n",
      "     2104        3   399900\n",
      "     1600        3   329900\n",
      "     2400        3   369000\n",
      "     1416        2   232000\n",
      "     3000        4   539900\n",
      "     1985        4   299900\n",
      "     1534        3   314900\n",
      "     1427        3   198999\n",
      "     1380        3   212000\n",
      "     1494        3   242500\n",
      "     1940        4   239999\n",
      "     2000        3   347000\n",
      "     1890        3   329999\n",
      "     4478        5   699900\n",
      "     1268        3   259900\n",
      "     2300        4   449900\n",
      "     1320        2   299900\n",
      "     1236        3   199900\n",
      "     2609        4   499998\n",
      "     3031        4   599000\n",
      "     1767        3   252900\n",
      "     1888        2   255000\n",
      "     1604        3   242900\n",
      "     1962        4   259900\n",
      "     3890        3   573900\n",
      "     1100        3   249900\n",
      "     1458        3   464500\n",
      "     2526        3   469000\n",
      "     2200        3   475000\n",
      "     2637        3   299900\n",
      "     1839        2   349900\n",
      "     1000        1   169900\n",
      "     2040        4   314900\n",
      "     3137        3   579900\n",
      "     1811        4   285900\n",
      "     1437        3   249900\n",
      "     1239        3   229900\n",
      "     2132        4   345000\n",
      "     4215        4   549000\n",
      "     2162        4   287000\n",
      "     1664        2   368500\n",
      "     2238        3   329900\n",
      "     2567        4   314000\n",
      "     1200        3   299000\n",
      "      852        2   179900\n",
      "     1852        4   299900\n",
      "     1203        3   239500\n",
      "\n"
     ]
    }
   ],
   "source": [
    "multi_data = load(\"ex1data2.txt\")"
   ]
  },
  {
   "cell_type": "code",
   "execution_count": 54,
   "metadata": {
    "collapsed": true,
    "jupyter": {
     "outputs_hidden": true
    }
   },
   "outputs": [
    {
     "name": "stdout",
     "output_type": "stream",
     "text": [
      "X =\n",
      "\n",
      "   2104      3\n",
      "   1600      3\n",
      "   2400      3\n",
      "   1416      2\n",
      "   3000      4\n",
      "   1985      4\n",
      "   1534      3\n",
      "   1427      3\n",
      "   1380      3\n",
      "   1494      3\n",
      "   1940      4\n",
      "   2000      3\n",
      "   1890      3\n",
      "   4478      5\n",
      "   1268      3\n",
      "   2300      4\n",
      "   1320      2\n",
      "   1236      3\n",
      "   2609      4\n",
      "   3031      4\n",
      "   1767      3\n",
      "   1888      2\n",
      "   1604      3\n",
      "   1962      4\n",
      "   3890      3\n",
      "   1100      3\n",
      "   1458      3\n",
      "   2526      3\n",
      "   2200      3\n",
      "   2637      3\n",
      "   1839      2\n",
      "   1000      1\n",
      "   2040      4\n",
      "   3137      3\n",
      "   1811      4\n",
      "   1437      3\n",
      "   1239      3\n",
      "   2132      4\n",
      "   4215      4\n",
      "   2162      4\n",
      "   1664      2\n",
      "   2238      3\n",
      "   2567      4\n",
      "   1200      3\n",
      "    852      2\n",
      "   1852      4\n",
      "   1203      3\n",
      "\n"
     ]
    }
   ],
   "source": [
    "X = multi_data(:,1:2)"
   ]
  },
  {
   "cell_type": "code",
   "execution_count": 55,
   "metadata": {
    "collapsed": true,
    "jupyter": {
     "outputs_hidden": true
    }
   },
   "outputs": [
    {
     "name": "stdout",
     "output_type": "stream",
     "text": [
      "y =\n",
      "\n",
      "   399900\n",
      "   329900\n",
      "   369000\n",
      "   232000\n",
      "   539900\n",
      "   299900\n",
      "   314900\n",
      "   198999\n",
      "   212000\n",
      "   242500\n",
      "   239999\n",
      "   347000\n",
      "   329999\n",
      "   699900\n",
      "   259900\n",
      "   449900\n",
      "   299900\n",
      "   199900\n",
      "   499998\n",
      "   599000\n",
      "   252900\n",
      "   255000\n",
      "   242900\n",
      "   259900\n",
      "   573900\n",
      "   249900\n",
      "   464500\n",
      "   469000\n",
      "   475000\n",
      "   299900\n",
      "   349900\n",
      "   169900\n",
      "   314900\n",
      "   579900\n",
      "   285900\n",
      "   249900\n",
      "   229900\n",
      "   345000\n",
      "   549000\n",
      "   287000\n",
      "   368500\n",
      "   329900\n",
      "   314000\n",
      "   299000\n",
      "   179900\n",
      "   299900\n",
      "   239500\n",
      "\n"
     ]
    }
   ],
   "source": [
    "y = multi_data(:,3)"
   ]
  },
  {
   "cell_type": "code",
   "execution_count": 64,
   "metadata": {},
   "outputs": [
    {
     "name": "stdout",
     "output_type": "stream",
     "text": [
      "m =  47\n"
     ]
    }
   ],
   "source": [
    "m = length(y)"
   ]
  },
  {
   "cell_type": "markdown",
   "metadata": {},
   "source": [
    "### Implement Feature Normalization.  Note this is done before adding feature $X_0$ to the dataset..."
   ]
  },
  {
   "cell_type": "code",
   "execution_count": 25,
   "metadata": {},
   "outputs": [
    {
     "name": "stdout",
     "output_type": "stream",
     "text": [
      "ans =  2\n"
     ]
    }
   ],
   "source": [
    "size(X,2)"
   ]
  },
  {
   "cell_type": "code",
   "execution_count": 18,
   "metadata": {
    "collapsed": true,
    "jupyter": {
     "outputs_hidden": true
    }
   },
   "outputs": [
    {
     "name": "stdout",
     "output_type": "stream",
     "text": [
      "'mean' is a function from the file /usr/local/octave/3.8.0/share/octave/3.8.0/m/statistics/base/mean.m\n",
      "\n",
      " -- Function File: mean (X)\n",
      " -- Function File: mean (X, DIM)\n",
      " -- Function File: mean (X, OPT)\n",
      " -- Function File: mean (X, DIM, OPT)\n",
      "     Compute the mean of the elements of the vector X.\n",
      "\n",
      "          mean (x) = SUM_i x(i) / N\n",
      "\n",
      "     If X is a matrix, compute the mean for each column and return them\n",
      "     in a row vector.\n",
      "\n",
      "     The optional argument OPT selects the type of mean to compute.  The\n",
      "     following options are recognized:\n",
      "\n",
      "     \"a\"\n",
      "          Compute the (ordinary) arithmetic mean.  [default]\n",
      "\n",
      "     \"g\"\n",
      "          Compute the geometric mean.\n",
      "\n",
      "     \"h\"\n",
      "          Compute the harmonic mean.\n",
      "\n",
      "     If the optional argument DIM is given, operate along this\n",
      "     dimension.\n",
      "\n",
      "     Both DIM and OPT are optional.  If both are supplied, either may\n",
      "     appear first.\n",
      "\n",
      "     See also: median, mode.\n",
      "\n",
      "\n",
      "Additional help for built-in functions and operators is\n",
      "available in the online version of the manual.  Use the command\n",
      "'doc <topic>' to search the manual index.\n",
      "\n",
      "Help and information about Octave is also available on the WWW\n",
      "at http://www.octave.org and via the help@octave.org\n",
      "mailing list.\n"
     ]
    }
   ],
   "source": [
    "help mean"
   ]
  },
  {
   "cell_type": "code",
   "execution_count": 30,
   "metadata": {},
   "outputs": [
    {
     "name": "stdout",
     "output_type": "stream",
     "text": [
      "ans =  3\n"
     ]
    }
   ],
   "source": [
    "X(1,2)"
   ]
  },
  {
   "cell_type": "code",
   "execution_count": 34,
   "metadata": {},
   "outputs": [
    {
     "name": "stdout",
     "output_type": "stream",
     "text": [
      "ans =\n",
      "\n",
      "   2000.6809      3.1702\n",
      "\n"
     ]
    }
   ],
   "source": [
    "mean(X)"
   ]
  },
  {
   "cell_type": "code",
   "execution_count": 35,
   "metadata": {},
   "outputs": [
    {
     "name": "stdout",
     "output_type": "stream",
     "text": [
      "ans =\n",
      "\n",
      "   794.70235     0.76098\n",
      "\n"
     ]
    }
   ],
   "source": [
    "std(X)"
   ]
  },
  {
   "cell_type": "code",
   "execution_count": 42,
   "metadata": {},
   "outputs": [
    {
     "name": "stdout",
     "output_type": "stream",
     "text": [
      "Z =\n",
      "\n",
      "   1   2   3\n",
      "   4   5   6\n",
      "\n"
     ]
    }
   ],
   "source": [
    "Z = [1 2 3; 4 5 6]"
   ]
  },
  {
   "cell_type": "code",
   "execution_count": 48,
   "metadata": {},
   "outputs": [],
   "source": [
    "function [X_norm,mu,sigma] = featureNormalize(X)\n",
    "\n",
    "    X_norm = X;\n",
    "    numberOfFeatures = size(X,2);\n",
    "    numberOfSamples = size(X,1);\n",
    "    mu = zeros(1,numberOfFeatures);\n",
    "    sigma = zeros(1,numberOfFeatures);\n",
    "    meanOfFeatures = mean(X);\n",
    "    stddevOfFeatures = std(X);\n",
    "    \n",
    "    %way better (more efficient) way by using matrix multiplication to vectorize the terms\n",
    "    mu =  ones(numberOfSamples,1) * meanOfFeatures;\n",
    "    sigma = ones(numberOfSamples,1) * stddevOfFeatures;\n",
    "    X_norm = (X - mu)./sigma;\n",
    "    \n",
    "    %looping is inefficient\n",
    "    %for j=1:numberOfSamples\n",
    "    %    for k=1:numberOfFeatures\n",
    "    %        X_norm(j,k) = X(j,k) - mu(1,k)/sigma(1,k);\n",
    "    %    end\n",
    "    %end\n",
    "\n",
    "end"
   ]
  },
  {
   "cell_type": "code",
   "execution_count": 56,
   "metadata": {
    "collapsed": true,
    "jupyter": {
     "outputs_hidden": true
    }
   },
   "outputs": [
    {
     "name": "stdout",
     "output_type": "stream",
     "text": [
      "X =\n",
      "\n",
      "   1.3001e-01  -2.2368e-01\n",
      "  -5.0419e-01  -2.2368e-01\n",
      "   5.0248e-01  -2.2368e-01\n",
      "  -7.3572e-01  -1.5378e+00\n",
      "   1.2575e+00   1.0904e+00\n",
      "  -1.9732e-02   1.0904e+00\n",
      "  -5.8724e-01  -2.2368e-01\n",
      "  -7.2188e-01  -2.2368e-01\n",
      "  -7.8102e-01  -2.2368e-01\n",
      "  -6.3757e-01  -2.2368e-01\n",
      "  -7.6357e-02   1.0904e+00\n",
      "  -8.5674e-04  -2.2368e-01\n",
      "  -1.3927e-01  -2.2368e-01\n",
      "   3.1173e+00   2.4045e+00\n",
      "  -9.2196e-01  -2.2368e-01\n",
      "   3.7664e-01   1.0904e+00\n",
      "  -8.5652e-01  -1.5378e+00\n",
      "  -9.6222e-01  -2.2368e-01\n",
      "   7.6547e-01   1.0904e+00\n",
      "   1.2965e+00   1.0904e+00\n",
      "  -2.9405e-01  -2.2368e-01\n",
      "  -1.4179e-01  -1.5378e+00\n",
      "  -4.9916e-01  -2.2368e-01\n",
      "  -4.8673e-02   1.0904e+00\n",
      "   2.3774e+00  -2.2368e-01\n",
      "  -1.1334e+00  -2.2368e-01\n",
      "  -6.8287e-01  -2.2368e-01\n",
      "   6.6103e-01  -2.2368e-01\n",
      "   2.5081e-01  -2.2368e-01\n",
      "   8.0070e-01  -2.2368e-01\n",
      "  -2.0345e-01  -1.5378e+00\n",
      "  -1.2592e+00  -2.8519e+00\n",
      "   4.9477e-02   1.0904e+00\n",
      "   1.4299e+00  -2.2368e-01\n",
      "  -2.3868e-01   1.0904e+00\n",
      "  -7.0930e-01  -2.2368e-01\n",
      "  -9.5845e-01  -2.2368e-01\n",
      "   1.6524e-01   1.0904e+00\n",
      "   2.7864e+00   1.0904e+00\n",
      "   2.0299e-01   1.0904e+00\n",
      "  -4.2366e-01  -1.5378e+00\n",
      "   2.9863e-01  -2.2368e-01\n",
      "   7.1262e-01   1.0904e+00\n",
      "  -1.0075e+00  -2.2368e-01\n",
      "  -1.4454e+00  -1.5378e+00\n",
      "  -1.8709e-01   1.0904e+00\n",
      "  -1.0037e+00  -2.2368e-01\n",
      "\n",
      "mu =\n",
      "\n",
      "   2000.6809      3.1702\n",
      "   2000.6809      3.1702\n",
      "   2000.6809      3.1702\n",
      "   2000.6809      3.1702\n",
      "   2000.6809      3.1702\n",
      "   2000.6809      3.1702\n",
      "   2000.6809      3.1702\n",
      "   2000.6809      3.1702\n",
      "   2000.6809      3.1702\n",
      "   2000.6809      3.1702\n",
      "   2000.6809      3.1702\n",
      "   2000.6809      3.1702\n",
      "   2000.6809      3.1702\n",
      "   2000.6809      3.1702\n",
      "   2000.6809      3.1702\n",
      "   2000.6809      3.1702\n",
      "   2000.6809      3.1702\n",
      "   2000.6809      3.1702\n",
      "   2000.6809      3.1702\n",
      "   2000.6809      3.1702\n",
      "   2000.6809      3.1702\n",
      "   2000.6809      3.1702\n",
      "   2000.6809      3.1702\n",
      "   2000.6809      3.1702\n",
      "   2000.6809      3.1702\n",
      "   2000.6809      3.1702\n",
      "   2000.6809      3.1702\n",
      "   2000.6809      3.1702\n",
      "   2000.6809      3.1702\n",
      "   2000.6809      3.1702\n",
      "   2000.6809      3.1702\n",
      "   2000.6809      3.1702\n",
      "   2000.6809      3.1702\n",
      "   2000.6809      3.1702\n",
      "   2000.6809      3.1702\n",
      "   2000.6809      3.1702\n",
      "   2000.6809      3.1702\n",
      "   2000.6809      3.1702\n",
      "   2000.6809      3.1702\n",
      "   2000.6809      3.1702\n",
      "   2000.6809      3.1702\n",
      "   2000.6809      3.1702\n",
      "   2000.6809      3.1702\n",
      "   2000.6809      3.1702\n",
      "   2000.6809      3.1702\n",
      "   2000.6809      3.1702\n",
      "   2000.6809      3.1702\n",
      "\n",
      "sigma =\n",
      "\n",
      "   794.70235     0.76098\n",
      "   794.70235     0.76098\n",
      "   794.70235     0.76098\n",
      "   794.70235     0.76098\n",
      "   794.70235     0.76098\n",
      "   794.70235     0.76098\n",
      "   794.70235     0.76098\n",
      "   794.70235     0.76098\n",
      "   794.70235     0.76098\n",
      "   794.70235     0.76098\n",
      "   794.70235     0.76098\n",
      "   794.70235     0.76098\n",
      "   794.70235     0.76098\n",
      "   794.70235     0.76098\n",
      "   794.70235     0.76098\n",
      "   794.70235     0.76098\n",
      "   794.70235     0.76098\n",
      "   794.70235     0.76098\n",
      "   794.70235     0.76098\n",
      "   794.70235     0.76098\n",
      "   794.70235     0.76098\n",
      "   794.70235     0.76098\n",
      "   794.70235     0.76098\n",
      "   794.70235     0.76098\n",
      "   794.70235     0.76098\n",
      "   794.70235     0.76098\n",
      "   794.70235     0.76098\n",
      "   794.70235     0.76098\n",
      "   794.70235     0.76098\n",
      "   794.70235     0.76098\n",
      "   794.70235     0.76098\n",
      "   794.70235     0.76098\n",
      "   794.70235     0.76098\n",
      "   794.70235     0.76098\n",
      "   794.70235     0.76098\n",
      "   794.70235     0.76098\n",
      "   794.70235     0.76098\n",
      "   794.70235     0.76098\n",
      "   794.70235     0.76098\n",
      "   794.70235     0.76098\n",
      "   794.70235     0.76098\n",
      "   794.70235     0.76098\n",
      "   794.70235     0.76098\n",
      "   794.70235     0.76098\n",
      "   794.70235     0.76098\n",
      "   794.70235     0.76098\n",
      "   794.70235     0.76098\n",
      "\n"
     ]
    }
   ],
   "source": [
    "[X,mu,sigma] = featureNormalize(X)"
   ]
  },
  {
   "cell_type": "markdown",
   "metadata": {},
   "source": [
    "### Add a column for feature $X_0$, the intercept term, to the dataset..."
   ]
  },
  {
   "cell_type": "code",
   "execution_count": 65,
   "metadata": {
    "collapsed": true,
    "jupyter": {
     "outputs_hidden": true
    }
   },
   "outputs": [
    {
     "name": "stdout",
     "output_type": "stream",
     "text": [
      "X =\n",
      "\n",
      "   1.0000e+00   1.3001e-01  -2.2368e-01\n",
      "   1.0000e+00  -5.0419e-01  -2.2368e-01\n",
      "   1.0000e+00   5.0248e-01  -2.2368e-01\n",
      "   1.0000e+00  -7.3572e-01  -1.5378e+00\n",
      "   1.0000e+00   1.2575e+00   1.0904e+00\n",
      "   1.0000e+00  -1.9732e-02   1.0904e+00\n",
      "   1.0000e+00  -5.8724e-01  -2.2368e-01\n",
      "   1.0000e+00  -7.2188e-01  -2.2368e-01\n",
      "   1.0000e+00  -7.8102e-01  -2.2368e-01\n",
      "   1.0000e+00  -6.3757e-01  -2.2368e-01\n",
      "   1.0000e+00  -7.6357e-02   1.0904e+00\n",
      "   1.0000e+00  -8.5674e-04  -2.2368e-01\n",
      "   1.0000e+00  -1.3927e-01  -2.2368e-01\n",
      "   1.0000e+00   3.1173e+00   2.4045e+00\n",
      "   1.0000e+00  -9.2196e-01  -2.2368e-01\n",
      "   1.0000e+00   3.7664e-01   1.0904e+00\n",
      "   1.0000e+00  -8.5652e-01  -1.5378e+00\n",
      "   1.0000e+00  -9.6222e-01  -2.2368e-01\n",
      "   1.0000e+00   7.6547e-01   1.0904e+00\n",
      "   1.0000e+00   1.2965e+00   1.0904e+00\n",
      "   1.0000e+00  -2.9405e-01  -2.2368e-01\n",
      "   1.0000e+00  -1.4179e-01  -1.5378e+00\n",
      "   1.0000e+00  -4.9916e-01  -2.2368e-01\n",
      "   1.0000e+00  -4.8673e-02   1.0904e+00\n",
      "   1.0000e+00   2.3774e+00  -2.2368e-01\n",
      "   1.0000e+00  -1.1334e+00  -2.2368e-01\n",
      "   1.0000e+00  -6.8287e-01  -2.2368e-01\n",
      "   1.0000e+00   6.6103e-01  -2.2368e-01\n",
      "   1.0000e+00   2.5081e-01  -2.2368e-01\n",
      "   1.0000e+00   8.0070e-01  -2.2368e-01\n",
      "   1.0000e+00  -2.0345e-01  -1.5378e+00\n",
      "   1.0000e+00  -1.2592e+00  -2.8519e+00\n",
      "   1.0000e+00   4.9477e-02   1.0904e+00\n",
      "   1.0000e+00   1.4299e+00  -2.2368e-01\n",
      "   1.0000e+00  -2.3868e-01   1.0904e+00\n",
      "   1.0000e+00  -7.0930e-01  -2.2368e-01\n",
      "   1.0000e+00  -9.5845e-01  -2.2368e-01\n",
      "   1.0000e+00   1.6524e-01   1.0904e+00\n",
      "   1.0000e+00   2.7864e+00   1.0904e+00\n",
      "   1.0000e+00   2.0299e-01   1.0904e+00\n",
      "   1.0000e+00  -4.2366e-01  -1.5378e+00\n",
      "   1.0000e+00   2.9863e-01  -2.2368e-01\n",
      "   1.0000e+00   7.1262e-01   1.0904e+00\n",
      "   1.0000e+00  -1.0075e+00  -2.2368e-01\n",
      "   1.0000e+00  -1.4454e+00  -1.5378e+00\n",
      "   1.0000e+00  -1.8709e-01   1.0904e+00\n",
      "   1.0000e+00  -1.0037e+00  -2.2368e-01\n",
      "\n"
     ]
    }
   ],
   "source": [
    "X = [ones(m,1),X]"
   ]
  },
  {
   "cell_type": "markdown",
   "metadata": {},
   "source": [
    "#### Putting it all together with values from the multivariate stock exercise calling script..."
   ]
  },
  {
   "cell_type": "code",
   "execution_count": 74,
   "metadata": {},
   "outputs": [],
   "source": [
    "data = load('ex1data2.txt');\n",
    "X = data(:, 1:2);\n",
    "y = data(:, 3);\n",
    "m = length(y);\n",
    "theta = zeros(3,1);\n",
    "iterations = 400;\n",
    "alpha = 0.01;\n",
    "\n",
    "[X mu sigma] = featureNormalize(X);\n",
    "\n",
    "X = [ones(m, 1) X]; %Add intercept term to X\n",
    "\n",
    "[theta, J_history] = gradientDescent(X,y,theta,alpha,iterations); %cost function values are stored in J_history"
   ]
  },
  {
   "cell_type": "markdown",
   "metadata": {},
   "source": [
    "### Plot Convergence..."
   ]
  },
  {
   "cell_type": "code",
   "execution_count": 83,
   "metadata": {},
   "outputs": [],
   "source": [
    "function plotConvergence(J_history,lineColor)\n",
    "    plot(1:numel(J_history),J_history,lineColor,'LineWidth',2);\n",
    "    xlabel('Number of Iterations');\n",
    "    ylabel('Cost J');\n",
    "end"
   ]
  },
  {
   "cell_type": "code",
   "execution_count": 84,
   "metadata": {},
   "outputs": [
    {
     "data": {
      "image/png": "[encoded data removed]",
      "text/plain": [
       "<IPython.core.display.Image object>"
      ]
     },
     "metadata": {},
     "output_type": "display_data"
    }
   ],
   "source": [
    "plotConvergence(J_history,'-b')"
   ]
  },
  {
   "cell_type": "markdown",
   "metadata": {},
   "source": [
    "#### Above was the \"stock\" alpha and iterations.  We can try others and plot them to see the differences..."
   ]
  },
  {
   "cell_type": "code",
   "execution_count": 105,
   "metadata": {},
   "outputs": [],
   "source": [
    "%let's do the same alpha but take the first 50 iterations...\n",
    "alpha = 0.01;\n",
    "iterations = 50;\n",
    "[theta_1, J_history_1] = gradientDescent(X,y,theta,alpha,iterations);"
   ]
  },
  {
   "cell_type": "code",
   "execution_count": 106,
   "metadata": {},
   "outputs": [],
   "source": [
    "%let's do the next highest multiple of 3 and take the first 50 iterations...\n",
    "alpha = 0.03;\n",
    "iterations = 50;\n",
    "[theta_2, J_history_2] = gradientDescent(X,y,theta,alpha,iterations);"
   ]
  },
  {
   "cell_type": "code",
   "execution_count": 107,
   "metadata": {},
   "outputs": [],
   "source": [
    "%let's do the next highest multiple of 3 and take the first 50 iterations...\n",
    "alpha = 0.1;\n",
    "iterations = 50;\n",
    "[theta_3, J_history_3] = gradientDescent(X,y,theta,alpha,iterations);"
   ]
  },
  {
   "cell_type": "code",
   "execution_count": 108,
   "metadata": {},
   "outputs": [],
   "source": [
    "%let's do the next highest multiple of 3 and take the first 50 iterations...\n",
    "alpha = 0.3;\n",
    "iterations = 50;\n",
    "[theta_4, J_history_4] = gradientDescent(X,y,theta,alpha,iterations);"
   ]
  },
  {
   "cell_type": "code",
   "execution_count": 109,
   "metadata": {},
   "outputs": [
    {
     "data": {
      "image/png": "[encoded data removed]",
      "text/plain": [
       "<IPython.core.display.Image object>"
      ]
     },
     "metadata": {},
     "output_type": "display_data"
    }
   ],
   "source": [
    "%in a notebook setting, need to replot with each cell...\n",
    "plotConvergence(J_history_1,'b');\n",
    "hold on;\n",
    "plotConvergence(J_history_2,'k');\n",
    "hold on;\n",
    "plotConvergence(J_history_3,'r');\n",
    "hold on;\n",
    "plotConvergence(J_history_4,'g');"
   ]
  },
  {
   "cell_type": "markdown",
   "metadata": {},
   "source": [
    "#### Predict the price of a house with 1650 square feet and 3 bedrooms using feature normalization and the value of $\\theta$ from the best learning rate above (Green, theta_4)..."
   ]
  },
  {
   "cell_type": "code",
   "execution_count": 160,
   "metadata": {},
   "outputs": [
    {
     "name": "stdout",
     "output_type": "stream",
     "text": [
      "prediction_theta_4 =    4.2333e+05\n"
     ]
    }
   ],
   "source": [
    "prediction_matrix = [1650 3];\n",
    "[prediction_matrix mu sigma] = featureNormalize(prediction_matrix);\n",
    "m = size(prediction_matrix,1);\n",
    "prediction_matrix = [ones(m,1) prediction_matrix];\n",
    "prediction_theta_4 = prediction_matrix*theta_4"
   ]
  },
  {
   "cell_type": "markdown",
   "metadata": {},
   "source": [
    "#### Get ready to shell out big bucks for a tiny house in Portland...😬"
   ]
  },
  {
   "cell_type": "code",
   "execution_count": 161,
   "metadata": {},
   "outputs": [
    {
     "name": "stdout",
     "output_type": "stream",
     "text": [
      "prediction_theta_4 =  423327.90\n"
     ]
    }
   ],
   "source": [
    "format bank\n",
    "prediction_theta_4\n",
    "format"
   ]
  },
  {
   "cell_type": "code",
   "execution_count": 120,
   "metadata": {},
   "outputs": [
    {
     "name": "stdout",
     "output_type": "stream",
     "text": [
      "theta_4 =\n",
      "\n",
      "   3.4041e+05\n",
      "   1.1062e+05\n",
      "  -6.6391e+03\n",
      "\n"
     ]
    }
   ],
   "source": [
    "theta_4"
   ]
  },
  {
   "cell_type": "code",
   "execution_count": 121,
   "metadata": {},
   "outputs": [
    {
     "name": "stdout",
     "output_type": "stream",
     "text": [
      "theta_3 =\n",
      "\n",
      "   3.4038e+05\n",
      "   1.0948e+05\n",
      "  -5.4947e+03\n",
      "\n"
     ]
    }
   ],
   "source": [
    "theta_3"
   ]
  },
  {
   "cell_type": "markdown",
   "metadata": {},
   "source": [
    "## Normal Equation..."
   ]
  },
  {
   "cell_type": "markdown",
   "metadata": {},
   "source": [
    "$\\theta =  (X^TX)^{-1}X^Ty$"
   ]
  },
  {
   "cell_type": "code",
   "execution_count": 143,
   "metadata": {},
   "outputs": [],
   "source": [
    "function theta = normalEquation(X,y)\n",
    "    X_transposed = X';\n",
    "    theta = (pinv(X_transposed*X)*X_transposed)*y;\n",
    "end"
   ]
  },
  {
   "cell_type": "code",
   "execution_count": 144,
   "metadata": {},
   "outputs": [],
   "source": [
    "theta_normal = normalEquation(X,y);"
   ]
  },
  {
   "cell_type": "code",
   "execution_count": 145,
   "metadata": {},
   "outputs": [
    {
     "name": "stdout",
     "output_type": "stream",
     "text": [
      "ans =\n",
      "\n",
      "   3   1\n",
      "\n"
     ]
    }
   ],
   "source": [
    "size(theta_normal)"
   ]
  },
  {
   "cell_type": "markdown",
   "metadata": {},
   "source": [
    "#### Slight discrepancy (~+$15 and less than .01% difference ) from the Gradient Descent method; so, still get ready to shell out big bucks for a tiny house in Portland...😬"
   ]
  },
  {
   "cell_type": "code",
   "execution_count": 148,
   "metadata": {},
   "outputs": [
    {
     "name": "stdout",
     "output_type": "stream",
     "text": [
      "prediction_normal_equation =  423342.51\n"
     ]
    }
   ],
   "source": [
    "prediction_normal_equation = prediction_matrix*theta_normal;\n",
    "format bank;\n",
    "prediction_normal_equation\n",
    "format;"
   ]
  },
  {
   "cell_type": "code",
   "execution_count": null,
   "metadata": {},
   "outputs": [],
   "source": []
  }
 ],
 "metadata": {
  "kernelspec": {
   "display_name": "Octave",
   "language": "octave",
   "name": "octave"
  },
  "language_info": {
   "file_extension": ".m",
   "help_links": [
    {
     "text": "GNU Octave",
     "url": "https://www.gnu.org/software/octave/support.html"
    },
    {
     "text": "Octave Kernel",
     "url": "https://github.com/Calysto/octave_kernel"
    },
    {
     "text": "MetaKernel Magics",
     "url": "https://metakernel.readthedocs.io/en/latest/source/README.html"
    }
   ],
   "mimetype": "text/x-octave",
   "name": "octave",
   "version": "3.8.0"
  }
 },
 "nbformat": 4,
 "nbformat_minor": 4
}
