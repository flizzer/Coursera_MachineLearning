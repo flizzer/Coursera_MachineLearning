{
 "cells": [
  {
   "cell_type": "markdown",
   "metadata": {},
   "source": [
    "# Exercise 2 - Logistic Regression"
   ]
  },
  {
   "cell_type": "markdown",
   "metadata": {},
   "source": [
    "## Load the data..."
   ]
  },
  {
   "cell_type": "code",
   "execution_count": 6,
   "metadata": {},
   "outputs": [
    {
     "name": "stdout",
     "output_type": "stream",
     "text": [
      "data =\n",
      "\n",
      "   34.62366   78.02469    0.00000\n",
      "   30.28671   43.89500    0.00000\n",
      "   35.84741   72.90220    0.00000\n",
      "   60.18260   86.30855    1.00000\n",
      "   79.03274   75.34438    1.00000\n",
      "   45.08328   56.31637    0.00000\n",
      "   61.10666   96.51143    1.00000\n",
      "   75.02475   46.55401    1.00000\n",
      "   76.09879   87.42057    1.00000\n",
      "   84.43282   43.53339    1.00000\n",
      "   95.86156   38.22528    0.00000\n",
      "   75.01366   30.60326    0.00000\n",
      "   82.30705   76.48196    1.00000\n",
      "   69.36459   97.71869    1.00000\n",
      "   39.53834   76.03681    0.00000\n",
      "   53.97105   89.20735    1.00000\n",
      "   69.07014   52.74047    1.00000\n",
      "   67.94686   46.67857    0.00000\n",
      "   70.66151   92.92714    1.00000\n",
      "   76.97878   47.57596    1.00000\n",
      "   67.37203   42.83844    0.00000\n",
      "   89.67678   65.79937    1.00000\n",
      "   50.53479   48.85581    0.00000\n",
      "   34.21206   44.20953    0.00000\n",
      "   77.92409   68.97236    1.00000\n",
      "   62.27101   69.95446    1.00000\n",
      "   80.19018   44.82163    1.00000\n",
      "   93.11439   38.80067    0.00000\n",
      "   61.83021   50.25611    0.00000\n",
      "   38.78580   64.99568    0.00000\n",
      "   61.37929   72.80789    1.00000\n",
      "   85.40452   57.05198    1.00000\n",
      "   52.10798   63.12762    0.00000\n",
      "   52.04540   69.43286    1.00000\n",
      "   40.23689   71.16775    0.00000\n",
      "   54.63511   52.21389    0.00000\n",
      "   33.91550   98.86944    0.00000\n",
      "   64.17699   80.90806    1.00000\n",
      "   74.78925   41.57342    0.00000\n",
      "   34.18364   75.23772    0.00000\n",
      "   83.90239   56.30805    1.00000\n",
      "   51.54772   46.85629    0.00000\n",
      "   94.44337   65.56892    1.00000\n",
      "   82.36875   40.61826    0.00000\n",
      "   51.04775   45.82270    0.00000\n",
      "   62.22268   52.06099    0.00000\n",
      "   77.19303   70.45820    1.00000\n",
      "   97.77160   86.72782    1.00000\n",
      "   62.07306   96.76882    1.00000\n",
      "   91.56497   88.69629    1.00000\n",
      "   79.94482   74.16312    1.00000\n",
      "   99.27253   60.99903    1.00000\n",
      "   90.54671   43.39060    1.00000\n",
      "   34.52451   60.39634    0.00000\n",
      "   50.28650   49.80454    0.00000\n",
      "   49.58668   59.80895    0.00000\n",
      "   97.64563   68.86157    1.00000\n",
      "   32.57720   95.59855    0.00000\n",
      "   74.24869   69.82457    1.00000\n",
      "   71.79646   78.45356    1.00000\n",
      "   75.39561   85.75994    1.00000\n",
      "   35.28611   47.02051    0.00000\n",
      "   56.25382   39.26147    0.00000\n",
      "   30.05882   49.59297    0.00000\n",
      "   44.66826   66.45009    0.00000\n",
      "   66.56089   41.09210    0.00000\n",
      "   40.45755   97.53519    1.00000\n",
      "   49.07256   51.88321    0.00000\n",
      "   80.27957   92.11606    1.00000\n",
      "   66.74672   60.99139    1.00000\n",
      "   32.72283   43.30717    0.00000\n",
      "   64.03932   78.03169    1.00000\n",
      "   72.34649   96.22759    1.00000\n",
      "   60.45789   73.09500    1.00000\n",
      "   58.84096   75.85845    1.00000\n",
      "   99.82786   72.36925    1.00000\n",
      "   47.26427   88.47586    1.00000\n",
      "   50.45816   75.80986    1.00000\n",
      "   60.45556   42.50841    0.00000\n",
      "   82.22666   42.71988    0.00000\n",
      "   88.91390   69.80379    1.00000\n",
      "   94.83451   45.69431    1.00000\n",
      "   67.31926   66.58935    1.00000\n",
      "   57.23871   59.51428    1.00000\n",
      "   80.36676   90.96015    1.00000\n",
      "   68.46852   85.59431    1.00000\n",
      "   42.07545   78.84479    0.00000\n",
      "   75.47770   90.42454    1.00000\n",
      "   78.63542   96.64743    1.00000\n",
      "   52.34800   60.76951    0.00000\n",
      "   94.09433   77.15911    1.00000\n",
      "   90.44855   87.50879    1.00000\n",
      "   55.48216   35.57070    0.00000\n",
      "   74.49269   84.84514    1.00000\n",
      "   89.84581   45.35828    1.00000\n",
      "   83.48916   48.38029    1.00000\n",
      "   42.26170   87.10385    1.00000\n",
      "   99.31501   68.77541    1.00000\n",
      "   55.34002   64.93194    1.00000\n",
      "   74.77589   89.52981    1.00000\n",
      "\n"
     ]
    }
   ],
   "source": [
    "data = load('ex2data1.txt')"
   ]
  },
  {
   "cell_type": "markdown",
   "metadata": {},
   "source": [
    "### Separate the training data from what we want to predict..."
   ]
  },
  {
   "cell_type": "code",
   "execution_count": 7,
   "metadata": {},
   "outputs": [],
   "source": [
    "X = data(:, [1,2]);\n",
    "y = data(:, 3);"
   ]
  },
  {
   "cell_type": "code",
   "execution_count": 3,
   "metadata": {
    "collapsed": true,
    "jupyter": {
     "outputs_hidden": true
    }
   },
   "outputs": [
    {
     "name": "stdout",
     "output_type": "stream",
     "text": [
      "ans =\n",
      "\n",
      "   78.025\n",
      "   43.895\n",
      "   72.902\n",
      "   86.309\n",
      "   75.344\n",
      "   56.316\n",
      "   96.511\n",
      "   46.554\n",
      "   87.421\n",
      "   43.533\n",
      "   38.225\n",
      "   30.603\n",
      "   76.482\n",
      "   97.719\n",
      "   76.037\n",
      "   89.207\n",
      "   52.740\n",
      "   46.679\n",
      "   92.927\n",
      "   47.576\n",
      "   42.838\n",
      "   65.799\n",
      "   48.856\n",
      "   44.210\n",
      "   68.972\n",
      "   69.954\n",
      "   44.822\n",
      "   38.801\n",
      "   50.256\n",
      "   64.996\n",
      "   72.808\n",
      "   57.052\n",
      "   63.128\n",
      "   69.433\n",
      "   71.168\n",
      "   52.214\n",
      "   98.869\n",
      "   80.908\n",
      "   41.573\n",
      "   75.238\n",
      "   56.308\n",
      "   46.856\n",
      "   65.569\n",
      "   40.618\n",
      "   45.823\n",
      "   52.061\n",
      "   70.458\n",
      "   86.728\n",
      "   96.769\n",
      "   88.696\n",
      "   74.163\n",
      "   60.999\n",
      "   43.391\n",
      "   60.396\n",
      "   49.805\n",
      "   59.809\n",
      "   68.862\n",
      "   95.599\n",
      "   69.825\n",
      "   78.454\n",
      "   85.760\n",
      "   47.021\n",
      "   39.261\n",
      "   49.593\n",
      "   66.450\n",
      "   41.092\n",
      "   97.535\n",
      "   51.883\n",
      "   92.116\n",
      "   60.991\n",
      "   43.307\n",
      "   78.032\n",
      "   96.228\n",
      "   73.095\n",
      "   75.858\n",
      "   72.369\n",
      "   88.476\n",
      "   75.810\n",
      "   42.508\n",
      "   42.720\n",
      "   69.804\n",
      "   45.694\n",
      "   66.589\n",
      "   59.514\n",
      "   90.960\n",
      "   85.594\n",
      "   78.845\n",
      "   90.425\n",
      "   96.647\n",
      "   60.770\n",
      "   77.159\n",
      "   87.509\n",
      "   35.571\n",
      "   84.845\n",
      "   45.358\n",
      "   48.380\n",
      "   87.104\n",
      "   68.775\n",
      "   64.932\n",
      "   89.530\n",
      "\n"
     ]
    }
   ],
   "source": [
    "X(:,2)"
   ]
  },
  {
   "cell_type": "markdown",
   "metadata": {},
   "source": [
    "### Visualize the data before working with it..."
   ]
  },
  {
   "cell_type": "code",
   "execution_count": 5,
   "metadata": {
    "collapsed": true,
    "jupyter": {
     "outputs_hidden": true
    }
   },
   "outputs": [
    {
     "name": "stdout",
     "output_type": "stream",
     "text": [
      "'plot' is a function from the file /usr/local/octave/3.8.0/share/octave/3.8.0/m/plot/draw/plot.m\n",
      "\n",
      " -- Function File: plot (Y)\n",
      " -- Function File: plot (X, Y)\n",
      " -- Function File: plot (X, Y, FMT)\n",
      " -- Function File: plot (..., PROPERTY, VALUE, ...)\n",
      " -- Function File: plot (X1, Y1, ..., XN, YN)\n",
      " -- Function File: plot (HAX, ...)\n",
      " -- Function File: H = plot (...)\n",
      "     Produce 2-D plots.\n",
      "\n",
      "     Many different combinations of arguments are possible.  The\n",
      "     simplest form is\n",
      "\n",
      "          plot (Y)\n",
      "\n",
      "     where the argument is taken as the set of Y coordinates and the X\n",
      "     coordinates are taken to be the range '1:numel (Y)'.\n",
      "\n",
      "     If more than one argument is given, they are interpreted as\n",
      "\n",
      "          plot (Y, PROPERTY, VALUE, ...)\n",
      "\n",
      "     or\n",
      "\n",
      "          plot (X, Y, PROPERTY, VALUE, ...)\n",
      "\n",
      "     or\n",
      "\n",
      "          plot (X, Y, FMT, ...)\n",
      "\n",
      "     and so on.  Any number of argument sets may appear.  The X and Y\n",
      "     values are interpreted as follows:\n",
      "\n",
      "        * If a single data argument is supplied, it is taken as the set\n",
      "          of Y coordinates and the X coordinates are taken to be the\n",
      "          indices of the elements, starting with 1.\n",
      "\n",
      "        * If X and Y are scalars, a single point is plotted.\n",
      "\n",
      "        * 'squeeze()' is applied to arguments with more than two\n",
      "          dimensions, but no more than two singleton dimensions.\n",
      "\n",
      "        * If both arguments are vectors, the elements of Y are plotted\n",
      "          versus the elements of X.\n",
      "\n",
      "        * If X is a vector and Y is a matrix, then the columns (or rows)\n",
      "          of Y are plotted versus X.  (using whichever combination\n",
      "          matches, with columns tried first.)\n",
      "\n",
      "        * If the X is a matrix and Y is a vector, Y is plotted versus\n",
      "          the columns (or rows) of X.  (using whichever combination\n",
      "          matches, with columns tried first.)\n",
      "\n",
      "        * If both arguments are matrices, the columns of Y are plotted\n",
      "          versus the columns of X.  In this case, both matrices must\n",
      "          have the same number of rows and columns and no attempt is\n",
      "          made to transpose the arguments to make the number of rows\n",
      "          match.\n",
      "\n",
      "     Multiple property-value pairs may be specified, but they must\n",
      "     appear in pairs.  These arguments are applied to the line objects\n",
      "     drawn by 'plot'.  Useful properties to modify are \"linestyle\",\n",
      "     \"linewidth\", \"color\", \"marker\", \"markersize\", \"markeredgecolor\",\n",
      "     \"markerfacecolor\".\n",
      "\n",
      "     The FMT format argument can also be used to control the plot style.\n",
      "     The format is composed of three parts: linestyle, markerstyle,\n",
      "     color.  When a markerstyle is specified, but no linestyle, only the\n",
      "     markers are plotted.  Similarly, if a linestyle is specified, but\n",
      "     no markerstyle, then only lines are drawn.  If both are specified\n",
      "     then lines and markers will be plotted.  If no FMT and no\n",
      "     PROPERTY/VALUE pairs are given, then the default plot style is\n",
      "     solid lines with no markers and the color determined by the\n",
      "     \"colororder\" property of the current axes.\n",
      "\n",
      "     Format arguments:\n",
      "\n",
      "     linestyle\n",
      "\n",
      "          '-'  Use solid lines (default).\n",
      "          '--' Use dashed lines.\n",
      "          ':'  Use dotted lines.\n",
      "          '-.' Use dash-dotted lines.\n",
      "\n",
      "     markerstyle\n",
      "\n",
      "          '+'  crosshair\n",
      "          'o'  circle\n",
      "          '*'  star\n",
      "          '.'  point\n",
      "          'x'  cross\n",
      "          's'  square\n",
      "          'd'  diamond\n",
      "          '^'  upward-facing triangle\n",
      "          'v'  downward-facing triangle\n",
      "          '>'  right-facing triangle\n",
      "          '<'  left-facing triangle\n",
      "          'p'  pentagram\n",
      "          'h'  hexagram\n",
      "\n",
      "     color\n",
      "\n",
      "          'k'  blacK\n",
      "          'r'  Red\n",
      "          'g'  Green\n",
      "          'b'  Blue\n",
      "          'm'  Magenta\n",
      "          'c'  Cyan\n",
      "          'w'  White\n",
      "\n",
      "     \";key;\"\n",
      "          Here \"key\" is the label to use for the plot legend.\n",
      "\n",
      "     The FMT argument may also be used to assign legend keys.  To do so,\n",
      "     include the desired label between semicolons after the formatting\n",
      "     sequence described above, e.g., \"+b;Key Title;\".  Note that the\n",
      "     last semicolon is required and Octave will generate an error if it\n",
      "     is left out.\n",
      "\n",
      "     Here are some plot examples:\n",
      "\n",
      "          plot (x, y, \"or\", x, y2, x, y3, \"m\", x, y4, \"+\")\n",
      "\n",
      "     This command will plot 'y' with red circles, 'y2' with solid lines,\n",
      "     'y3' with solid magenta lines, and 'y4' with points displayed as\n",
      "     '+'.\n",
      "\n",
      "          plot (b, \"*\", \"markersize\", 10)\n",
      "\n",
      "     This command will plot the data in the variable 'b', with points\n",
      "     displayed as '*' and a marker size of 10.\n",
      "\n",
      "          t = 0:0.1:6.3;\n",
      "          plot (t, cos(t), \"-;cos(t);\", t, sin(t), \"-b;sin(t);\");\n",
      "\n",
      "     This will plot the cosine and sine functions and label them\n",
      "     accordingly in the legend.\n",
      "\n",
      "     If the first argument HAX is an axes handle, then plot into this\n",
      "     axis, rather than the current axes returned by 'gca'.\n",
      "\n",
      "     The optional return value H is a vector of graphics handles to the\n",
      "     created line objects.\n",
      "\n",
      "     To save a plot, in one of several image formats such as PostScript\n",
      "     or PNG, use the 'print' command.\n",
      "\n",
      "     See also: axis, box, grid, hold, legend, title, xlabel, ylabel,\n",
      "     xlim, ylim, ezplot, errorbar, fplot, line, plot3, polar, loglog,\n",
      "     semilogx, semilogy, subplot.\n",
      "\n",
      "\n",
      "Additional help for built-in functions and operators is\n",
      "available in the online version of the manual.  Use the command\n",
      "'doc <topic>' to search the manual index.\n",
      "\n",
      "Help and information about Octave is also available on the WWW\n",
      "at http://www.octave.org and via the help@octave.org\n",
      "mailing list.\n"
     ]
    }
   ],
   "source": [
    "help plot"
   ]
  },
  {
   "cell_type": "code",
   "execution_count": 7,
   "metadata": {
    "collapsed": true,
    "jupyter": {
     "outputs_hidden": true
    }
   },
   "outputs": [
    {
     "name": "stdout",
     "output_type": "stream",
     "text": [
      "ans =\n",
      "\n",
      "    1\n",
      "    2\n",
      "    3\n",
      "    6\n",
      "   11\n",
      "   12\n",
      "   15\n",
      "   18\n",
      "   21\n",
      "   23\n",
      "   24\n",
      "   28\n",
      "   29\n",
      "   30\n",
      "   33\n",
      "   35\n",
      "   36\n",
      "   37\n",
      "   39\n",
      "   40\n",
      "   42\n",
      "   44\n",
      "   45\n",
      "   46\n",
      "   54\n",
      "   55\n",
      "   56\n",
      "   58\n",
      "   62\n",
      "   63\n",
      "   64\n",
      "   65\n",
      "   66\n",
      "   68\n",
      "   71\n",
      "   79\n",
      "   80\n",
      "   87\n",
      "   90\n",
      "   93\n",
      "\n"
     ]
    }
   ],
   "source": [
    "find(y==0)"
   ]
  },
  {
   "cell_type": "code",
   "execution_count": 9,
   "metadata": {},
   "outputs": [
    {
     "name": "stdout",
     "output_type": "stream",
     "text": [
      "parse error:\n",
      "\n",
      "  syntax error\n",
      "\n",
      ">>> X((:,1) find(y==0))\n",
      "       ^\n",
      "\n"
     ]
    }
   ],
   "source": [
    "X((:,1) find(y==0))"
   ]
  },
  {
   "cell_type": "code",
   "execution_count": 20,
   "metadata": {
    "collapsed": true,
    "jupyter": {
     "outputs_hidden": true
    }
   },
   "outputs": [
    {
     "name": "stdout",
     "output_type": "stream",
     "text": [
      "'plot' is a function from the file /usr/local/octave/3.8.0/share/octave/3.8.0/m/plot/draw/plot.m\n",
      "\n",
      " -- Function File: plot (Y)\n",
      " -- Function File: plot (X, Y)\n",
      " -- Function File: plot (X, Y, FMT)\n",
      " -- Function File: plot (..., PROPERTY, VALUE, ...)\n",
      " -- Function File: plot (X1, Y1, ..., XN, YN)\n",
      " -- Function File: plot (HAX, ...)\n",
      " -- Function File: H = plot (...)\n",
      "     Produce 2-D plots.\n",
      "\n",
      "     Many different combinations of arguments are possible.  The\n",
      "     simplest form is\n",
      "\n",
      "          plot (Y)\n",
      "\n",
      "     where the argument is taken as the set of Y coordinates and the X\n",
      "     coordinates are taken to be the range '1:numel (Y)'.\n",
      "\n",
      "     If more than one argument is given, they are interpreted as\n",
      "\n",
      "          plot (Y, PROPERTY, VALUE, ...)\n",
      "\n",
      "     or\n",
      "\n",
      "          plot (X, Y, PROPERTY, VALUE, ...)\n",
      "\n",
      "     or\n",
      "\n",
      "          plot (X, Y, FMT, ...)\n",
      "\n",
      "     and so on.  Any number of argument sets may appear.  The X and Y\n",
      "     values are interpreted as follows:\n",
      "\n",
      "        * If a single data argument is supplied, it is taken as the set\n",
      "          of Y coordinates and the X coordinates are taken to be the\n",
      "          indices of the elements, starting with 1.\n",
      "\n",
      "        * If X and Y are scalars, a single point is plotted.\n",
      "\n",
      "        * 'squeeze()' is applied to arguments with more than two\n",
      "          dimensions, but no more than two singleton dimensions.\n",
      "\n",
      "        * If both arguments are vectors, the elements of Y are plotted\n",
      "          versus the elements of X.\n",
      "\n",
      "        * If X is a vector and Y is a matrix, then the columns (or rows)\n",
      "          of Y are plotted versus X.  (using whichever combination\n",
      "          matches, with columns tried first.)\n",
      "\n",
      "        * If the X is a matrix and Y is a vector, Y is plotted versus\n",
      "          the columns (or rows) of X.  (using whichever combination\n",
      "          matches, with columns tried first.)\n",
      "\n",
      "        * If both arguments are matrices, the columns of Y are plotted\n",
      "          versus the columns of X.  In this case, both matrices must\n",
      "          have the same number of rows and columns and no attempt is\n",
      "          made to transpose the arguments to make the number of rows\n",
      "          match.\n",
      "\n",
      "     Multiple property-value pairs may be specified, but they must\n",
      "     appear in pairs.  These arguments are applied to the line objects\n",
      "     drawn by 'plot'.  Useful properties to modify are \"linestyle\",\n",
      "     \"linewidth\", \"color\", \"marker\", \"markersize\", \"markeredgecolor\",\n",
      "     \"markerfacecolor\".\n",
      "\n",
      "     The FMT format argument can also be used to control the plot style.\n",
      "     The format is composed of three parts: linestyle, markerstyle,\n",
      "     color.  When a markerstyle is specified, but no linestyle, only the\n",
      "     markers are plotted.  Similarly, if a linestyle is specified, but\n",
      "     no markerstyle, then only lines are drawn.  If both are specified\n",
      "     then lines and markers will be plotted.  If no FMT and no\n",
      "     PROPERTY/VALUE pairs are given, then the default plot style is\n",
      "     solid lines with no markers and the color determined by the\n",
      "     \"colororder\" property of the current axes.\n",
      "\n",
      "     Format arguments:\n",
      "\n",
      "     linestyle\n",
      "\n",
      "          '-'  Use solid lines (default).\n",
      "          '--' Use dashed lines.\n",
      "          ':'  Use dotted lines.\n",
      "          '-.' Use dash-dotted lines.\n",
      "\n",
      "     markerstyle\n",
      "\n",
      "          '+'  crosshair\n",
      "          'o'  circle\n",
      "          '*'  star\n",
      "          '.'  point\n",
      "          'x'  cross\n",
      "          's'  square\n",
      "          'd'  diamond\n",
      "          '^'  upward-facing triangle\n",
      "          'v'  downward-facing triangle\n",
      "          '>'  right-facing triangle\n",
      "          '<'  left-facing triangle\n",
      "          'p'  pentagram\n",
      "          'h'  hexagram\n",
      "\n",
      "     color\n",
      "\n",
      "          'k'  blacK\n",
      "          'r'  Red\n",
      "          'g'  Green\n",
      "          'b'  Blue\n",
      "          'm'  Magenta\n",
      "          'c'  Cyan\n",
      "          'w'  White\n",
      "\n",
      "     \";key;\"\n",
      "          Here \"key\" is the label to use for the plot legend.\n",
      "\n",
      "     The FMT argument may also be used to assign legend keys.  To do so,\n",
      "     include the desired label between semicolons after the formatting\n",
      "     sequence described above, e.g., \"+b;Key Title;\".  Note that the\n",
      "     last semicolon is required and Octave will generate an error if it\n",
      "     is left out.\n",
      "\n",
      "     Here are some plot examples:\n",
      "\n",
      "          plot (x, y, \"or\", x, y2, x, y3, \"m\", x, y4, \"+\")\n",
      "\n",
      "     This command will plot 'y' with red circles, 'y2' with solid lines,\n",
      "     'y3' with solid magenta lines, and 'y4' with points displayed as\n",
      "     '+'.\n",
      "\n",
      "          plot (b, \"*\", \"markersize\", 10)\n",
      "\n",
      "     This command will plot the data in the variable 'b', with points\n",
      "     displayed as '*' and a marker size of 10.\n",
      "\n",
      "          t = 0:0.1:6.3;\n",
      "          plot (t, cos(t), \"-;cos(t);\", t, sin(t), \"-b;sin(t);\");\n",
      "\n",
      "     This will plot the cosine and sine functions and label them\n",
      "     accordingly in the legend.\n",
      "\n",
      "     If the first argument HAX is an axes handle, then plot into this\n",
      "     axis, rather than the current axes returned by 'gca'.\n",
      "\n",
      "     The optional return value H is a vector of graphics handles to the\n",
      "     created line objects.\n",
      "\n",
      "     To save a plot, in one of several image formats such as PostScript\n",
      "     or PNG, use the 'print' command.\n",
      "\n",
      "     See also: axis, box, grid, hold, legend, title, xlabel, ylabel,\n",
      "     xlim, ylim, ezplot, errorbar, fplot, line, plot3, polar, loglog,\n",
      "     semilogx, semilogy, subplot.\n",
      "\n",
      "\n",
      "Additional help for built-in functions and operators is\n",
      "available in the online version of the manual.  Use the command\n",
      "'doc <topic>' to search the manual index.\n",
      "\n",
      "Help and information about Octave is also available on the WWW\n",
      "at http://www.octave.org and via the help@octave.org\n",
      "mailing list.\n"
     ]
    }
   ],
   "source": [
    "help plot"
   ]
  },
  {
   "cell_type": "markdown",
   "metadata": {},
   "source": [
    "## Plot..."
   ]
  },
  {
   "cell_type": "code",
   "execution_count": 8,
   "metadata": {},
   "outputs": [],
   "source": [
    "function plotData(X,y)\n",
    "   \n",
    "   #get the row indices where y = 1 \n",
    "   positive = find(y==1);\n",
    "   \n",
    "   #get the row indices where y = 0\n",
    "   negative = find(y==0);\n",
    "   \n",
    "   plot(X(positive,1),X(positive,2),'k+','LineWidth',2,'MarkerSize',7);\n",
    "   hold on;\n",
    "   plot(X(negative,1),X(negative,2),'ko','MarkerFaceColor','y','MarkerSize',7);\n",
    "   xlabel(\"Exam 1 score\");\n",
    "   ylabel(\"Exam 2 score\");\n",
    "   legend('Admitted','Not admitted')\n",
    "end"
   ]
  },
  {
   "cell_type": "code",
   "execution_count": 9,
   "metadata": {},
   "outputs": [
    {
     "data": {
      "image/png": "[encoded data removed]",
      "text/plain": [
       "<IPython.core.display.Image object>"
      ]
     },
     "metadata": {},
     "output_type": "display_data"
    }
   ],
   "source": [
    "plotData(X,y)"
   ]
  },
  {
   "cell_type": "markdown",
   "metadata": {},
   "source": [
    "## Sigmoid Function..."
   ]
  },
  {
   "cell_type": "markdown",
   "metadata": {},
   "source": [
    "### Defined as $g(z) = \\frac{1}{1 + e^{-z}}$"
   ]
  },
  {
   "cell_type": "code",
   "execution_count": 10,
   "metadata": {},
   "outputs": [],
   "source": [
    "function g = sigmoid(z)\n",
    "\n",
    "   g = zeros(size(z));\n",
    "   g = 1./(1 + exp(-z));\n",
    "\n",
    "end"
   ]
  },
  {
   "cell_type": "code",
   "execution_count": 5,
   "metadata": {},
   "outputs": [
    {
     "name": "stdout",
     "output_type": "stream",
     "text": [
      "ans =  0.50000\n"
     ]
    }
   ],
   "source": [
    "sigmoid(0)"
   ]
  },
  {
   "cell_type": "code",
   "execution_count": 39,
   "metadata": {},
   "outputs": [
    {
     "name": "stdout",
     "output_type": "stream",
     "text": [
      "ans =  0.73106\n"
     ]
    }
   ],
   "source": [
    "sigmoid(1)"
   ]
  },
  {
   "cell_type": "code",
   "execution_count": 40,
   "metadata": {},
   "outputs": [
    {
     "name": "stdout",
     "output_type": "stream",
     "text": [
      "ans =  0.99995\n"
     ]
    }
   ],
   "source": [
    "sigmoid(10)"
   ]
  },
  {
   "cell_type": "code",
   "execution_count": 41,
   "metadata": {},
   "outputs": [
    {
     "name": "stdout",
     "output_type": "stream",
     "text": [
      "ans =  0.99999\n"
     ]
    }
   ],
   "source": [
    "sigmoid(12)"
   ]
  },
  {
   "cell_type": "code",
   "execution_count": 42,
   "metadata": {},
   "outputs": [
    {
     "name": "stdout",
     "output_type": "stream",
     "text": [
      "ans =  1.00000\n"
     ]
    }
   ],
   "source": [
    "sigmoid(20)"
   ]
  },
  {
   "cell_type": "code",
   "execution_count": 43,
   "metadata": {},
   "outputs": [
    {
     "name": "stdout",
     "output_type": "stream",
     "text": [
      "ans =  1.00000\n"
     ]
    }
   ],
   "source": [
    "sigmoid(30)"
   ]
  },
  {
   "cell_type": "code",
   "execution_count": 44,
   "metadata": {},
   "outputs": [
    {
     "name": "stdout",
     "output_type": "stream",
     "text": [
      "ans =  1\n"
     ]
    }
   ],
   "source": [
    "sigmoid(100)"
   ]
  },
  {
   "cell_type": "code",
   "execution_count": 45,
   "metadata": {},
   "outputs": [
    {
     "name": "stdout",
     "output_type": "stream",
     "text": [
      "ans =  1\n"
     ]
    }
   ],
   "source": [
    "sigmoid(1000)"
   ]
  },
  {
   "cell_type": "code",
   "execution_count": 46,
   "metadata": {},
   "outputs": [
    {
     "name": "stdout",
     "output_type": "stream",
     "text": [
      "ans =  0.0066929\n"
     ]
    }
   ],
   "source": [
    "sigmoid(-5)"
   ]
  },
  {
   "cell_type": "code",
   "execution_count": 47,
   "metadata": {},
   "outputs": [
    {
     "name": "stdout",
     "output_type": "stream",
     "text": [
      "ans =  0.37754\n"
     ]
    }
   ],
   "source": [
    "sigmoid(-.5)"
   ]
  },
  {
   "cell_type": "code",
   "execution_count": 48,
   "metadata": {},
   "outputs": [
    {
     "name": "stdout",
     "output_type": "stream",
     "text": [
      "ans =    3.7201e-44\n"
     ]
    }
   ],
   "source": [
    "sigmoid(-100)"
   ]
  },
  {
   "cell_type": "code",
   "execution_count": 49,
   "metadata": {},
   "outputs": [
    {
     "name": "stdout",
     "output_type": "stream",
     "text": [
      "ans = 0\n"
     ]
    }
   ],
   "source": [
    "sigmoid(-1000)"
   ]
  },
  {
   "cell_type": "code",
   "execution_count": 50,
   "metadata": {},
   "outputs": [
    {
     "name": "stdout",
     "output_type": "stream",
     "text": [
      "ans =  0.26894\n"
     ]
    }
   ],
   "source": [
    "sigmoid(-1)"
   ]
  },
  {
   "cell_type": "markdown",
   "metadata": {},
   "source": [
    "## Cost Function..."
   ]
  },
  {
   "cell_type": "markdown",
   "metadata": {},
   "source": [
    "### Non-regularized version with the ```-``` distributed:\n",
    "$J(\\theta) = \\frac{1}{m}\\displaystyle\\sum_{i=1}^{m}\\Bigg[-y^{(i)}log(h_\\theta(x^{(i)})) - (1 - y^{(i)})log(1 - h_\\theta(x^{(i)}))\\Bigg]$\n",
    "\n",
    "### Vectorized:\n",
    "$J(\\theta) = \\frac{1}{m}\\cdot\\Big(-y^T log(h) - (1 - y)^T log(1 - h)\\Big)$"
   ]
  },
  {
   "cell_type": "markdown",
   "metadata": {},
   "source": [
    "## Gradient Descent...\n",
    "\n",
    "### Non-regularized version (same as with linear regression):\n",
    "\n",
    "$\\theta_j := \\theta_j - \\alpha\\frac{1}{m}\\displaystyle\\sum_{i=1}^{m}(h_\\theta(x^{(i)}) - y^{(i)})x^{(i)}_j$\n",
    "\n",
    "### Vectorized:\n",
    "\n",
    "$\\theta_j := \\theta_j - \\frac{\\alpha}{m}X^T(g(X\\theta) - \\overrightarrow{y})$\n",
    "\n",
    "### Non-vectorized partial derivative of $J(\\theta)$ which you use for returning the gradient elements if will be using the ```fminunc``` Octave function (See LogisticRegression (Week 3) notebook under *Advanced Optimization* for more):\n",
    "\n",
    "$\\frac{\\partial J(\\theta)}{\\partial\\theta_j} = \\frac{1}{m}\\displaystyle\\sum_{i=1}^{m}\\Big(h_\\theta(x^{(i)}) - y^{(i)}\\Big)x_j^{(i)}$\n",
    "\n",
    "### Vectorized partial derivative of $J(\\theta)$ which we're using below:\n",
    "\n",
    "$\\nabla J(\\theta) = \\frac{1}{m}\\cdot X^T\\cdot(g(X\\cdot\\theta) - \\overrightarrow{y})$\n",
    "\n"
   ]
  },
  {
   "cell_type": "code",
   "execution_count": 11,
   "metadata": {},
   "outputs": [],
   "source": [
    "function [J, gradient] = costFunction(theta, X, y)\n",
    "   m = length(y); #number of training samples\n",
    "   J = 0;\n",
    "   gradient = zeros(size(theta));\n",
    "   \n",
    "   h = sigmoid(X * theta);\n",
    "   \n",
    "   #vectorized cost function\n",
    "   J = ((-y' * log(h)) - ((1-y)' * log(1-h)))/m;\n",
    "   \n",
    "   #gradient descent\n",
    "   errors = (h-y);\n",
    "   errorsMatrix = X'*errors;\n",
    "   thetaNew = (1/m)*errorsMatrix;\n",
    "   gradient = thetaNew;\n",
    "\n",
    "end"
   ]
  },
  {
   "cell_type": "markdown",
   "metadata": {},
   "source": [
    "### Debugging..."
   ]
  },
  {
   "cell_type": "code",
   "execution_count": 58,
   "metadata": {},
   "outputs": [
    {
     "name": "stdout",
     "output_type": "stream",
     "text": [
      "errorsMatrix =\n",
      "\n",
      "    -10.000\n",
      "  -1200.922\n",
      "  -1126.284\n",
      "\n",
      "thetaNew =\n",
      "\n",
      "   -0.10000\n",
      "  -12.00922\n",
      "  -11.26284\n",
      "\n"
     ]
    }
   ],
   "source": [
    "h = sigmoid(X * initial_theta);\n",
    "errors = h-y;\n",
    "errorsMatrix = X'*errors;\n",
    "m = length(y);\n",
    "thetaNew = (1/m)*errorsMatrix"
   ]
  },
  {
   "cell_type": "code",
   "execution_count": 13,
   "metadata": {},
   "outputs": [
    {
     "name": "stdout",
     "output_type": "stream",
     "text": [
      "m =  100\n",
      "n =  2\n"
     ]
    }
   ],
   "source": [
    "[m,n] = size(X)"
   ]
  },
  {
   "cell_type": "markdown",
   "metadata": {},
   "source": [
    "### Add a feature for the intercept or $\\theta_0$ feature..."
   ]
  },
  {
   "cell_type": "code",
   "execution_count": 14,
   "metadata": {
    "collapsed": true,
    "jupyter": {
     "outputs_hidden": true
    }
   },
   "outputs": [
    {
     "name": "stdout",
     "output_type": "stream",
     "text": [
      "X =\n",
      "\n",
      "    1.0000   34.6237   78.0247\n",
      "    1.0000   30.2867   43.8950\n",
      "    1.0000   35.8474   72.9022\n",
      "    1.0000   60.1826   86.3086\n",
      "    1.0000   79.0327   75.3444\n",
      "    1.0000   45.0833   56.3164\n",
      "    1.0000   61.1067   96.5114\n",
      "    1.0000   75.0247   46.5540\n",
      "    1.0000   76.0988   87.4206\n",
      "    1.0000   84.4328   43.5334\n",
      "    1.0000   95.8616   38.2253\n",
      "    1.0000   75.0137   30.6033\n",
      "    1.0000   82.3071   76.4820\n",
      "    1.0000   69.3646   97.7187\n",
      "    1.0000   39.5383   76.0368\n",
      "    1.0000   53.9711   89.2074\n",
      "    1.0000   69.0701   52.7405\n",
      "    1.0000   67.9469   46.6786\n",
      "    1.0000   70.6615   92.9271\n",
      "    1.0000   76.9788   47.5760\n",
      "    1.0000   67.3720   42.8384\n",
      "    1.0000   89.6768   65.7994\n",
      "    1.0000   50.5348   48.8558\n",
      "    1.0000   34.2121   44.2095\n",
      "    1.0000   77.9241   68.9724\n",
      "    1.0000   62.2710   69.9545\n",
      "    1.0000   80.1902   44.8216\n",
      "    1.0000   93.1144   38.8007\n",
      "    1.0000   61.8302   50.2561\n",
      "    1.0000   38.7858   64.9957\n",
      "    1.0000   61.3793   72.8079\n",
      "    1.0000   85.4045   57.0520\n",
      "    1.0000   52.1080   63.1276\n",
      "    1.0000   52.0454   69.4329\n",
      "    1.0000   40.2369   71.1677\n",
      "    1.0000   54.6351   52.2139\n",
      "    1.0000   33.9155   98.8694\n",
      "    1.0000   64.1770   80.9081\n",
      "    1.0000   74.7893   41.5734\n",
      "    1.0000   34.1836   75.2377\n",
      "    1.0000   83.9024   56.3080\n",
      "    1.0000   51.5477   46.8563\n",
      "    1.0000   94.4434   65.5689\n",
      "    1.0000   82.3688   40.6183\n",
      "    1.0000   51.0478   45.8227\n",
      "    1.0000   62.2227   52.0610\n",
      "    1.0000   77.1930   70.4582\n",
      "    1.0000   97.7716   86.7278\n",
      "    1.0000   62.0731   96.7688\n",
      "    1.0000   91.5650   88.6963\n",
      "    1.0000   79.9448   74.1631\n",
      "    1.0000   99.2725   60.9990\n",
      "    1.0000   90.5467   43.3906\n",
      "    1.0000   34.5245   60.3963\n",
      "    1.0000   50.2865   49.8045\n",
      "    1.0000   49.5867   59.8090\n",
      "    1.0000   97.6456   68.8616\n",
      "    1.0000   32.5772   95.5985\n",
      "    1.0000   74.2487   69.8246\n",
      "    1.0000   71.7965   78.4536\n",
      "    1.0000   75.3956   85.7599\n",
      "    1.0000   35.2861   47.0205\n",
      "    1.0000   56.2538   39.2615\n",
      "    1.0000   30.0588   49.5930\n",
      "    1.0000   44.6683   66.4501\n",
      "    1.0000   66.5609   41.0921\n",
      "    1.0000   40.4576   97.5352\n",
      "    1.0000   49.0726   51.8832\n",
      "    1.0000   80.2796   92.1161\n",
      "    1.0000   66.7467   60.9914\n",
      "    1.0000   32.7228   43.3072\n",
      "    1.0000   64.0393   78.0317\n",
      "    1.0000   72.3465   96.2276\n",
      "    1.0000   60.4579   73.0950\n",
      "    1.0000   58.8410   75.8584\n",
      "    1.0000   99.8279   72.3693\n",
      "    1.0000   47.2643   88.4759\n",
      "    1.0000   50.4582   75.8099\n",
      "    1.0000   60.4556   42.5084\n",
      "    1.0000   82.2267   42.7199\n",
      "    1.0000   88.9139   69.8038\n",
      "    1.0000   94.8345   45.6943\n",
      "    1.0000   67.3193   66.5894\n",
      "    1.0000   57.2387   59.5143\n",
      "    1.0000   80.3668   90.9601\n",
      "    1.0000   68.4685   85.5943\n",
      "    1.0000   42.0755   78.8448\n",
      "    1.0000   75.4777   90.4245\n",
      "    1.0000   78.6354   96.6474\n",
      "    1.0000   52.3480   60.7695\n",
      "    1.0000   94.0943   77.1591\n",
      "    1.0000   90.4486   87.5088\n",
      "    1.0000   55.4822   35.5707\n",
      "    1.0000   74.4927   84.8451\n",
      "    1.0000   89.8458   45.3583\n",
      "    1.0000   83.4892   48.3803\n",
      "    1.0000   42.2617   87.1039\n",
      "    1.0000   99.3150   68.7754\n",
      "    1.0000   55.3400   64.9319\n",
      "    1.0000   74.7759   89.5298\n",
      "\n"
     ]
    }
   ],
   "source": [
    "X = [ones(m,1) X]"
   ]
  },
  {
   "cell_type": "code",
   "execution_count": 15,
   "metadata": {},
   "outputs": [
    {
     "name": "stdout",
     "output_type": "stream",
     "text": [
      "ans =\n",
      "\n",
      "   3   1\n",
      "\n"
     ]
    }
   ],
   "source": [
    "initial_theta = zeros(n+1,1);\n",
    "size(initial_theta)"
   ]
  },
  {
   "cell_type": "code",
   "execution_count": 63,
   "metadata": {},
   "outputs": [
    {
     "name": "stdout",
     "output_type": "stream",
     "text": [
      "ans =\n",
      "\n",
      "   100     1\n",
      "\n",
      "ans =\n",
      "\n",
      "   100     3\n",
      "\n"
     ]
    }
   ],
   "source": [
    "size(y)\n",
    "size(X)"
   ]
  },
  {
   "cell_type": "code",
   "execution_count": 60,
   "metadata": {},
   "outputs": [],
   "source": [
    "[J, gradient] = costFunction(initial_theta, X, y);"
   ]
  },
  {
   "cell_type": "code",
   "execution_count": 61,
   "metadata": {},
   "outputs": [
    {
     "name": "stdout",
     "output_type": "stream",
     "text": [
      "J =  0.69315\n"
     ]
    }
   ],
   "source": [
    "J"
   ]
  },
  {
   "cell_type": "code",
   "execution_count": 62,
   "metadata": {},
   "outputs": [
    {
     "name": "stdout",
     "output_type": "stream",
     "text": [
      "gradient =\n",
      "\n",
      "   -0.10000\n",
      "  -12.00922\n",
      "  -11.26284\n",
      "\n"
     ]
    }
   ],
   "source": [
    "gradient"
   ]
  },
  {
   "cell_type": "code",
   "execution_count": 47,
   "metadata": {},
   "outputs": [
    {
     "name": "stdout",
     "output_type": "stream",
     "text": [
      "error: 'theta' undefined near line 1 column 1\n"
     ]
    }
   ],
   "source": [
    "theta"
   ]
  },
  {
   "cell_type": "code",
   "execution_count": 48,
   "metadata": {},
   "outputs": [
    {
     "name": "stdout",
     "output_type": "stream",
     "text": [
      "initial_theta =\n",
      "\n",
      "   0\n",
      "   0\n",
      "   0\n",
      "\n"
     ]
    }
   ],
   "source": [
    "initial_theta"
   ]
  },
  {
   "cell_type": "markdown",
   "metadata": {},
   "source": [
    "## Call ```fminunc``` (again, see Logistic Regression Week 3 Notebook under ***Advanced Optimization*** or ex2.pdf for more)..."
   ]
  },
  {
   "cell_type": "code",
   "execution_count": 16,
   "metadata": {},
   "outputs": [],
   "source": [
    "options = optimset('GradObj','on','MaxIter',400);\n",
    "[theta,cost] = fminunc(@(t) (costFunction(t,X,y)),initial_theta,options);"
   ]
  },
  {
   "cell_type": "code",
   "execution_count": 17,
   "metadata": {},
   "outputs": [
    {
     "name": "stdout",
     "output_type": "stream",
     "text": [
      "cost =  0.20350\n"
     ]
    }
   ],
   "source": [
    "cost"
   ]
  },
  {
   "cell_type": "code",
   "execution_count": 18,
   "metadata": {},
   "outputs": [
    {
     "name": "stdout",
     "output_type": "stream",
     "text": [
      "theta =\n",
      "\n",
      "  -25.16127\n",
      "    0.20623\n",
      "    0.20147\n",
      "\n"
     ]
    }
   ],
   "source": [
    "theta"
   ]
  },
  {
   "cell_type": "markdown",
   "metadata": {},
   "source": [
    "### Use the optimal theta to predict against a test observation..."
   ]
  },
  {
   "cell_type": "code",
   "execution_count": 19,
   "metadata": {},
   "outputs": [
    {
     "name": "stdout",
     "output_type": "stream",
     "text": [
      "prediction =  0.77629\n"
     ]
    }
   ],
   "source": [
    "x = [1 45 85];\n",
    "prediction = sigmoid(x*theta)"
   ]
  },
  {
   "cell_type": "markdown",
   "metadata": {},
   "source": [
    "### The probability of a student getting admitted to the university with these exam grades is 77.6%"
   ]
  },
  {
   "cell_type": "markdown",
   "metadata": {},
   "source": [
    "TODO:  \n",
    "\n",
    "$\\sqrt{}{}$ Review plotDecisionBoundary.m for how the decision boundary is plotted\n",
    "\n",
    "$\\sqrt{}{}$ How do they compute the +/- error of .002 as shown in ex2.m? They didn't, they chose it because of the difference in results between Octave/MATLAB 😎, according to this post: \n",
    "\n",
    "https://www.coursera.org/learn/machine-learning/discussions/all/threads/PauoPcmkEemoRBJ2Jg_D_A\n"
   ]
  },
  {
   "cell_type": "markdown",
   "metadata": {},
   "source": [
    "### Plot the Decistion Boundary.  See this post for an explanation:\n",
    "https://www.coursera.org/learn/machine-learning/discussions/weeks/3/threads/HAEss7C7EeWoGg6ulZMPEw"
   ]
  },
  {
   "cell_type": "code",
   "execution_count": 47,
   "metadata": {},
   "outputs": [],
   "source": [
    "function plotDecisionBoundary(theta, X, y)\n",
    "   plotData(X(:,2:3),y);\n",
    "   hold on;\n",
    "   if size(X,2) <= 3\n",
    "      plot_x = [min(X(:,2))-2, max(X(:,2))+2];\n",
    "      plot_y = (-1./theta(3)).*(theta(2).*plot_x + theta(1));\n",
    "      plot(plot_x,plot_y)\n",
    "      legend('Admitted','Not admitted','Decision Boundary')\n",
    "      axis([30,100,30,100]) #basically zooms in on the data to link the boundary to the respective axes\n",
    "   end\n",
    "   hold off\n",
    "end"
   ]
  },
  {
   "cell_type": "code",
   "execution_count": 50,
   "metadata": {},
   "outputs": [
    {
     "data": {
      "image/png": "[encoded data removed]",
      "text/plain": [
       "<IPython.core.display.Image object>"
      ]
     },
     "metadata": {},
     "output_type": "display_data"
    }
   ],
   "source": [
    "plotDecisionBoundary(theta, X, y)"
   ]
  },
  {
   "cell_type": "code",
   "execution_count": null,
   "metadata": {},
   "outputs": [],
   "source": []
  }
 ],
 "metadata": {
  "kernelspec": {
   "display_name": "Octave",
   "language": "octave",
   "name": "octave"
  },
  "language_info": {
   "file_extension": ".m",
   "help_links": [
    {
     "text": "GNU Octave",
     "url": "https://www.gnu.org/software/octave/support.html"
    },
    {
     "text": "Octave Kernel",
     "url": "https://github.com/Calysto/octave_kernel"
    },
    {
     "text": "MetaKernel Magics",
     "url": "https://metakernel.readthedocs.io/en/latest/source/README.html"
    }
   ],
   "mimetype": "text/x-octave",
   "name": "octave",
   "version": "3.8.0"
  }
 },
 "nbformat": 4,
 "nbformat_minor": 4
}
