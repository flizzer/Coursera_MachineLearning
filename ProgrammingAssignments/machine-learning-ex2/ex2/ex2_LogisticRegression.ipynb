{
 "cells": [
  {
   "cell_type": "markdown",
   "metadata": {},
   "source": [
    "# Exercise 2 - Logistic Regression"
   ]
  },
  {
   "cell_type": "markdown",
   "metadata": {},
   "source": [
    "## Load the data..."
   ]
  },
  {
   "cell_type": "code",
   "execution_count": 1,
   "metadata": {},
   "outputs": [
    {
     "name": "stdout",
     "output_type": "stream",
     "text": [
      "data =\n",
      "\n",
      "   34.62366   78.02469    0.00000\n",
      "   30.28671   43.89500    0.00000\n",
      "   35.84741   72.90220    0.00000\n",
      "   60.18260   86.30855    1.00000\n",
      "   79.03274   75.34438    1.00000\n",
      "   45.08328   56.31637    0.00000\n",
      "   61.10666   96.51143    1.00000\n",
      "   75.02475   46.55401    1.00000\n",
      "   76.09879   87.42057    1.00000\n",
      "   84.43282   43.53339    1.00000\n",
      "   95.86156   38.22528    0.00000\n",
      "   75.01366   30.60326    0.00000\n",
      "   82.30705   76.48196    1.00000\n",
      "   69.36459   97.71869    1.00000\n",
      "   39.53834   76.03681    0.00000\n",
      "   53.97105   89.20735    1.00000\n",
      "   69.07014   52.74047    1.00000\n",
      "   67.94686   46.67857    0.00000\n",
      "   70.66151   92.92714    1.00000\n",
      "   76.97878   47.57596    1.00000\n",
      "   67.37203   42.83844    0.00000\n",
      "   89.67678   65.79937    1.00000\n",
      "   50.53479   48.85581    0.00000\n",
      "   34.21206   44.20953    0.00000\n",
      "   77.92409   68.97236    1.00000\n",
      "   62.27101   69.95446    1.00000\n",
      "   80.19018   44.82163    1.00000\n",
      "   93.11439   38.80067    0.00000\n",
      "   61.83021   50.25611    0.00000\n",
      "   38.78580   64.99568    0.00000\n",
      "   61.37929   72.80789    1.00000\n",
      "   85.40452   57.05198    1.00000\n",
      "   52.10798   63.12762    0.00000\n",
      "   52.04540   69.43286    1.00000\n",
      "   40.23689   71.16775    0.00000\n",
      "   54.63511   52.21389    0.00000\n",
      "   33.91550   98.86944    0.00000\n",
      "   64.17699   80.90806    1.00000\n",
      "   74.78925   41.57342    0.00000\n",
      "   34.18364   75.23772    0.00000\n",
      "   83.90239   56.30805    1.00000\n",
      "   51.54772   46.85629    0.00000\n",
      "   94.44337   65.56892    1.00000\n",
      "   82.36875   40.61826    0.00000\n",
      "   51.04775   45.82270    0.00000\n",
      "   62.22268   52.06099    0.00000\n",
      "   77.19303   70.45820    1.00000\n",
      "   97.77160   86.72782    1.00000\n",
      "   62.07306   96.76882    1.00000\n",
      "   91.56497   88.69629    1.00000\n",
      "   79.94482   74.16312    1.00000\n",
      "   99.27253   60.99903    1.00000\n",
      "   90.54671   43.39060    1.00000\n",
      "   34.52451   60.39634    0.00000\n",
      "   50.28650   49.80454    0.00000\n",
      "   49.58668   59.80895    0.00000\n",
      "   97.64563   68.86157    1.00000\n",
      "   32.57720   95.59855    0.00000\n",
      "   74.24869   69.82457    1.00000\n",
      "   71.79646   78.45356    1.00000\n",
      "   75.39561   85.75994    1.00000\n",
      "   35.28611   47.02051    0.00000\n",
      "   56.25382   39.26147    0.00000\n",
      "   30.05882   49.59297    0.00000\n",
      "   44.66826   66.45009    0.00000\n",
      "   66.56089   41.09210    0.00000\n",
      "   40.45755   97.53519    1.00000\n",
      "   49.07256   51.88321    0.00000\n",
      "   80.27957   92.11606    1.00000\n",
      "   66.74672   60.99139    1.00000\n",
      "   32.72283   43.30717    0.00000\n",
      "   64.03932   78.03169    1.00000\n",
      "   72.34649   96.22759    1.00000\n",
      "   60.45789   73.09500    1.00000\n",
      "   58.84096   75.85845    1.00000\n",
      "   99.82786   72.36925    1.00000\n",
      "   47.26427   88.47586    1.00000\n",
      "   50.45816   75.80986    1.00000\n",
      "   60.45556   42.50841    0.00000\n",
      "   82.22666   42.71988    0.00000\n",
      "   88.91390   69.80379    1.00000\n",
      "   94.83451   45.69431    1.00000\n",
      "   67.31926   66.58935    1.00000\n",
      "   57.23871   59.51428    1.00000\n",
      "   80.36676   90.96015    1.00000\n",
      "   68.46852   85.59431    1.00000\n",
      "   42.07545   78.84479    0.00000\n",
      "   75.47770   90.42454    1.00000\n",
      "   78.63542   96.64743    1.00000\n",
      "   52.34800   60.76951    0.00000\n",
      "   94.09433   77.15911    1.00000\n",
      "   90.44855   87.50879    1.00000\n",
      "   55.48216   35.57070    0.00000\n",
      "   74.49269   84.84514    1.00000\n",
      "   89.84581   45.35828    1.00000\n",
      "   83.48916   48.38029    1.00000\n",
      "   42.26170   87.10385    1.00000\n",
      "   99.31501   68.77541    1.00000\n",
      "   55.34002   64.93194    1.00000\n",
      "   74.77589   89.52981    1.00000\n",
      "\n"
     ]
    }
   ],
   "source": [
    "data = load('ex2data1.txt')"
   ]
  },
  {
   "cell_type": "markdown",
   "metadata": {},
   "source": [
    "### Separate the training data from what we want to predict..."
   ]
  },
  {
   "cell_type": "code",
   "execution_count": 2,
   "metadata": {},
   "outputs": [],
   "source": [
    "X = data(:, [1,2]);\n",
    "y = data(:, 3);"
   ]
  },
  {
   "cell_type": "code",
   "execution_count": 3,
   "metadata": {
    "collapsed": true,
    "jupyter": {
     "outputs_hidden": true
    }
   },
   "outputs": [
    {
     "name": "stdout",
     "output_type": "stream",
     "text": [
      "ans =\n",
      "\n",
      "   78.025\n",
      "   43.895\n",
      "   72.902\n",
      "   86.309\n",
      "   75.344\n",
      "   56.316\n",
      "   96.511\n",
      "   46.554\n",
      "   87.421\n",
      "   43.533\n",
      "   38.225\n",
      "   30.603\n",
      "   76.482\n",
      "   97.719\n",
      "   76.037\n",
      "   89.207\n",
      "   52.740\n",
      "   46.679\n",
      "   92.927\n",
      "   47.576\n",
      "   42.838\n",
      "   65.799\n",
      "   48.856\n",
      "   44.210\n",
      "   68.972\n",
      "   69.954\n",
      "   44.822\n",
      "   38.801\n",
      "   50.256\n",
      "   64.996\n",
      "   72.808\n",
      "   57.052\n",
      "   63.128\n",
      "   69.433\n",
      "   71.168\n",
      "   52.214\n",
      "   98.869\n",
      "   80.908\n",
      "   41.573\n",
      "   75.238\n",
      "   56.308\n",
      "   46.856\n",
      "   65.569\n",
      "   40.618\n",
      "   45.823\n",
      "   52.061\n",
      "   70.458\n",
      "   86.728\n",
      "   96.769\n",
      "   88.696\n",
      "   74.163\n",
      "   60.999\n",
      "   43.391\n",
      "   60.396\n",
      "   49.805\n",
      "   59.809\n",
      "   68.862\n",
      "   95.599\n",
      "   69.825\n",
      "   78.454\n",
      "   85.760\n",
      "   47.021\n",
      "   39.261\n",
      "   49.593\n",
      "   66.450\n",
      "   41.092\n",
      "   97.535\n",
      "   51.883\n",
      "   92.116\n",
      "   60.991\n",
      "   43.307\n",
      "   78.032\n",
      "   96.228\n",
      "   73.095\n",
      "   75.858\n",
      "   72.369\n",
      "   88.476\n",
      "   75.810\n",
      "   42.508\n",
      "   42.720\n",
      "   69.804\n",
      "   45.694\n",
      "   66.589\n",
      "   59.514\n",
      "   90.960\n",
      "   85.594\n",
      "   78.845\n",
      "   90.425\n",
      "   96.647\n",
      "   60.770\n",
      "   77.159\n",
      "   87.509\n",
      "   35.571\n",
      "   84.845\n",
      "   45.358\n",
      "   48.380\n",
      "   87.104\n",
      "   68.775\n",
      "   64.932\n",
      "   89.530\n",
      "\n"
     ]
    }
   ],
   "source": [
    "X(:,2)"
   ]
  },
  {
   "cell_type": "markdown",
   "metadata": {},
   "source": [
    "### Visualize the data before working with it..."
   ]
  },
  {
   "cell_type": "code",
   "execution_count": 5,
   "metadata": {
    "collapsed": true,
    "jupyter": {
     "outputs_hidden": true
    }
   },
   "outputs": [
    {
     "name": "stdout",
     "output_type": "stream",
     "text": [
      "'plot' is a function from the file /usr/local/octave/3.8.0/share/octave/3.8.0/m/plot/draw/plot.m\n",
      "\n",
      " -- Function File: plot (Y)\n",
      " -- Function File: plot (X, Y)\n",
      " -- Function File: plot (X, Y, FMT)\n",
      " -- Function File: plot (..., PROPERTY, VALUE, ...)\n",
      " -- Function File: plot (X1, Y1, ..., XN, YN)\n",
      " -- Function File: plot (HAX, ...)\n",
      " -- Function File: H = plot (...)\n",
      "     Produce 2-D plots.\n",
      "\n",
      "     Many different combinations of arguments are possible.  The\n",
      "     simplest form is\n",
      "\n",
      "          plot (Y)\n",
      "\n",
      "     where the argument is taken as the set of Y coordinates and the X\n",
      "     coordinates are taken to be the range '1:numel (Y)'.\n",
      "\n",
      "     If more than one argument is given, they are interpreted as\n",
      "\n",
      "          plot (Y, PROPERTY, VALUE, ...)\n",
      "\n",
      "     or\n",
      "\n",
      "          plot (X, Y, PROPERTY, VALUE, ...)\n",
      "\n",
      "     or\n",
      "\n",
      "          plot (X, Y, FMT, ...)\n",
      "\n",
      "     and so on.  Any number of argument sets may appear.  The X and Y\n",
      "     values are interpreted as follows:\n",
      "\n",
      "        * If a single data argument is supplied, it is taken as the set\n",
      "          of Y coordinates and the X coordinates are taken to be the\n",
      "          indices of the elements, starting with 1.\n",
      "\n",
      "        * If X and Y are scalars, a single point is plotted.\n",
      "\n",
      "        * 'squeeze()' is applied to arguments with more than two\n",
      "          dimensions, but no more than two singleton dimensions.\n",
      "\n",
      "        * If both arguments are vectors, the elements of Y are plotted\n",
      "          versus the elements of X.\n",
      "\n",
      "        * If X is a vector and Y is a matrix, then the columns (or rows)\n",
      "          of Y are plotted versus X.  (using whichever combination\n",
      "          matches, with columns tried first.)\n",
      "\n",
      "        * If the X is a matrix and Y is a vector, Y is plotted versus\n",
      "          the columns (or rows) of X.  (using whichever combination\n",
      "          matches, with columns tried first.)\n",
      "\n",
      "        * If both arguments are matrices, the columns of Y are plotted\n",
      "          versus the columns of X.  In this case, both matrices must\n",
      "          have the same number of rows and columns and no attempt is\n",
      "          made to transpose the arguments to make the number of rows\n",
      "          match.\n",
      "\n",
      "     Multiple property-value pairs may be specified, but they must\n",
      "     appear in pairs.  These arguments are applied to the line objects\n",
      "     drawn by 'plot'.  Useful properties to modify are \"linestyle\",\n",
      "     \"linewidth\", \"color\", \"marker\", \"markersize\", \"markeredgecolor\",\n",
      "     \"markerfacecolor\".\n",
      "\n",
      "     The FMT format argument can also be used to control the plot style.\n",
      "     The format is composed of three parts: linestyle, markerstyle,\n",
      "     color.  When a markerstyle is specified, but no linestyle, only the\n",
      "     markers are plotted.  Similarly, if a linestyle is specified, but\n",
      "     no markerstyle, then only lines are drawn.  If both are specified\n",
      "     then lines and markers will be plotted.  If no FMT and no\n",
      "     PROPERTY/VALUE pairs are given, then the default plot style is\n",
      "     solid lines with no markers and the color determined by the\n",
      "     \"colororder\" property of the current axes.\n",
      "\n",
      "     Format arguments:\n",
      "\n",
      "     linestyle\n",
      "\n",
      "          '-'  Use solid lines (default).\n",
      "          '--' Use dashed lines.\n",
      "          ':'  Use dotted lines.\n",
      "          '-.' Use dash-dotted lines.\n",
      "\n",
      "     markerstyle\n",
      "\n",
      "          '+'  crosshair\n",
      "          'o'  circle\n",
      "          '*'  star\n",
      "          '.'  point\n",
      "          'x'  cross\n",
      "          's'  square\n",
      "          'd'  diamond\n",
      "          '^'  upward-facing triangle\n",
      "          'v'  downward-facing triangle\n",
      "          '>'  right-facing triangle\n",
      "          '<'  left-facing triangle\n",
      "          'p'  pentagram\n",
      "          'h'  hexagram\n",
      "\n",
      "     color\n",
      "\n",
      "          'k'  blacK\n",
      "          'r'  Red\n",
      "          'g'  Green\n",
      "          'b'  Blue\n",
      "          'm'  Magenta\n",
      "          'c'  Cyan\n",
      "          'w'  White\n",
      "\n",
      "     \";key;\"\n",
      "          Here \"key\" is the label to use for the plot legend.\n",
      "\n",
      "     The FMT argument may also be used to assign legend keys.  To do so,\n",
      "     include the desired label between semicolons after the formatting\n",
      "     sequence described above, e.g., \"+b;Key Title;\".  Note that the\n",
      "     last semicolon is required and Octave will generate an error if it\n",
      "     is left out.\n",
      "\n",
      "     Here are some plot examples:\n",
      "\n",
      "          plot (x, y, \"or\", x, y2, x, y3, \"m\", x, y4, \"+\")\n",
      "\n",
      "     This command will plot 'y' with red circles, 'y2' with solid lines,\n",
      "     'y3' with solid magenta lines, and 'y4' with points displayed as\n",
      "     '+'.\n",
      "\n",
      "          plot (b, \"*\", \"markersize\", 10)\n",
      "\n",
      "     This command will plot the data in the variable 'b', with points\n",
      "     displayed as '*' and a marker size of 10.\n",
      "\n",
      "          t = 0:0.1:6.3;\n",
      "          plot (t, cos(t), \"-;cos(t);\", t, sin(t), \"-b;sin(t);\");\n",
      "\n",
      "     This will plot the cosine and sine functions and label them\n",
      "     accordingly in the legend.\n",
      "\n",
      "     If the first argument HAX is an axes handle, then plot into this\n",
      "     axis, rather than the current axes returned by 'gca'.\n",
      "\n",
      "     The optional return value H is a vector of graphics handles to the\n",
      "     created line objects.\n",
      "\n",
      "     To save a plot, in one of several image formats such as PostScript\n",
      "     or PNG, use the 'print' command.\n",
      "\n",
      "     See also: axis, box, grid, hold, legend, title, xlabel, ylabel,\n",
      "     xlim, ylim, ezplot, errorbar, fplot, line, plot3, polar, loglog,\n",
      "     semilogx, semilogy, subplot.\n",
      "\n",
      "\n",
      "Additional help for built-in functions and operators is\n",
      "available in the online version of the manual.  Use the command\n",
      "'doc <topic>' to search the manual index.\n",
      "\n",
      "Help and information about Octave is also available on the WWW\n",
      "at http://www.octave.org and via the help@octave.org\n",
      "mailing list.\n"
     ]
    }
   ],
   "source": [
    "help plot"
   ]
  },
  {
   "cell_type": "code",
   "execution_count": 7,
   "metadata": {
    "collapsed": true,
    "jupyter": {
     "outputs_hidden": true
    }
   },
   "outputs": [
    {
     "name": "stdout",
     "output_type": "stream",
     "text": [
      "ans =\n",
      "\n",
      "    1\n",
      "    2\n",
      "    3\n",
      "    6\n",
      "   11\n",
      "   12\n",
      "   15\n",
      "   18\n",
      "   21\n",
      "   23\n",
      "   24\n",
      "   28\n",
      "   29\n",
      "   30\n",
      "   33\n",
      "   35\n",
      "   36\n",
      "   37\n",
      "   39\n",
      "   40\n",
      "   42\n",
      "   44\n",
      "   45\n",
      "   46\n",
      "   54\n",
      "   55\n",
      "   56\n",
      "   58\n",
      "   62\n",
      "   63\n",
      "   64\n",
      "   65\n",
      "   66\n",
      "   68\n",
      "   71\n",
      "   79\n",
      "   80\n",
      "   87\n",
      "   90\n",
      "   93\n",
      "\n"
     ]
    }
   ],
   "source": [
    "find(y==0)"
   ]
  },
  {
   "cell_type": "code",
   "execution_count": 64,
   "metadata": {},
   "outputs": [
    {
     "name": "stdout",
     "output_type": "stream",
     "text": [
      "parse error:\n",
      "\n",
      "  syntax error\n",
      "\n",
      ">>> X((:,1) find(y==0))\n",
      "       ^\n",
      "\n"
     ]
    }
   ],
   "source": [
    "X((:,1) find(y==0))"
   ]
  },
  {
   "cell_type": "code",
   "execution_count": 20,
   "metadata": {
    "collapsed": true,
    "jupyter": {
     "outputs_hidden": true
    }
   },
   "outputs": [
    {
     "name": "stdout",
     "output_type": "stream",
     "text": [
      "'plot' is a function from the file /usr/local/octave/3.8.0/share/octave/3.8.0/m/plot/draw/plot.m\n",
      "\n",
      " -- Function File: plot (Y)\n",
      " -- Function File: plot (X, Y)\n",
      " -- Function File: plot (X, Y, FMT)\n",
      " -- Function File: plot (..., PROPERTY, VALUE, ...)\n",
      " -- Function File: plot (X1, Y1, ..., XN, YN)\n",
      " -- Function File: plot (HAX, ...)\n",
      " -- Function File: H = plot (...)\n",
      "     Produce 2-D plots.\n",
      "\n",
      "     Many different combinations of arguments are possible.  The\n",
      "     simplest form is\n",
      "\n",
      "          plot (Y)\n",
      "\n",
      "     where the argument is taken as the set of Y coordinates and the X\n",
      "     coordinates are taken to be the range '1:numel (Y)'.\n",
      "\n",
      "     If more than one argument is given, they are interpreted as\n",
      "\n",
      "          plot (Y, PROPERTY, VALUE, ...)\n",
      "\n",
      "     or\n",
      "\n",
      "          plot (X, Y, PROPERTY, VALUE, ...)\n",
      "\n",
      "     or\n",
      "\n",
      "          plot (X, Y, FMT, ...)\n",
      "\n",
      "     and so on.  Any number of argument sets may appear.  The X and Y\n",
      "     values are interpreted as follows:\n",
      "\n",
      "        * If a single data argument is supplied, it is taken as the set\n",
      "          of Y coordinates and the X coordinates are taken to be the\n",
      "          indices of the elements, starting with 1.\n",
      "\n",
      "        * If X and Y are scalars, a single point is plotted.\n",
      "\n",
      "        * 'squeeze()' is applied to arguments with more than two\n",
      "          dimensions, but no more than two singleton dimensions.\n",
      "\n",
      "        * If both arguments are vectors, the elements of Y are plotted\n",
      "          versus the elements of X.\n",
      "\n",
      "        * If X is a vector and Y is a matrix, then the columns (or rows)\n",
      "          of Y are plotted versus X.  (using whichever combination\n",
      "          matches, with columns tried first.)\n",
      "\n",
      "        * If the X is a matrix and Y is a vector, Y is plotted versus\n",
      "          the columns (or rows) of X.  (using whichever combination\n",
      "          matches, with columns tried first.)\n",
      "\n",
      "        * If both arguments are matrices, the columns of Y are plotted\n",
      "          versus the columns of X.  In this case, both matrices must\n",
      "          have the same number of rows and columns and no attempt is\n",
      "          made to transpose the arguments to make the number of rows\n",
      "          match.\n",
      "\n",
      "     Multiple property-value pairs may be specified, but they must\n",
      "     appear in pairs.  These arguments are applied to the line objects\n",
      "     drawn by 'plot'.  Useful properties to modify are \"linestyle\",\n",
      "     \"linewidth\", \"color\", \"marker\", \"markersize\", \"markeredgecolor\",\n",
      "     \"markerfacecolor\".\n",
      "\n",
      "     The FMT format argument can also be used to control the plot style.\n",
      "     The format is composed of three parts: linestyle, markerstyle,\n",
      "     color.  When a markerstyle is specified, but no linestyle, only the\n",
      "     markers are plotted.  Similarly, if a linestyle is specified, but\n",
      "     no markerstyle, then only lines are drawn.  If both are specified\n",
      "     then lines and markers will be plotted.  If no FMT and no\n",
      "     PROPERTY/VALUE pairs are given, then the default plot style is\n",
      "     solid lines with no markers and the color determined by the\n",
      "     \"colororder\" property of the current axes.\n",
      "\n",
      "     Format arguments:\n",
      "\n",
      "     linestyle\n",
      "\n",
      "          '-'  Use solid lines (default).\n",
      "          '--' Use dashed lines.\n",
      "          ':'  Use dotted lines.\n",
      "          '-.' Use dash-dotted lines.\n",
      "\n",
      "     markerstyle\n",
      "\n",
      "          '+'  crosshair\n",
      "          'o'  circle\n",
      "          '*'  star\n",
      "          '.'  point\n",
      "          'x'  cross\n",
      "          's'  square\n",
      "          'd'  diamond\n",
      "          '^'  upward-facing triangle\n",
      "          'v'  downward-facing triangle\n",
      "          '>'  right-facing triangle\n",
      "          '<'  left-facing triangle\n",
      "          'p'  pentagram\n",
      "          'h'  hexagram\n",
      "\n",
      "     color\n",
      "\n",
      "          'k'  blacK\n",
      "          'r'  Red\n",
      "          'g'  Green\n",
      "          'b'  Blue\n",
      "          'm'  Magenta\n",
      "          'c'  Cyan\n",
      "          'w'  White\n",
      "\n",
      "     \";key;\"\n",
      "          Here \"key\" is the label to use for the plot legend.\n",
      "\n",
      "     The FMT argument may also be used to assign legend keys.  To do so,\n",
      "     include the desired label between semicolons after the formatting\n",
      "     sequence described above, e.g., \"+b;Key Title;\".  Note that the\n",
      "     last semicolon is required and Octave will generate an error if it\n",
      "     is left out.\n",
      "\n",
      "     Here are some plot examples:\n",
      "\n",
      "          plot (x, y, \"or\", x, y2, x, y3, \"m\", x, y4, \"+\")\n",
      "\n",
      "     This command will plot 'y' with red circles, 'y2' with solid lines,\n",
      "     'y3' with solid magenta lines, and 'y4' with points displayed as\n",
      "     '+'.\n",
      "\n",
      "          plot (b, \"*\", \"markersize\", 10)\n",
      "\n",
      "     This command will plot the data in the variable 'b', with points\n",
      "     displayed as '*' and a marker size of 10.\n",
      "\n",
      "          t = 0:0.1:6.3;\n",
      "          plot (t, cos(t), \"-;cos(t);\", t, sin(t), \"-b;sin(t);\");\n",
      "\n",
      "     This will plot the cosine and sine functions and label them\n",
      "     accordingly in the legend.\n",
      "\n",
      "     If the first argument HAX is an axes handle, then plot into this\n",
      "     axis, rather than the current axes returned by 'gca'.\n",
      "\n",
      "     The optional return value H is a vector of graphics handles to the\n",
      "     created line objects.\n",
      "\n",
      "     To save a plot, in one of several image formats such as PostScript\n",
      "     or PNG, use the 'print' command.\n",
      "\n",
      "     See also: axis, box, grid, hold, legend, title, xlabel, ylabel,\n",
      "     xlim, ylim, ezplot, errorbar, fplot, line, plot3, polar, loglog,\n",
      "     semilogx, semilogy, subplot.\n",
      "\n",
      "\n",
      "Additional help for built-in functions and operators is\n",
      "available in the online version of the manual.  Use the command\n",
      "'doc <topic>' to search the manual index.\n",
      "\n",
      "Help and information about Octave is also available on the WWW\n",
      "at http://www.octave.org and via the help@octave.org\n",
      "mailing list.\n"
     ]
    }
   ],
   "source": [
    "help plot"
   ]
  },
  {
   "cell_type": "markdown",
   "metadata": {},
   "source": [
    "## Plot..."
   ]
  },
  {
   "cell_type": "code",
   "execution_count": 3,
   "metadata": {},
   "outputs": [],
   "source": [
    "function plotData(X,y)\n",
    "   \n",
    "   #get the row indices where y = 1 \n",
    "   positive = find(y==1);\n",
    "   \n",
    "   #get the row indices where y = 0\n",
    "   negative = find(y==0);\n",
    "   \n",
    "   plot(X(positive,1),X(positive,2),'k+','LineWidth',2,'MarkerSize',7);\n",
    "   hold on;\n",
    "   plot(X(negative,1),X(negative,2),'ko','MarkerFaceColor','y','MarkerSize',7);\n",
    "   xlabel(\"Exam 1 score\");\n",
    "   ylabel(\"Exam 2 score\");\n",
    "   legend('Admitted','Not admitted')\n",
    "end"
   ]
  },
  {
   "cell_type": "code",
   "execution_count": 4,
   "metadata": {},
   "outputs": [
    {
     "data": {
      "image/png": "[encoded data removed]",
      "text/plain": [
       "<IPython.core.display.Image object>"
      ]
     },
     "metadata": {},
     "output_type": "display_data"
    }
   ],
   "source": [
    "plotData(X,y)"
   ]
  },
  {
   "cell_type": "markdown",
   "metadata": {},
   "source": [
    "## Sigmoid Function..."
   ]
  },
  {
   "cell_type": "markdown",
   "metadata": {},
   "source": [
    "### Defined as $g(z) = \\frac{1}{1 + e^{-z}}$"
   ]
  },
  {
   "cell_type": "code",
   "execution_count": 5,
   "metadata": {},
   "outputs": [],
   "source": [
    "function g = sigmoid(z)\n",
    "\n",
    "   g = zeros(size(z));\n",
    "   g = 1./(1 + exp(-z));\n",
    "\n",
    "end"
   ]
  },
  {
   "cell_type": "code",
   "execution_count": 5,
   "metadata": {},
   "outputs": [
    {
     "name": "stdout",
     "output_type": "stream",
     "text": [
      "ans =  0.50000\n"
     ]
    }
   ],
   "source": [
    "sigmoid(0)"
   ]
  },
  {
   "cell_type": "code",
   "execution_count": 39,
   "metadata": {},
   "outputs": [
    {
     "name": "stdout",
     "output_type": "stream",
     "text": [
      "ans =  0.73106\n"
     ]
    }
   ],
   "source": [
    "sigmoid(1)"
   ]
  },
  {
   "cell_type": "code",
   "execution_count": 40,
   "metadata": {},
   "outputs": [
    {
     "name": "stdout",
     "output_type": "stream",
     "text": [
      "ans =  0.99995\n"
     ]
    }
   ],
   "source": [
    "sigmoid(10)"
   ]
  },
  {
   "cell_type": "code",
   "execution_count": 41,
   "metadata": {},
   "outputs": [
    {
     "name": "stdout",
     "output_type": "stream",
     "text": [
      "ans =  0.99999\n"
     ]
    }
   ],
   "source": [
    "sigmoid(12)"
   ]
  },
  {
   "cell_type": "code",
   "execution_count": 42,
   "metadata": {},
   "outputs": [
    {
     "name": "stdout",
     "output_type": "stream",
     "text": [
      "ans =  1.00000\n"
     ]
    }
   ],
   "source": [
    "sigmoid(20)"
   ]
  },
  {
   "cell_type": "code",
   "execution_count": 43,
   "metadata": {},
   "outputs": [
    {
     "name": "stdout",
     "output_type": "stream",
     "text": [
      "ans =  1.00000\n"
     ]
    }
   ],
   "source": [
    "sigmoid(30)"
   ]
  },
  {
   "cell_type": "code",
   "execution_count": 44,
   "metadata": {},
   "outputs": [
    {
     "name": "stdout",
     "output_type": "stream",
     "text": [
      "ans =  1\n"
     ]
    }
   ],
   "source": [
    "sigmoid(100)"
   ]
  },
  {
   "cell_type": "code",
   "execution_count": 45,
   "metadata": {},
   "outputs": [
    {
     "name": "stdout",
     "output_type": "stream",
     "text": [
      "ans =  1\n"
     ]
    }
   ],
   "source": [
    "sigmoid(1000)"
   ]
  },
  {
   "cell_type": "code",
   "execution_count": 46,
   "metadata": {},
   "outputs": [
    {
     "name": "stdout",
     "output_type": "stream",
     "text": [
      "ans =  0.0066929\n"
     ]
    }
   ],
   "source": [
    "sigmoid(-5)"
   ]
  },
  {
   "cell_type": "code",
   "execution_count": 47,
   "metadata": {},
   "outputs": [
    {
     "name": "stdout",
     "output_type": "stream",
     "text": [
      "ans =  0.37754\n"
     ]
    }
   ],
   "source": [
    "sigmoid(-.5)"
   ]
  },
  {
   "cell_type": "code",
   "execution_count": 48,
   "metadata": {},
   "outputs": [
    {
     "name": "stdout",
     "output_type": "stream",
     "text": [
      "ans =    3.7201e-44\n"
     ]
    }
   ],
   "source": [
    "sigmoid(-100)"
   ]
  },
  {
   "cell_type": "code",
   "execution_count": 49,
   "metadata": {},
   "outputs": [
    {
     "name": "stdout",
     "output_type": "stream",
     "text": [
      "ans = 0\n"
     ]
    }
   ],
   "source": [
    "sigmoid(-1000)"
   ]
  },
  {
   "cell_type": "code",
   "execution_count": 50,
   "metadata": {},
   "outputs": [
    {
     "name": "stdout",
     "output_type": "stream",
     "text": [
      "ans =  0.26894\n"
     ]
    }
   ],
   "source": [
    "sigmoid(-1)"
   ]
  },
  {
   "cell_type": "markdown",
   "metadata": {},
   "source": [
    "## Cost Function..."
   ]
  },
  {
   "cell_type": "markdown",
   "metadata": {},
   "source": [
    "### Non-regularized version with the ```-``` distributed:\n",
    "$J(\\theta) = \\frac{1}{m}\\displaystyle\\sum_{i=1}^{m}\\Bigg[-y^{(i)}log(h_\\theta(x^{(i)})) - (1 - y^{(i)})log(1 - h_\\theta(x^{(i)}))\\Bigg]$\n",
    "\n",
    "### Vectorized:\n",
    "$J(\\theta) = \\frac{1}{m}\\cdot\\Big(-y^T log(h) - (1 - y)^T log(1 - h)\\Big)$"
   ]
  },
  {
   "cell_type": "markdown",
   "metadata": {},
   "source": [
    "## Gradient Descent...\n",
    "\n",
    "### Non-regularized version (same as with linear regression):\n",
    "\n",
    "$\\theta_j := \\theta_j - \\alpha\\frac{1}{m}\\displaystyle\\sum_{i=1}^{m}(h_\\theta(x^{(i)}) - y^{(i)})x^{(i)}_j$\n",
    "\n",
    "### Vectorized:\n",
    "\n",
    "$\\theta_j := \\theta_j - \\frac{\\alpha}{m}X^T(g(X\\theta) - \\overrightarrow{y})$\n",
    "\n",
    "### Non-vectorized partial derivative of $J(\\theta)$ which you use for returning the gradient elements if will be using the ```fminunc``` Octave function (See LogisticRegression (Week 3) notebook under *Advanced Optimization* for more):\n",
    "\n",
    "$\\frac{\\partial J(\\theta)}{\\partial\\theta_j} = \\frac{1}{m}\\displaystyle\\sum_{i=1}^{m}\\Big(h_\\theta(x^{(i)}) - y^{(i)}\\Big)x_j^{(i)}$\n",
    "\n",
    "### Vectorized partial derivative of $J(\\theta)$ which we're using below:\n",
    "\n",
    "$\\nabla J(\\theta) = \\frac{1}{m}\\cdot X^T\\cdot(g(X\\cdot\\theta) - \\overrightarrow{y})$\n",
    "\n"
   ]
  },
  {
   "cell_type": "code",
   "execution_count": 52,
   "metadata": {},
   "outputs": [],
   "source": [
    "function [J, gradient] = costFunction(theta, X, y)\n",
    "   m = length(y); #number of training samples\n",
    "   J = 0;\n",
    "   gradient = zeros(size(theta));\n",
    "   \n",
    "   h = sigmoid(X * theta);\n",
    "   \n",
    "   #vectorized cost function\n",
    "   J = ((-y' * log(h)) - ((1-y)' * log(1-h)))/m;\n",
    "   \n",
    "   #vectorized gradient descent\n",
    "   errors = (h-y);\n",
    "   errorsMatrix = X'*errors;\n",
    "   thetaNew = (1/m)*errorsMatrix;\n",
    "   gradient = thetaNew;\n",
    "\n",
    "end"
   ]
  },
  {
   "cell_type": "markdown",
   "metadata": {},
   "source": [
    "### Debugging..."
   ]
  },
  {
   "cell_type": "code",
   "execution_count": 58,
   "metadata": {},
   "outputs": [
    {
     "name": "stdout",
     "output_type": "stream",
     "text": [
      "errorsMatrix =\n",
      "\n",
      "    -10.000\n",
      "  -1200.922\n",
      "  -1126.284\n",
      "\n",
      "thetaNew =\n",
      "\n",
      "   -0.10000\n",
      "  -12.00922\n",
      "  -11.26284\n",
      "\n"
     ]
    }
   ],
   "source": [
    "h = sigmoid(X * initial_theta);\n",
    "errors = h-y;\n",
    "errorsMatrix = X'*errors;\n",
    "m = length(y);\n",
    "thetaNew = (1/m)*errorsMatrix"
   ]
  },
  {
   "cell_type": "code",
   "execution_count": 8,
   "metadata": {},
   "outputs": [
    {
     "name": "stdout",
     "output_type": "stream",
     "text": [
      "m =  100\n",
      "n =  2\n"
     ]
    }
   ],
   "source": [
    "[m,n] = size(X)"
   ]
  },
  {
   "cell_type": "markdown",
   "metadata": {},
   "source": [
    "### Add a feature for the intercept or $\\theta_0$ feature..."
   ]
  },
  {
   "cell_type": "code",
   "execution_count": 9,
   "metadata": {
    "collapsed": true,
    "jupyter": {
     "outputs_hidden": true
    }
   },
   "outputs": [
    {
     "name": "stdout",
     "output_type": "stream",
     "text": [
      "X =\n",
      "\n",
      "    1.0000   34.6237   78.0247\n",
      "    1.0000   30.2867   43.8950\n",
      "    1.0000   35.8474   72.9022\n",
      "    1.0000   60.1826   86.3086\n",
      "    1.0000   79.0327   75.3444\n",
      "    1.0000   45.0833   56.3164\n",
      "    1.0000   61.1067   96.5114\n",
      "    1.0000   75.0247   46.5540\n",
      "    1.0000   76.0988   87.4206\n",
      "    1.0000   84.4328   43.5334\n",
      "    1.0000   95.8616   38.2253\n",
      "    1.0000   75.0137   30.6033\n",
      "    1.0000   82.3071   76.4820\n",
      "    1.0000   69.3646   97.7187\n",
      "    1.0000   39.5383   76.0368\n",
      "    1.0000   53.9711   89.2074\n",
      "    1.0000   69.0701   52.7405\n",
      "    1.0000   67.9469   46.6786\n",
      "    1.0000   70.6615   92.9271\n",
      "    1.0000   76.9788   47.5760\n",
      "    1.0000   67.3720   42.8384\n",
      "    1.0000   89.6768   65.7994\n",
      "    1.0000   50.5348   48.8558\n",
      "    1.0000   34.2121   44.2095\n",
      "    1.0000   77.9241   68.9724\n",
      "    1.0000   62.2710   69.9545\n",
      "    1.0000   80.1902   44.8216\n",
      "    1.0000   93.1144   38.8007\n",
      "    1.0000   61.8302   50.2561\n",
      "    1.0000   38.7858   64.9957\n",
      "    1.0000   61.3793   72.8079\n",
      "    1.0000   85.4045   57.0520\n",
      "    1.0000   52.1080   63.1276\n",
      "    1.0000   52.0454   69.4329\n",
      "    1.0000   40.2369   71.1677\n",
      "    1.0000   54.6351   52.2139\n",
      "    1.0000   33.9155   98.8694\n",
      "    1.0000   64.1770   80.9081\n",
      "    1.0000   74.7893   41.5734\n",
      "    1.0000   34.1836   75.2377\n",
      "    1.0000   83.9024   56.3080\n",
      "    1.0000   51.5477   46.8563\n",
      "    1.0000   94.4434   65.5689\n",
      "    1.0000   82.3688   40.6183\n",
      "    1.0000   51.0478   45.8227\n",
      "    1.0000   62.2227   52.0610\n",
      "    1.0000   77.1930   70.4582\n",
      "    1.0000   97.7716   86.7278\n",
      "    1.0000   62.0731   96.7688\n",
      "    1.0000   91.5650   88.6963\n",
      "    1.0000   79.9448   74.1631\n",
      "    1.0000   99.2725   60.9990\n",
      "    1.0000   90.5467   43.3906\n",
      "    1.0000   34.5245   60.3963\n",
      "    1.0000   50.2865   49.8045\n",
      "    1.0000   49.5867   59.8090\n",
      "    1.0000   97.6456   68.8616\n",
      "    1.0000   32.5772   95.5985\n",
      "    1.0000   74.2487   69.8246\n",
      "    1.0000   71.7965   78.4536\n",
      "    1.0000   75.3956   85.7599\n",
      "    1.0000   35.2861   47.0205\n",
      "    1.0000   56.2538   39.2615\n",
      "    1.0000   30.0588   49.5930\n",
      "    1.0000   44.6683   66.4501\n",
      "    1.0000   66.5609   41.0921\n",
      "    1.0000   40.4576   97.5352\n",
      "    1.0000   49.0726   51.8832\n",
      "    1.0000   80.2796   92.1161\n",
      "    1.0000   66.7467   60.9914\n",
      "    1.0000   32.7228   43.3072\n",
      "    1.0000   64.0393   78.0317\n",
      "    1.0000   72.3465   96.2276\n",
      "    1.0000   60.4579   73.0950\n",
      "    1.0000   58.8410   75.8584\n",
      "    1.0000   99.8279   72.3693\n",
      "    1.0000   47.2643   88.4759\n",
      "    1.0000   50.4582   75.8099\n",
      "    1.0000   60.4556   42.5084\n",
      "    1.0000   82.2267   42.7199\n",
      "    1.0000   88.9139   69.8038\n",
      "    1.0000   94.8345   45.6943\n",
      "    1.0000   67.3193   66.5894\n",
      "    1.0000   57.2387   59.5143\n",
      "    1.0000   80.3668   90.9601\n",
      "    1.0000   68.4685   85.5943\n",
      "    1.0000   42.0755   78.8448\n",
      "    1.0000   75.4777   90.4245\n",
      "    1.0000   78.6354   96.6474\n",
      "    1.0000   52.3480   60.7695\n",
      "    1.0000   94.0943   77.1591\n",
      "    1.0000   90.4486   87.5088\n",
      "    1.0000   55.4822   35.5707\n",
      "    1.0000   74.4927   84.8451\n",
      "    1.0000   89.8458   45.3583\n",
      "    1.0000   83.4892   48.3803\n",
      "    1.0000   42.2617   87.1039\n",
      "    1.0000   99.3150   68.7754\n",
      "    1.0000   55.3400   64.9319\n",
      "    1.0000   74.7759   89.5298\n",
      "\n"
     ]
    }
   ],
   "source": [
    "X = [ones(m,1) X]"
   ]
  },
  {
   "cell_type": "code",
   "execution_count": 10,
   "metadata": {},
   "outputs": [
    {
     "name": "stdout",
     "output_type": "stream",
     "text": [
      "ans =\n",
      "\n",
      "   3   1\n",
      "\n"
     ]
    }
   ],
   "source": [
    "initial_theta = zeros(n+1,1);\n",
    "size(initial_theta)"
   ]
  },
  {
   "cell_type": "code",
   "execution_count": 11,
   "metadata": {},
   "outputs": [
    {
     "name": "stdout",
     "output_type": "stream",
     "text": [
      "ans =\n",
      "\n",
      "   100     1\n",
      "\n",
      "ans =\n",
      "\n",
      "   100     3\n",
      "\n"
     ]
    }
   ],
   "source": [
    "size(y)\n",
    "size(X)"
   ]
  },
  {
   "cell_type": "code",
   "execution_count": 12,
   "metadata": {},
   "outputs": [],
   "source": [
    "[J, gradient] = costFunction(initial_theta, X, y);"
   ]
  },
  {
   "cell_type": "code",
   "execution_count": 13,
   "metadata": {},
   "outputs": [
    {
     "name": "stdout",
     "output_type": "stream",
     "text": [
      "J =  0.69315\n"
     ]
    }
   ],
   "source": [
    "J"
   ]
  },
  {
   "cell_type": "code",
   "execution_count": 14,
   "metadata": {},
   "outputs": [
    {
     "name": "stdout",
     "output_type": "stream",
     "text": [
      "gradient =\n",
      "\n",
      "   -0.10000\n",
      "  -12.00922\n",
      "  -11.26284\n",
      "\n"
     ]
    }
   ],
   "source": [
    "gradient"
   ]
  },
  {
   "cell_type": "code",
   "execution_count": 47,
   "metadata": {},
   "outputs": [
    {
     "name": "stdout",
     "output_type": "stream",
     "text": [
      "error: 'theta' undefined near line 1 column 1\n"
     ]
    }
   ],
   "source": [
    "theta"
   ]
  },
  {
   "cell_type": "code",
   "execution_count": 48,
   "metadata": {},
   "outputs": [
    {
     "name": "stdout",
     "output_type": "stream",
     "text": [
      "initial_theta =\n",
      "\n",
      "   0\n",
      "   0\n",
      "   0\n",
      "\n"
     ]
    }
   ],
   "source": [
    "initial_theta"
   ]
  },
  {
   "cell_type": "markdown",
   "metadata": {},
   "source": [
    "## Call ```fminunc``` (again, see Logistic Regression Week 3 Notebook under ***Advanced Optimization*** or ex2.pdf for more)..."
   ]
  },
  {
   "cell_type": "code",
   "execution_count": 15,
   "metadata": {},
   "outputs": [],
   "source": [
    "options = optimset('GradObj','on','MaxIter',400);\n",
    "[theta,cost] = fminunc(@(t) (costFunction(t,X,y)),initial_theta,options);"
   ]
  },
  {
   "cell_type": "code",
   "execution_count": 16,
   "metadata": {},
   "outputs": [
    {
     "name": "stdout",
     "output_type": "stream",
     "text": [
      "cost =  0.20350\n"
     ]
    }
   ],
   "source": [
    "cost"
   ]
  },
  {
   "cell_type": "code",
   "execution_count": 17,
   "metadata": {},
   "outputs": [
    {
     "name": "stdout",
     "output_type": "stream",
     "text": [
      "theta =\n",
      "\n",
      "  -25.16127\n",
      "    0.20623\n",
      "    0.20147\n",
      "\n"
     ]
    }
   ],
   "source": [
    "theta"
   ]
  },
  {
   "cell_type": "markdown",
   "metadata": {},
   "source": [
    "### Use the optimal theta to get the logistic distribution probability of a student being admitted using a test observation.  See these links:\n",
    "\n",
    "https://www.coursera.org/learn/machine-learning/discussions/weeks/3/threads/poUNvD1-EeakuhJbRt69hQ\n",
    "\n",
    "https://math.stackexchange.com/questions/320310/is-the-sigmoid-function-a-probability-distribution\n",
    "\n",
    "https://en.wikipedia.org/wiki/Logistic_distribution"
   ]
  },
  {
   "cell_type": "code",
   "execution_count": 2,
   "metadata": {},
   "outputs": [
    {
     "name": "stdout",
     "output_type": "stream",
     "text": [
      "error: 'theta' undefined near line 1 column 34\n",
      "error: evaluating argument list element number 1\n"
     ]
    }
   ],
   "source": [
    "x = [1 45 85];\n",
    "logistic_probability = sigmoid(x*theta)"
   ]
  },
  {
   "cell_type": "markdown",
   "metadata": {},
   "source": [
    "### The logistic distribution probability of a student getting admitted to the university with these exam grades is 77.6%"
   ]
  },
  {
   "cell_type": "markdown",
   "metadata": {},
   "source": [
    "TODO:  \n",
    "\n",
    "$\\sqrt{}{}$ Review plotDecisionBoundary.m for how the decision boundary is plotted\n",
    "\n",
    "$\\sqrt{}{}$ How do they compute the +/- error of .002 as shown in ex2.m? They didn't, they chose it because of the difference in results between Octave/MATLAB 😎, according to this post: \n",
    "\n",
    "https://www.coursera.org/learn/machine-learning/discussions/all/threads/PauoPcmkEemoRBJ2Jg_D_A\n"
   ]
  },
  {
   "cell_type": "markdown",
   "metadata": {},
   "source": [
    "### Plot the Decistion Boundary.  See this post for an explanation:\n",
    "https://www.coursera.org/learn/machine-learning/discussions/weeks/3/threads/HAEss7C7EeWoGg6ulZMPEw"
   ]
  },
  {
   "cell_type": "code",
   "execution_count": 19,
   "metadata": {},
   "outputs": [],
   "source": [
    "function plotDecisionBoundary(theta, X, y)\n",
    "   plotData(X(:,2:3),y);\n",
    "   hold on;\n",
    "   if size(X,2) <= 3\n",
    "      plot_x = [min(X(:,2))-2, max(X(:,2))+2];\n",
    "      plot_y = (-1./theta(3)).*(theta(2).*plot_x + theta(1));\n",
    "      plot(plot_x,plot_y)\n",
    "      legend('Admitted','Not admitted','Decision Boundary')\n",
    "      axis([30,100,30,100]) #basically zooms in on the data to link the boundary to the respective axes\n",
    "   end\n",
    "   hold off\n",
    "end"
   ]
  },
  {
   "cell_type": "code",
   "execution_count": 20,
   "metadata": {},
   "outputs": [
    {
     "data": {
      "image/png": "[encoded data removed]",
      "text/plain": [
       "<IPython.core.display.Image object>"
      ]
     },
     "metadata": {},
     "output_type": "display_data"
    }
   ],
   "source": [
    "plotDecisionBoundary(theta, X, y)"
   ]
  },
  {
   "cell_type": "markdown",
   "metadata": {},
   "source": [
    "## Predictions..."
   ]
  },
  {
   "cell_type": "markdown",
   "metadata": {},
   "source": [
    "### Predict the '''y''' classifications for the entire dataset..."
   ]
  },
  {
   "cell_type": "code",
   "execution_count": 21,
   "metadata": {},
   "outputs": [],
   "source": [
    "function predictions = predict(theta,X)\n",
    "\n",
    "   m = size(X,1);\n",
    "   predictions = zeros(m,1);\n",
    "   \n",
    "   probabilities = sigmoid(X*theta);\n",
    "   for i=1:m\n",
    "      if probabilities(i) >= .5\n",
    "         predictions(i) = 1;\n",
    "      else\n",
    "         predictions(i) = 0;\n",
    "      end\n",
    "   end\n",
    "\n",
    "end"
   ]
  },
  {
   "cell_type": "code",
   "execution_count": 22,
   "metadata": {},
   "outputs": [],
   "source": [
    "predictions = predict(theta,X);"
   ]
  },
  {
   "cell_type": "code",
   "execution_count": 23,
   "metadata": {},
   "outputs": [
    {
     "name": "stdout",
     "output_type": "stream",
     "text": [
      "X_prime =\n",
      "\n",
      "    1.00000   34.62366   78.02469    0.00000    0.00000\n",
      "    1.00000   30.28671   43.89500    0.00000    0.00000\n",
      "    1.00000   35.84741   72.90220    0.00000    0.00000\n",
      "    1.00000   60.18260   86.30855    1.00000    1.00000\n",
      "    1.00000   79.03274   75.34438    1.00000    1.00000\n",
      "    1.00000   45.08328   56.31637    0.00000    0.00000\n",
      "    1.00000   61.10666   96.51143    1.00000    1.00000\n",
      "    1.00000   75.02475   46.55401    0.00000    1.00000\n",
      "    1.00000   76.09879   87.42057    1.00000    1.00000\n",
      "    1.00000   84.43282   43.53339    1.00000    1.00000\n",
      "    1.00000   95.86156   38.22528    1.00000    0.00000\n",
      "    1.00000   75.01366   30.60326    0.00000    0.00000\n",
      "    1.00000   82.30705   76.48196    1.00000    1.00000\n",
      "    1.00000   69.36459   97.71869    1.00000    1.00000\n",
      "    1.00000   39.53834   76.03681    0.00000    0.00000\n",
      "    1.00000   53.97105   89.20735    1.00000    1.00000\n",
      "    1.00000   69.07014   52.74047    0.00000    1.00000\n",
      "    1.00000   67.94686   46.67857    0.00000    0.00000\n",
      "    1.00000   70.66151   92.92714    1.00000    1.00000\n",
      "    1.00000   76.97878   47.57596    1.00000    1.00000\n",
      "    1.00000   67.37203   42.83844    0.00000    0.00000\n",
      "    1.00000   89.67678   65.79937    1.00000    1.00000\n",
      "    1.00000   50.53479   48.85581    0.00000    0.00000\n",
      "    1.00000   34.21206   44.20953    0.00000    0.00000\n",
      "    1.00000   77.92409   68.97236    1.00000    1.00000\n",
      "    1.00000   62.27101   69.95446    1.00000    1.00000\n",
      "    1.00000   80.19018   44.82163    1.00000    1.00000\n",
      "    1.00000   93.11439   38.80067    1.00000    0.00000\n",
      "    1.00000   61.83021   50.25611    0.00000    0.00000\n",
      "    1.00000   38.78580   64.99568    0.00000    0.00000\n",
      "    1.00000   61.37929   72.80789    1.00000    1.00000\n",
      "    1.00000   85.40452   57.05198    1.00000    1.00000\n",
      "    1.00000   52.10798   63.12762    0.00000    0.00000\n",
      "    1.00000   52.04540   69.43286    0.00000    1.00000\n",
      "    1.00000   40.23689   71.16775    0.00000    0.00000\n",
      "    1.00000   54.63511   52.21389    0.00000    0.00000\n",
      "    1.00000   33.91550   98.86944    1.00000    0.00000\n",
      "    1.00000   64.17699   80.90806    1.00000    1.00000\n",
      "    1.00000   74.78925   41.57342    0.00000    0.00000\n",
      "    1.00000   34.18364   75.23772    0.00000    0.00000\n",
      "    1.00000   83.90239   56.30805    1.00000    1.00000\n",
      "    1.00000   51.54772   46.85629    0.00000    0.00000\n",
      "    1.00000   94.44337   65.56892    1.00000    1.00000\n",
      "    1.00000   82.36875   40.61826    1.00000    0.00000\n",
      "    1.00000   51.04775   45.82270    0.00000    0.00000\n",
      "    1.00000   62.22268   52.06099    0.00000    0.00000\n",
      "    1.00000   77.19303   70.45820    1.00000    1.00000\n",
      "    1.00000   97.77160   86.72782    1.00000    1.00000\n",
      "    1.00000   62.07306   96.76882    1.00000    1.00000\n",
      "    1.00000   91.56497   88.69629    1.00000    1.00000\n",
      "    1.00000   79.94482   74.16312    1.00000    1.00000\n",
      "    1.00000   99.27253   60.99903    1.00000    1.00000\n",
      "    1.00000   90.54671   43.39060    1.00000    1.00000\n",
      "    1.00000   34.52451   60.39634    0.00000    0.00000\n",
      "    1.00000   50.28650   49.80454    0.00000    0.00000\n",
      "    1.00000   49.58668   59.80895    0.00000    0.00000\n",
      "    1.00000   97.64563   68.86157    1.00000    1.00000\n",
      "    1.00000   32.57720   95.59855    1.00000    0.00000\n",
      "    1.00000   74.24869   69.82457    1.00000    1.00000\n",
      "    1.00000   71.79646   78.45356    1.00000    1.00000\n",
      "    1.00000   75.39561   85.75994    1.00000    1.00000\n",
      "    1.00000   35.28611   47.02051    0.00000    0.00000\n",
      "    1.00000   56.25382   39.26147    0.00000    0.00000\n",
      "    1.00000   30.05882   49.59297    0.00000    0.00000\n",
      "    1.00000   44.66826   66.45009    0.00000    0.00000\n",
      "    1.00000   66.56089   41.09210    0.00000    0.00000\n",
      "    1.00000   40.45755   97.53519    1.00000    1.00000\n",
      "    1.00000   49.07256   51.88321    0.00000    0.00000\n",
      "    1.00000   80.27957   92.11606    1.00000    1.00000\n",
      "    1.00000   66.74672   60.99139    1.00000    1.00000\n",
      "    1.00000   32.72283   43.30717    0.00000    0.00000\n",
      "    1.00000   64.03932   78.03169    1.00000    1.00000\n",
      "    1.00000   72.34649   96.22759    1.00000    1.00000\n",
      "    1.00000   60.45789   73.09500    1.00000    1.00000\n",
      "    1.00000   58.84096   75.85845    1.00000    1.00000\n",
      "    1.00000   99.82786   72.36925    1.00000    1.00000\n",
      "    1.00000   47.26427   88.47586    1.00000    1.00000\n",
      "    1.00000   50.45816   75.80986    1.00000    1.00000\n",
      "    1.00000   60.45556   42.50841    0.00000    0.00000\n",
      "    1.00000   82.22666   42.71988    1.00000    0.00000\n",
      "    1.00000   88.91390   69.80379    1.00000    1.00000\n",
      "    1.00000   94.83451   45.69431    1.00000    1.00000\n",
      "    1.00000   67.31926   66.58935    1.00000    1.00000\n",
      "    1.00000   57.23871   59.51428    0.00000    1.00000\n",
      "    1.00000   80.36676   90.96015    1.00000    1.00000\n",
      "    1.00000   68.46852   85.59431    1.00000    1.00000\n",
      "    1.00000   42.07545   78.84479    0.00000    0.00000\n",
      "    1.00000   75.47770   90.42454    1.00000    1.00000\n",
      "    1.00000   78.63542   96.64743    1.00000    1.00000\n",
      "    1.00000   52.34800   60.76951    0.00000    0.00000\n",
      "    1.00000   94.09433   77.15911    1.00000    1.00000\n",
      "    1.00000   90.44855   87.50879    1.00000    1.00000\n",
      "    1.00000   55.48216   35.57070    0.00000    0.00000\n",
      "    1.00000   74.49269   84.84514    1.00000    1.00000\n",
      "    1.00000   89.84581   45.35828    1.00000    1.00000\n",
      "    1.00000   83.48916   48.38029    1.00000    1.00000\n",
      "    1.00000   42.26170   87.10385    1.00000    1.00000\n",
      "    1.00000   99.31501   68.77541    1.00000    1.00000\n",
      "    1.00000   55.34002   64.93194    0.00000    1.00000\n",
      "    1.00000   74.77589   89.52981    1.00000    1.00000\n",
      "\n"
     ]
    }
   ],
   "source": [
    "X_prime = [X predictions y] %predictions are the 4th column and actual y values are the 5th"
   ]
  },
  {
   "cell_type": "code",
   "execution_count": 24,
   "metadata": {
    "collapsed": true,
    "jupyter": {
     "outputs_hidden": true
    }
   },
   "outputs": [
    {
     "name": "stdout",
     "output_type": "stream",
     "text": [
      "ans =\n",
      "\n",
      "   34.624\n",
      "   30.287\n",
      "   35.847\n",
      "   60.183\n",
      "   79.033\n",
      "   45.083\n",
      "   61.107\n",
      "   75.025\n",
      "   76.099\n",
      "   84.433\n",
      "   95.862\n",
      "   75.014\n",
      "   82.307\n",
      "   69.365\n",
      "   39.538\n",
      "   53.971\n",
      "   69.070\n",
      "   67.947\n",
      "   70.662\n",
      "   76.979\n",
      "   67.372\n",
      "   89.677\n",
      "   50.535\n",
      "   34.212\n",
      "   77.924\n",
      "   62.271\n",
      "   80.190\n",
      "   93.114\n",
      "   61.830\n",
      "   38.786\n",
      "   61.379\n",
      "   85.405\n",
      "   52.108\n",
      "   52.045\n",
      "   40.237\n",
      "   54.635\n",
      "   33.916\n",
      "   64.177\n",
      "   74.789\n",
      "   34.184\n",
      "   83.902\n",
      "   51.548\n",
      "   94.443\n",
      "   82.369\n",
      "   51.048\n",
      "   62.223\n",
      "   77.193\n",
      "   97.772\n",
      "   62.073\n",
      "   91.565\n",
      "   79.945\n",
      "   99.273\n",
      "   90.547\n",
      "   34.525\n",
      "   50.286\n",
      "   49.587\n",
      "   97.646\n",
      "   32.577\n",
      "   74.249\n",
      "   71.796\n",
      "   75.396\n",
      "   35.286\n",
      "   56.254\n",
      "   30.059\n",
      "   44.668\n",
      "   66.561\n",
      "   40.458\n",
      "   49.073\n",
      "   80.280\n",
      "   66.747\n",
      "   32.723\n",
      "   64.039\n",
      "   72.346\n",
      "   60.458\n",
      "   58.841\n",
      "   99.828\n",
      "   47.264\n",
      "   50.458\n",
      "   60.456\n",
      "   82.227\n",
      "   88.914\n",
      "   94.835\n",
      "   67.319\n",
      "   57.239\n",
      "   80.367\n",
      "   68.469\n",
      "   42.075\n",
      "   75.478\n",
      "   78.635\n",
      "   52.348\n",
      "   94.094\n",
      "   90.449\n",
      "   55.482\n",
      "   74.493\n",
      "   89.846\n",
      "   83.489\n",
      "   42.262\n",
      "   99.315\n",
      "   55.340\n",
      "   74.776\n",
      "\n"
     ]
    }
   ],
   "source": [
    "X_prime(:,2)"
   ]
  },
  {
   "cell_type": "code",
   "execution_count": 25,
   "metadata": {},
   "outputs": [
    {
     "name": "stdout",
     "output_type": "stream",
     "text": [
      "ans =\n",
      "\n",
      "   100     5\n",
      "\n"
     ]
    }
   ],
   "source": [
    "size(X_prime)"
   ]
  },
  {
   "cell_type": "code",
   "execution_count": 26,
   "metadata": {},
   "outputs": [
    {
     "name": "stdout",
     "output_type": "stream",
     "text": [
      "discrepancies =\n",
      "\n",
      "    8\n",
      "   11\n",
      "   17\n",
      "   28\n",
      "   34\n",
      "   37\n",
      "   44\n",
      "   58\n",
      "   80\n",
      "   84\n",
      "   99\n",
      "\n"
     ]
    }
   ],
   "source": [
    "discrepancies = find(X_prime(:,4)!=X_prime(:,5))"
   ]
  },
  {
   "cell_type": "code",
   "execution_count": 27,
   "metadata": {},
   "outputs": [
    {
     "name": "stdout",
     "output_type": "stream",
     "text": [
      "ans =\n",
      "\n",
      "   11    1\n",
      "\n"
     ]
    }
   ],
   "source": [
    "size(discrepancies)"
   ]
  },
  {
   "cell_type": "code",
   "execution_count": 28,
   "metadata": {},
   "outputs": [
    {
     "name": "stdout",
     "output_type": "stream",
     "text": [
      "ans =\n",
      "\n",
      "   1   1\n",
      "   1   0\n",
      "   1   1\n",
      "   1   0\n",
      "   1   1\n",
      "   1   0\n",
      "   1   0\n",
      "   1   0\n",
      "   1   0\n",
      "   1   1\n",
      "   1   1\n",
      "\n"
     ]
    }
   ],
   "source": [
    "X_prime(discrepancies,[1 5])"
   ]
  },
  {
   "cell_type": "code",
   "execution_count": 29,
   "metadata": {},
   "outputs": [
    {
     "name": "stdout",
     "output_type": "stream",
     "text": [
      "X_discrep =\n",
      "\n",
      "    1.0000   75.0247   46.5540\n",
      "    1.0000   95.8616   38.2253\n",
      "    1.0000   69.0701   52.7405\n",
      "    1.0000   93.1144   38.8007\n",
      "    1.0000   52.0454   69.4329\n",
      "    1.0000   33.9155   98.8694\n",
      "    1.0000   82.3688   40.6183\n",
      "    1.0000   32.5772   95.5985\n",
      "    1.0000   82.2267   42.7199\n",
      "    1.0000   57.2387   59.5143\n",
      "    1.0000   55.3400   64.9319\n",
      "\n"
     ]
    }
   ],
   "source": [
    "X_discrep = X(discrepancies,[1 2 3])"
   ]
  },
  {
   "cell_type": "code",
   "execution_count": 30,
   "metadata": {},
   "outputs": [
    {
     "name": "stdout",
     "output_type": "stream",
     "text": [
      "ans =  3\n"
     ]
    }
   ],
   "source": [
    "size(X_discrep,2)"
   ]
  },
  {
   "cell_type": "code",
   "execution_count": 31,
   "metadata": {},
   "outputs": [
    {
     "name": "stdout",
     "output_type": "stream",
     "text": [
      "ans =\n",
      "\n",
      "   100     1\n",
      "\n"
     ]
    }
   ],
   "source": [
    "size(y)"
   ]
  },
  {
   "cell_type": "code",
   "execution_count": 32,
   "metadata": {},
   "outputs": [
    {
     "name": "stdout",
     "output_type": "stream",
     "text": [
      "y_discrep =\n",
      "\n",
      "   1\n",
      "   0\n",
      "   1\n",
      "   0\n",
      "   1\n",
      "   0\n",
      "   0\n",
      "   0\n",
      "   0\n",
      "   1\n",
      "   1\n",
      "\n"
     ]
    }
   ],
   "source": [
    "y_discrep = y(discrepancies,[1])"
   ]
  },
  {
   "cell_type": "code",
   "execution_count": 33,
   "metadata": {},
   "outputs": [
    {
     "name": "stdout",
     "output_type": "stream",
     "text": [
      "ans =  11\n",
      "ans =  11\n"
     ]
    }
   ],
   "source": [
    "size(X_discrep,1)\n",
    "size(y_discrep,1)"
   ]
  },
  {
   "cell_type": "markdown",
   "metadata": {},
   "source": [
    "## Plot the scores and their actual admittance status from the ones we disagree on..."
   ]
  },
  {
   "cell_type": "code",
   "execution_count": 34,
   "metadata": {},
   "outputs": [
    {
     "data": {
      "image/png": "[encoded data removed]",
      "text/plain": [
       "<IPython.core.display.Image object>"
      ]
     },
     "metadata": {},
     "output_type": "display_data"
    }
   ],
   "source": [
    "plotDecisionBoundary(theta,X_discrep,y_discrep)"
   ]
  },
  {
   "cell_type": "markdown",
   "metadata": {},
   "source": [
    "## Plot the actuals and what we think their admittance status should be (should be the opposite status)..."
   ]
  },
  {
   "cell_type": "code",
   "execution_count": 40,
   "metadata": {},
   "outputs": [
    {
     "name": "stdout",
     "output_type": "stream",
     "text": [
      "X_prime_predictions =\n",
      "\n",
      "   0\n",
      "   1\n",
      "   0\n",
      "   1\n",
      "   0\n",
      "   1\n",
      "   1\n",
      "   1\n",
      "   1\n",
      "   0\n",
      "   0\n",
      "\n"
     ]
    }
   ],
   "source": [
    "X_prime_predictions = X_prime(discrepancies,[4])"
   ]
  },
  {
   "cell_type": "code",
   "execution_count": 41,
   "metadata": {},
   "outputs": [
    {
     "data": {
      "image/png": "[encoded data removed]",
      "text/plain": [
       "<IPython.core.display.Image object>"
      ]
     },
     "metadata": {},
     "output_type": "display_data"
    }
   ],
   "source": [
    "plotDecisionBoundary(theta,X_discrep,X_prime_predictions)"
   ]
  },
  {
   "cell_type": "markdown",
   "metadata": {},
   "source": [
    "## As expected, these are the opposite classification.  Also, these are all relatively close to the decision boundary, so it makes some sense that these would be where we disagree."
   ]
  },
  {
   "cell_type": "markdown",
   "metadata": {},
   "source": [
    "## Regularization..."
   ]
  },
  {
   "cell_type": "markdown",
   "metadata": {},
   "source": [
    "### Visualize the microchip dataset..."
   ]
  },
  {
   "cell_type": "code",
   "execution_count": 43,
   "metadata": {
    "collapsed": true,
    "jupyter": {
     "outputs_hidden": true
    }
   },
   "outputs": [
    {
     "name": "stdout",
     "output_type": "stream",
     "text": [
      "microchip_data =\n",
      "\n",
      "   0.05127   0.69956   1.00000\n",
      "  -0.09274   0.68494   1.00000\n",
      "  -0.21371   0.69225   1.00000\n",
      "  -0.37500   0.50219   1.00000\n",
      "  -0.51325   0.46564   1.00000\n",
      "  -0.52477   0.20980   1.00000\n",
      "  -0.39804   0.03436   1.00000\n",
      "  -0.30588  -0.19225   1.00000\n",
      "   0.01671  -0.40424   1.00000\n",
      "   0.13191  -0.51389   1.00000\n",
      "   0.38537  -0.56506   1.00000\n",
      "   0.52938  -0.52120   1.00000\n",
      "   0.63882  -0.24342   1.00000\n",
      "   0.73675  -0.18494   1.00000\n",
      "   0.54666   0.48757   1.00000\n",
      "   0.32200   0.58260   1.00000\n",
      "   0.16647   0.53874   1.00000\n",
      "  -0.04666   0.81652   1.00000\n",
      "  -0.17339   0.69956   1.00000\n",
      "  -0.47869   0.63377   1.00000\n",
      "  -0.60541   0.59722   1.00000\n",
      "  -0.62846   0.33406   1.00000\n",
      "  -0.59389   0.00512   1.00000\n",
      "  -0.42108  -0.27266   1.00000\n",
      "  -0.11578  -0.39693   1.00000\n",
      "   0.20104  -0.60161   1.00000\n",
      "   0.46601  -0.53582   1.00000\n",
      "   0.67339  -0.53582   1.00000\n",
      "  -0.13882   0.54605   1.00000\n",
      "  -0.29435   0.77997   1.00000\n",
      "  -0.26555   0.96272   1.00000\n",
      "  -0.16187   0.80190   1.00000\n",
      "  -0.17339   0.64839   1.00000\n",
      "  -0.28283   0.47295   1.00000\n",
      "  -0.36348   0.31213   1.00000\n",
      "  -0.30012   0.02705   1.00000\n",
      "  -0.23675  -0.21418   1.00000\n",
      "  -0.06394  -0.18494   1.00000\n",
      "   0.06279  -0.16301   1.00000\n",
      "   0.22984  -0.41155   1.00000\n",
      "   0.29320  -0.22880   1.00000\n",
      "   0.48329  -0.18494   1.00000\n",
      "   0.64459  -0.14108   1.00000\n",
      "   0.46025   0.01243   1.00000\n",
      "   0.62730   0.15863   1.00000\n",
      "   0.57546   0.26827   1.00000\n",
      "   0.72523   0.44371   1.00000\n",
      "   0.22408   0.52412   1.00000\n",
      "   0.44297   0.67032   1.00000\n",
      "   0.32200   0.69225   1.00000\n",
      "   0.13767   0.57529   1.00000\n",
      "  -0.00634   0.39985   1.00000\n",
      "  -0.09274   0.55336   1.00000\n",
      "  -0.20795   0.35599   1.00000\n",
      "  -0.20795   0.17325   1.00000\n",
      "  -0.43836   0.21711   1.00000\n",
      "  -0.21947  -0.01681   1.00000\n",
      "  -0.13882  -0.27266   1.00000\n",
      "   0.18376   0.93348   0.00000\n",
      "   0.22408   0.77997   0.00000\n",
      "   0.29896   0.61915   0.00000\n",
      "   0.50634   0.75804   0.00000\n",
      "   0.61578   0.72880   0.00000\n",
      "   0.60426   0.59722   0.00000\n",
      "   0.76555   0.50219   0.00000\n",
      "   0.92684   0.36330   0.00000\n",
      "   0.82316   0.27558   0.00000\n",
      "   0.96141   0.08553   0.00000\n",
      "   0.93836   0.01243   0.00000\n",
      "   0.86348  -0.08260   0.00000\n",
      "   0.89804  -0.20687   0.00000\n",
      "   0.85196  -0.36769   0.00000\n",
      "   0.82892  -0.52120   0.00000\n",
      "   0.79435  -0.55775   0.00000\n",
      "   0.59274  -0.74050   0.00000\n",
      "   0.51786  -0.59430   0.00000\n",
      "   0.46601  -0.41886   0.00000\n",
      "   0.35081  -0.57968   0.00000\n",
      "   0.28744  -0.76974   0.00000\n",
      "   0.08583  -0.75512   0.00000\n",
      "   0.14919  -0.57968   0.00000\n",
      "  -0.13306  -0.44810   0.00000\n",
      "  -0.40956  -0.41155   0.00000\n",
      "  -0.39228  -0.25804   0.00000\n",
      "  -0.74366  -0.25804   0.00000\n",
      "  -0.69758   0.04167   0.00000\n",
      "  -0.75518   0.29020   0.00000\n",
      "  -0.69758   0.68494   0.00000\n",
      "  -0.40380   0.70687   0.00000\n",
      "  -0.38076   0.91886   0.00000\n",
      "  -0.50749   0.90424   0.00000\n",
      "  -0.54781   0.70687   0.00000\n",
      "   0.10311   0.77997   0.00000\n",
      "   0.05703   0.91886   0.00000\n",
      "  -0.10426   0.99196   0.00000\n",
      "  -0.08122   1.10890   0.00000\n",
      "   0.28744   1.08700   0.00000\n",
      "   0.39689   0.82383   0.00000\n",
      "   0.63882   0.88962   0.00000\n",
      "   0.82316   0.66301   0.00000\n",
      "   0.67339   0.64108   0.00000\n",
      "   1.07090   0.10015   0.00000\n",
      "  -0.04666  -0.57968   0.00000\n",
      "  -0.23675  -0.63816   0.00000\n",
      "  -0.15035  -0.36769   0.00000\n",
      "  -0.49021  -0.30190   0.00000\n",
      "  -0.46717  -0.13377   0.00000\n",
      "  -0.28859  -0.06067   0.00000\n",
      "  -0.61118  -0.06798   0.00000\n",
      "  -0.66302  -0.21418   0.00000\n",
      "  -0.59965  -0.41886   0.00000\n",
      "  -0.72638  -0.08260   0.00000\n",
      "  -0.83007   0.31213   0.00000\n",
      "  -0.72062   0.53874   0.00000\n",
      "  -0.59389   0.49488   0.00000\n",
      "  -0.48445   0.99927   0.00000\n",
      "  -0.00634   0.99927   0.00000\n",
      "   0.63265  -0.03061   0.00000\n",
      "\n"
     ]
    }
   ],
   "source": [
    "microchip_data = load('ex2data2.txt')"
   ]
  },
  {
   "cell_type": "code",
   "execution_count": 45,
   "metadata": {
    "collapsed": true,
    "jupyter": {
     "outputs_hidden": true
    }
   },
   "outputs": [
    {
     "name": "stdout",
     "output_type": "stream",
     "text": [
      "X_microchip =\n",
      "\n",
      "   0.0512670   0.6995600\n",
      "  -0.0927420   0.6849400\n",
      "  -0.2137100   0.6922500\n",
      "  -0.3750000   0.5021900\n",
      "  -0.5132500   0.4656400\n",
      "  -0.5247700   0.2098000\n",
      "  -0.3980400   0.0343570\n",
      "  -0.3058800  -0.1922500\n",
      "   0.0167050  -0.4042400\n",
      "   0.1319100  -0.5138900\n",
      "   0.3853700  -0.5650600\n",
      "   0.5293800  -0.5212000\n",
      "   0.6388200  -0.2434200\n",
      "   0.7367500  -0.1849400\n",
      "   0.5466600   0.4875700\n",
      "   0.3220000   0.5826000\n",
      "   0.1664700   0.5387400\n",
      "  -0.0466590   0.8165200\n",
      "  -0.1733900   0.6995600\n",
      "  -0.4786900   0.6337700\n",
      "  -0.6054100   0.5972200\n",
      "  -0.6284600   0.3340600\n",
      "  -0.5938900   0.0051170\n",
      "  -0.4210800  -0.2726600\n",
      "  -0.1157800  -0.3969300\n",
      "   0.2010400  -0.6016100\n",
      "   0.4660100  -0.5358200\n",
      "   0.6733900  -0.5358200\n",
      "  -0.1388200   0.5460500\n",
      "  -0.2943500   0.7799700\n",
      "  -0.2655500   0.9627200\n",
      "  -0.1618700   0.8019000\n",
      "  -0.1733900   0.6483900\n",
      "  -0.2828300   0.4729500\n",
      "  -0.3634800   0.3121300\n",
      "  -0.3001200   0.0270470\n",
      "  -0.2367500  -0.2141800\n",
      "  -0.0639400  -0.1849400\n",
      "   0.0627880  -0.1630100\n",
      "   0.2298400  -0.4115500\n",
      "   0.2932000  -0.2288000\n",
      "   0.4832900  -0.1849400\n",
      "   0.6445900  -0.1410800\n",
      "   0.4602500   0.0124270\n",
      "   0.6273000   0.1586300\n",
      "   0.5754600   0.2682700\n",
      "   0.7252300   0.4437100\n",
      "   0.2240800   0.5241200\n",
      "   0.4429700   0.6703200\n",
      "   0.3220000   0.6922500\n",
      "   0.1376700   0.5752900\n",
      "  -0.0063364   0.3998500\n",
      "  -0.0927420   0.5533600\n",
      "  -0.2079500   0.3559900\n",
      "  -0.2079500   0.1732500\n",
      "  -0.4383600   0.2171100\n",
      "  -0.2194700  -0.0168130\n",
      "  -0.1388200  -0.2726600\n",
      "   0.1837600   0.9334800\n",
      "   0.2240800   0.7799700\n",
      "   0.2989600   0.6191500\n",
      "   0.5063400   0.7580400\n",
      "   0.6157800   0.7288000\n",
      "   0.6042600   0.5972200\n",
      "   0.7655500   0.5021900\n",
      "   0.9268400   0.3633000\n",
      "   0.8231600   0.2755800\n",
      "   0.9614100   0.0855260\n",
      "   0.9383600   0.0124270\n",
      "   0.8634800  -0.0826020\n",
      "   0.8980400  -0.2068700\n",
      "   0.8519600  -0.3676900\n",
      "   0.8289200  -0.5212000\n",
      "   0.7943500  -0.5577500\n",
      "   0.5927400  -0.7405000\n",
      "   0.5178600  -0.5943000\n",
      "   0.4660100  -0.4188600\n",
      "   0.3508100  -0.5796800\n",
      "   0.2874400  -0.7697400\n",
      "   0.0858290  -0.7551200\n",
      "   0.1491900  -0.5796800\n",
      "  -0.1330600  -0.4481000\n",
      "  -0.4095600  -0.4115500\n",
      "  -0.3922800  -0.2580400\n",
      "  -0.7436600  -0.2580400\n",
      "  -0.6975800   0.0416670\n",
      "  -0.7551800   0.2902000\n",
      "  -0.6975800   0.6849400\n",
      "  -0.4038000   0.7068700\n",
      "  -0.3807600   0.9188600\n",
      "  -0.5074900   0.9042400\n",
      "  -0.5478100   0.7068700\n",
      "   0.1031100   0.7799700\n",
      "   0.0570280   0.9188600\n",
      "  -0.1042600   0.9919600\n",
      "  -0.0812210   1.1089000\n",
      "   0.2874400   1.0870000\n",
      "   0.3968900   0.8238300\n",
      "   0.6388200   0.8896200\n",
      "   0.8231600   0.6630100\n",
      "   0.6733900   0.6410800\n",
      "   1.0709000   0.1001500\n",
      "  -0.0466590  -0.5796800\n",
      "  -0.2367500  -0.6381600\n",
      "  -0.1503500  -0.3676900\n",
      "  -0.4902100  -0.3019000\n",
      "  -0.4671700  -0.1337700\n",
      "  -0.2885900  -0.0606730\n",
      "  -0.6111800  -0.0679820\n",
      "  -0.6630200  -0.2141800\n",
      "  -0.5996500  -0.4188600\n",
      "  -0.7263800  -0.0826020\n",
      "  -0.8300700   0.3121300\n",
      "  -0.7206200   0.5387400\n",
      "  -0.5938900   0.4948800\n",
      "  -0.4844500   0.9992700\n",
      "  -0.0063364   0.9992700\n",
      "   0.6326500  -0.0306120\n",
      "\n"
     ]
    }
   ],
   "source": [
    "X_microchip = microchip_data(:,[1 2])"
   ]
  },
  {
   "cell_type": "code",
   "execution_count": 48,
   "metadata": {
    "collapsed": true,
    "jupyter": {
     "outputs_hidden": true
    }
   },
   "outputs": [
    {
     "name": "stdout",
     "output_type": "stream",
     "text": [
      "y_microchip =\n",
      "\n",
      "   1\n",
      "   1\n",
      "   1\n",
      "   1\n",
      "   1\n",
      "   1\n",
      "   1\n",
      "   1\n",
      "   1\n",
      "   1\n",
      "   1\n",
      "   1\n",
      "   1\n",
      "   1\n",
      "   1\n",
      "   1\n",
      "   1\n",
      "   1\n",
      "   1\n",
      "   1\n",
      "   1\n",
      "   1\n",
      "   1\n",
      "   1\n",
      "   1\n",
      "   1\n",
      "   1\n",
      "   1\n",
      "   1\n",
      "   1\n",
      "   1\n",
      "   1\n",
      "   1\n",
      "   1\n",
      "   1\n",
      "   1\n",
      "   1\n",
      "   1\n",
      "   1\n",
      "   1\n",
      "   1\n",
      "   1\n",
      "   1\n",
      "   1\n",
      "   1\n",
      "   1\n",
      "   1\n",
      "   1\n",
      "   1\n",
      "   1\n",
      "   1\n",
      "   1\n",
      "   1\n",
      "   1\n",
      "   1\n",
      "   1\n",
      "   1\n",
      "   1\n",
      "   0\n",
      "   0\n",
      "   0\n",
      "   0\n",
      "   0\n",
      "   0\n",
      "   0\n",
      "   0\n",
      "   0\n",
      "   0\n",
      "   0\n",
      "   0\n",
      "   0\n",
      "   0\n",
      "   0\n",
      "   0\n",
      "   0\n",
      "   0\n",
      "   0\n",
      "   0\n",
      "   0\n",
      "   0\n",
      "   0\n",
      "   0\n",
      "   0\n",
      "   0\n",
      "   0\n",
      "   0\n",
      "   0\n",
      "   0\n",
      "   0\n",
      "   0\n",
      "   0\n",
      "   0\n",
      "   0\n",
      "   0\n",
      "   0\n",
      "   0\n",
      "   0\n",
      "   0\n",
      "   0\n",
      "   0\n",
      "   0\n",
      "   0\n",
      "   0\n",
      "   0\n",
      "   0\n",
      "   0\n",
      "   0\n",
      "   0\n",
      "   0\n",
      "   0\n",
      "   0\n",
      "   0\n",
      "   0\n",
      "   0\n",
      "   0\n",
      "   0\n",
      "   0\n",
      "   0\n",
      "\n"
     ]
    }
   ],
   "source": [
    "y_microchip = microchip_data(:,3)"
   ]
  },
  {
   "cell_type": "code",
   "execution_count": 56,
   "metadata": {},
   "outputs": [
    {
     "data": {
      "image/png": "[encoded data removed]",
      "text/plain": [
       "<IPython.core.display.Image object>"
      ]
     },
     "metadata": {},
     "output_type": "display_data"
    }
   ],
   "source": [
    "plotData(X_microchip,y_microchip);\n",
    "hold on;\n",
    "xlabel('Microchip Test 1');\n",
    "ylabel('Microchip Test 2');\n",
    "legend('y=1','y=0');\n",
    "hold off;"
   ]
  },
  {
   "cell_type": "markdown",
   "metadata": {},
   "source": [
    "### The equation for a regularized logistic regression cost function looks like this:"
   ]
  },
  {
   "cell_type": "markdown",
   "metadata": {},
   "source": [
    "$J(\\theta) = -\\frac{1}{m}\\displaystyle\\sum_{i=1}^{m}\\Bigg[y^{(i)}log(h_\\theta(x^{(i)})) + (1 - y^{(i)})log(1 - h_\\theta(x^{(i)}))\\Bigg] + \\frac{\\lambda}{2m}\\displaystyle\\sum_{j=1}^{n}\\theta_j^2\\Bigg]$"
   ]
  },
  {
   "cell_type": "markdown",
   "metadata": {},
   "source": [
    "### The equations for a regularized, logistic regression partial derivative used by ```fminunc``` for calculating gradient descent are:\n",
    "\n",
    "Again, we don't penalize $\\theta_0$.  So $\\theta_0$ continues to look like this (no change from before):\n",
    "\n",
    "$\\frac{\\partial J(\\theta)}{\\partial\\theta_j} = \\frac{1}{m}\\displaystyle\\sum_{i=1}^{m}\\Big(h_\\theta(x^{(i)}) - y^{(i)}\\Big)x_j^{(i)}$ for j = 0\n",
    "\n",
    "But we do penalize the other features using a simplified regularization parameter:\n",
    "\n",
    "$\\frac{\\partial J(\\theta)}{\\partial\\theta_j} - \\alpha\\frac{1}{m}\\displaystyle\\sum_{i=1}^{m}(h_\\theta(x^{(i)}) - y^{(i)})x^{(i)}_j + \\frac{\\lambda}{m}\\theta_j$ for j >= 1\n",
    "\n",
    "***NOTE: $h_\\theta(x)$ is the hyptothesis function for Logistic Regression (the Sigmoid function): $h_\\theta(x)=\\frac{1}{1 + e^{-\\theta^Tx}}$***"
   ]
  },
  {
   "cell_type": "code",
   "execution_count": 65,
   "metadata": {},
   "outputs": [],
   "source": [
    "#this tutorial was quite helpful, especially with the regularization:  https://www.coursera.org/learn/machine-learning/discussions/all/threads/GVdQ9vTdEeSUBCIAC9QURQ\n",
    "function [J, gradient] = costFunctionRegularized(theta, X, y, lambda)\n",
    "   m = length(y); #number of training samples\n",
    "   J = 0;\n",
    "   gradient = zeros(size(theta));\n",
    "   \n",
    "   h = sigmoid(X * theta);\n",
    "   \n",
    "   #vectorized cost function\n",
    "   unregularizedCost = ((-y' * log(h)) - ((1-y)' * log(1-h)))/m;\n",
    "\n",
    "   #remember, we don't want to penalize theta zero and Octave starts indexing array elements at 1 so we need to set that element to 0\n",
    "   theta(1) = 0;\n",
    "\n",
    "   #must use a transpose on order to multiply the dimensions\n",
    "   sumOfSquares = theta' * theta;\n",
    "   \n",
    "   costRegularizationTerm = (lambda/(2*m))*sumOfSquares;\n",
    "   \n",
    "   J = unregularizedCost + costRegularizationTerm;\n",
    "   \n",
    "   #vectorized gradient descent partial derivatives\n",
    "   errors = (h-y);\n",
    "   errorsMatrix = X'*errors;\n",
    "   unregularizedGradient = (1/m)*errorsMatrix;\n",
    "   \n",
    "   #compute the regularization term for gradient descent\n",
    "   gradientRegularizationTerm = (lambda/m) * theta;\n",
    "   \n",
    "   #now sum up the gradient descent calculation and the regularization term\n",
    "   gradient = unregularizedGradient + gradientRegularizationTerm;\n",
    "\n",
    "end"
   ]
  },
  {
   "cell_type": "code",
   "execution_count": 63,
   "metadata": {},
   "outputs": [
    {
     "name": "stdout",
     "output_type": "stream",
     "text": [
      "initial_theta =\n",
      "\n",
      "   0\n",
      "   0\n",
      "\n"
     ]
    }
   ],
   "source": [
    "initial_theta = zeros(size(X_microchip,2),1)"
   ]
  },
  {
   "cell_type": "code",
   "execution_count": 68,
   "metadata": {},
   "outputs": [],
   "source": [
    "lambda = 1; #taken from the exercise code in ex2_reg.m\n",
    "[J, gradient] = costFunctionRegularized(initial_theta,X_microchip,y_microchip,lambda);"
   ]
  },
  {
   "cell_type": "code",
   "execution_count": 69,
   "metadata": {},
   "outputs": [
    {
     "name": "stdout",
     "output_type": "stream",
     "text": [
      "J =  0.69315\n",
      "gradient =\n",
      "\n",
      "   1.8788e-02\n",
      "   7.7771e-05\n",
      "\n"
     ]
    }
   ],
   "source": [
    "J\n",
    "gradient"
   ]
  },
  {
   "cell_type": "code",
   "execution_count": null,
   "metadata": {},
   "outputs": [],
   "source": []
  }
 ],
 "metadata": {
  "kernelspec": {
   "display_name": "Octave",
   "language": "octave",
   "name": "octave"
  },
  "language_info": {
   "file_extension": ".m",
   "help_links": [
    {
     "text": "GNU Octave",
     "url": "https://www.gnu.org/software/octave/support.html"
    },
    {
     "text": "Octave Kernel",
     "url": "https://github.com/Calysto/octave_kernel"
    },
    {
     "text": "MetaKernel Magics",
     "url": "https://metakernel.readthedocs.io/en/latest/source/README.html"
    }
   ],
   "mimetype": "text/x-octave",
   "name": "octave",
   "version": "3.8.0"
  }
 },
 "nbformat": 4,
 "nbformat_minor": 4
}
